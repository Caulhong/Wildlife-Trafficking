{
 "cells": [
  {
   "cell_type": "code",
   "execution_count": 1,
   "id": "16e01856",
   "metadata": {},
   "outputs": [],
   "source": [
    "import string, unicodedata\n",
    "import inflect\n",
    "def fingerprint(value):\n",
    "    key = unicodedata.normalize('NFKD', value).encode('ascii','ignore').decode()\n",
    "    key = set(key.strip().lower().translate(str.maketrans('','',string.punctuation)).split())\n",
    "    key = ' '.join(sorted(list(key)))\n",
    "    return key\n",
    "def plural_to_singular(word):\n",
    "    p = inflect.engine()\n",
    "    return p.singular_noun(word)\n",
    "def singular_to_plural(word):\n",
    "    p = inflect.engine()\n",
    "    return p.plural(word)"
   ]
  },
  {
   "cell_type": "code",
   "execution_count": 3,
   "id": "16675f22",
   "metadata": {},
   "outputs": [
    {
     "name": "stdout",
     "output_type": "stream",
     "text": [
      "[['antilocapra americana', 'antilocapra americanas'], ['addax nasomaculatus', 'addax nasomaculatuses', 'addax nasomaculatu'], ['bos gaurus', 'bos gauruses', 'bos gauru'], ['bos mutus', 'bos mutuses', 'bos mutu'], ['bos sauveli', 'bos sauvelis'], ['bubalus depressicornis', 'bubalus depressicorniss', 'bubalus depressicorni'], ['bubalus mindorensis', 'bubalus mindorenses', 'bubalus mindorensi'], ['bubalus quarlesi', 'bubalus quarlesis'], ['capra falconeri', 'capra falconeris'], ['capricornis milneedwardsii', 'capricornis milneedwardsiis'], ['capricornis rubidus', 'capricornis rubiduses', 'capricornis rubidu'], ['capricornis sumatraensis', 'capricornis sumatraenses', 'capricornis sumatraensi'], ['capricornis thar', 'capricornis thars'], ['cephalophus jentinki', 'cephalophus jentinkis'], ['gazella cuvieri', 'gazella cuvieris'], ['gazella leptoceros', 'gazella leptoceross', 'gazella leptocero'], ['hippotragus niger variani', 'hippotragus niger varianis'], ['naemorhedus baileyi', 'naemorhedus baileyis'], ['naemorhedus caudatus', 'naemorhedus caudatuses', 'naemorhedus caudatu'], ['naemorhedus goral', 'naemorhedus gorals'], ['naemorhedus griseus', 'naemorhedus griseuses', 'naemorhedus griseu'], ['nanger dama', 'nanger damas'], ['oryx dammah', 'oryx dammahs'], ['oryx leucoryx', 'oryx leucoryxes'], ['ovis gmelini', 'ovis gmelinis'], ['ovis hodgsoni', 'ovis hodgsonis'], ['ovis nigrimontana', 'ovis nigrimontanas'], ['ovis vignei', 'ovis vigneis'], ['pantholops hodgsonii', 'pantholops hodgsoniis'], ['pseudoryx nghetinhensis', 'pseudoryx nghetinhenses', 'pseudoryx nghetinhensi'], ['vicugna vicugna', 'vicugna vicugnas'], ['axis calamianensis', 'axis calamianenses', 'axis calamianensi'], ['axis kuhlii', 'axis kuhliis'], ['axis porcinus annamiticus', 'axis porcinus annamiticuses', 'axis porcinus annamiticu'], ['blastocerus dichotomus', 'blastocerus dichotomuses', 'blastocerus dichotomu'], ['cervus elaphus hanglu', 'cervus elaphus hanglus'], ['dama dama mesopotamica', 'dama dama mesopotamicas'], ['hippocamelus', 'hippocameluses', 'hippocamelu'], ['muntiacus crinifrons', 'muntiacus crinifronss', 'muntiacus crinifron'], ['muntiacus vuquangensis', 'muntiacus vuquangenses', 'muntiacus vuquangensi'], ['ozotoceros bezoarticus', 'ozotoceros bezoarticuses', 'ozotoceros bezoarticu'], ['pudu puda', 'pudu pudas'], ['rucervus duvaucelii', 'rucervus duvauceliis'], ['rucervus eldii', 'rucervus eldiis'], ['moschus', 'moschuses', 'moschu'], ['babyrousa babyrussa', 'babyrousa babyrussas'], ['babyrousa bolabatuensis', 'babyrousa bolabatuenses', 'babyrousa bolabatuensi'], ['babyrousa celebensis', 'babyrousa celebenses', 'babyrousa celebensi'], ['babyrousa togeanensis', 'babyrousa togeanenses', 'babyrousa togeanensi'], ['sus salvanius', 'sus salvaniuses', 'sus salvaniu'], ['catagonus wagneri', 'catagonus wagneris'], ['ailurus fulgens', 'ailurus fulgenss', 'ailurus fulgen'], ['canis lupus', 'canis lupuses', 'canis lupu'], ['speothos venaticus', 'speothos venaticuses', 'speothos venaticu'], ['acinonyx jubatus', 'acinonyx jubatuses', 'acinonyx jubatu'], ['caracal caracal', 'caracal caracals'], ['catopuma temminckii', 'catopuma temminckiis'], ['felis nigripes', 'felis nigripess', 'felis nigripe'], ['herpailurus yagouaroundi', 'herpailurus yagouaroundis'], ['leopardus geoffroyi', 'leopardus geoffroyis'], ['leopardus guttulus', 'leopardus guttuluses', 'leopardus guttulu'], ['leopardus jacobita', 'leopardus jacobitas'], ['leopardus pardalis', 'leopardus pardaliss', 'leopardus pardali'], ['leopardus tigrinus', 'leopardus tigrinuses', 'leopardus tigrinu'], ['leopardus wiedii', 'leopardus wiediis'], ['lynx pardinus', 'lynx pardinuses', 'lynx pardinu'], ['neofelis diardi', 'neofelis diardis'], ['neofelis nebulosa', 'neofelis nebulosas'], ['panthera leo', 'panthera leos'], ['panthera onca', 'panthera oncas'], ['panthera pardus', 'panthera parduses', 'panthera pardu'], ['panthera tigris', 'panthera tigriss', 'panthera tigri'], ['panthera uncia', 'panthera uncias'], ['pardofelis marmorata', 'pardofelis marmoratas'], ['prionailurus bengalensis bengalensis', 'prionailurus bengalensis bengalenses', 'prionailurus bengalensis bengalensi'], ['prionailurus planiceps', 'prionailurus planiceps', 'prionailurus planiceps'], ['prionailurus rubiginosus', 'prionailurus rubiginosuses', 'prionailurus rubiginosu'], ['puma concolor', 'puma concolors'], ['aonyx capensis microdon', 'aonyx capensis microdons'], ['aonyx cinereus', 'aonyx cinereuses', 'aonyx cinereu'], ['enhydra lutris nereis', 'enhydra lutris nereiss', 'enhydra lutris nerei'], ['lontra felina', 'lontra felinas'], ['lontra longicaudis', 'lontra longicaudiss', 'lontra longicaudi'], ['lontra provocax', 'lontra provocaxes'], ['lutra lutra', 'lutra lutras'], ['lutra nippon', 'lutra nippons'], ['lutrogale perspicillata', 'lutrogale perspicillatas'], ['pteronura brasiliensis', 'pteronura brasilienses', 'pteronura brasiliensi'], ['mustela nigripes', 'mustela nigripess', 'mustela nigripe'], ['arctocephalus townsendi', 'arctocephalus townsendis'], ['monachus', 'monachuses', 'monachu'], ['ailuropoda melanoleuca', 'ailuropoda melanoleucas'], ['helarctos malayanus', 'helarctos malayanuses', 'helarctos malayanu'], ['melursus ursinus', 'melursus ursinuses', 'melursus ursinu'], ['tremarctos ornatus', 'tremarctos ornatuses', 'tremarctos ornatu'], ['ursus arctos', 'ursus arctoss', 'ursus arcto'], ['ursus arctos isabellinus', 'ursus arctos isabellinuses', 'ursus arctos isabellinu'], ['ursus thibetanus', 'ursus thibetanuses', 'ursus thibetanu'], ['prionodon pardicolor', 'prionodon pardicolors'], ['balaena mysticetus', 'balaena mysticetuses', 'balaena mysticetu'], ['eubalaena', 'eubalaenas'], ['balaenoptera acutorostrata', 'balaenoptera acutorostratas', 'balaenoptera acutorostratum'], ['balaenoptera bonaerensis', 'balaenoptera bonaerenses', 'balaenoptera bonaerensi'], ['balaenoptera borealis', 'balaenoptera borealiss', 'balaenoptera boreali'], ['balaenoptera edeni', 'balaenoptera edenis'], ['balaenoptera musculus', 'balaenoptera musculuses', 'balaenoptera musculu'], ['balaenoptera omurai', 'balaenoptera omurais'], ['balaenoptera physalus', 'balaenoptera physaluses', 'balaenoptera physalu'], ['megaptera novaeangliae', 'megaptera novaeangliaes'], ['orcaella brevirostris', 'orcaella brevirostriss', 'orcaella brevirostri'], ['orcaella heinsohni', 'orcaella heinsohnis'], ['sotalia', 'sotalias'], ['sousa', 'sousas'], ['eschrichtius robustus', 'eschrichtius robustuses', 'eschrichtius robustu'], ['lipotes vexillifer', 'lipotes vexillifers'], ['caperea marginata', 'caperea marginatas'], ['neophocaena asiaeorientalis', 'neophocaena asiaeorientaliss', 'neophocaena asiaeorientali'], ['neophocaena phocaenoides', 'neophocaena phocaenoidess', 'neophocaena phocaenoide'], ['phocoena sinus', 'phocoena sinuses'], ['physeter macrocephalus', 'physeter macrocephaluses', 'physeter macrocephalu'], ['platanista', 'platanistas'], ['berardius', 'berardiuses', 'berardiu'], ['hyperoodon', 'hyperoodons'], ['acerodon jubatus', 'acerodon jubatuses', 'acerodon jubatu'], ['pteropus insularis', 'pteropus insulariss', 'pteropus insulari'], ['pteropus loochoensis', 'pteropus loochoenses', 'pteropus loochoensi'], ['pteropus mariannus', 'pteropus mariannuses', 'pteropus mariannu'], ['pteropus molossinus', 'pteropus molossinuses', 'pteropus molossinu'], ['pteropus pelewensis', 'pteropus pelewenses', 'pteropus pelewensi'], ['pteropus pilosus', 'pteropus pilosuses', 'pteropus pilosu'], ['pteropus samoensis', 'pteropus samoenses', 'pteropus samoensi'], ['pteropus tonganus', 'pteropus tonganuses', 'pteropus tonganu'], ['pteropus ualanus', 'pteropus ualanuses', 'pteropus ualanu'], ['pteropus yapensis', 'pteropus yapenses', 'pteropus yapensi'], ['priodontes maximus', 'priodontes maximuses', 'priodontes maximu'], ['sminthopsis longicaudata', 'sminthopsis longicaudatas', 'sminthopsis longicaudatum'], ['sminthopsis psammophila', 'sminthopsis psammophilas'], ['lagorchestes hirsutus', 'lagorchestes hirsutuses', 'lagorchestes hirsutu'], ['lagostrophus fasciatus', 'lagostrophus fasciatuses', 'lagostrophus fasciatu'], ['onychogalea fraenata', 'onychogalea fraenatas'], ['bettongia', 'bettongias'], ['lasiorhinus krefftii', 'lasiorhinus krefftiis'], ['caprolagus hispidus', 'caprolagus hispiduses', 'caprolagus hispidu'], ['romerolagus diazi', 'romerolagus diazis'], ['perameles bougainville', 'perameles bougainvilles'], ['macrotis lagotis', 'macrotis lagotiss', 'macrotis lagoti'], ['equus africanus', 'equus africanuses', 'equus africanu'], ['equus grevyi', 'equus grevyis'], ['equus hemionus hemionus', 'equus hemionus hemionuses', 'equus hemionus hemionu'], ['equus hemionus khur', 'equus hemionus khurs'], ['equus hemionus luteus', 'equus hemionus luteuses', 'equus hemionus luteu'], ['equus przewalskii', 'equus przewalskiis'], ['rhinocerotidae', 'rhinocerotidaes'], ['tapiridae', 'tapiridaes'], ['manis crassicaudata', 'manis crassicaudatas', 'manis crassicaudatum'], ['manis culionensis', 'manis culionenses', 'manis culionensi'], ['manis gigantea', 'manis giganteas'], ['manis javanica', 'manis javanicas'], ['manis pentadactyla', 'manis pentadactylas'], ['manis temminckii', 'manis temminckiis'], ['manis tetradactyla', 'manis tetradactylas'], ['manis tricuspis', 'manis tricuspiss', 'manis tricuspi'], ['alouatta palliata', 'alouatta palliatas'], ['alouatta pigra', 'alouatta pigras'], ['ateles geoffroyi frontatus', 'ateles geoffroyi frontatuses', 'ateles geoffroyi frontatu'], ['ateles geoffroyi ornatus', 'ateles geoffroyi ornatuses', 'ateles geoffroyi ornatu'], ['brachyteles arachnoides', 'brachyteles arachnoidess', 'brachyteles arachnoide'], ['brachyteles hypoxanthus', 'brachyteles hypoxanthuses', 'brachyteles hypoxanthu'], ['oreonax flavicauda', 'oreonax flavicaudas'], ['callimico goeldii', 'callimico goeldiis'], ['callithrix aurita', 'callithrix auritas'], ['callithrix flaviceps', 'callithrix flaviceps', 'callithrix flaviceps'], ['leontopithecus', 'leontopithecuses', 'leontopithecu'], ['saguinus bicolor', 'saguinus bicolors'], ['saguinus geoffroyi', 'saguinus geoffroyis'], ['saguinus leucopus', 'saguinus leucopuses', 'saguinus leucopu'], ['saguinus martinsi', 'saguinus martinsis'], ['saguinus oedipus', 'saguinus oedipuses', 'saguinus oedipu'], ['saimiri oerstedii', 'saimiri oerstediis'], ['cercocebus galeritus', 'cercocebus galerituses', 'cercocebus galeritu'], ['cercopithecus diana', 'cercopithecus dianas'], ['cercopithecus roloway', 'cercopithecus roloways'], ['macaca silenus', 'macaca silenuses', 'macaca silenu'], ['macaca sylvanus', 'macaca sylvanuses', 'macaca sylvanu'], ['mandrillus leucophaeus', 'mandrillus leucophaeuses', 'mandrillus leucophaeu'], ['mandrillus sphinx', 'mandrillus sphinxes'], ['nasalis larvatus', 'nasalis larvatuses', 'nasalis larvatu'], ['piliocolobus kirkii', 'piliocolobus kirkiis'], ['piliocolobus rufomitratus', 'piliocolobus rufomitratuses', 'piliocolobus rufomitratu'], ['presbytis potenziani', 'presbytis potenzianis'], ['pygathrix', 'pygathrixes'], ['rhinopithecus', 'rhinopithecuses', 'rhinopithecu'], ['semnopithecus ajax', 'semnopithecus ajaxes'], ['semnopithecus dussumieri', 'semnopithecus dussumieris'], ['semnopithecus entellus', 'semnopithecus entelluses', 'semnopithecus entellu'], ['semnopithecus hector', 'semnopithecus hectors'], ['semnopithecus hypoleucos', 'semnopithecus hypoleucoss', 'semnopithecus hypoleuco'], ['semnopithecus priam', 'semnopithecus priams'], ['semnopithecus schistaceus', 'semnopithecus schistaceuses', 'semnopithecus schistaceu'], ['simias concolor', 'simias concolors'], ['trachypithecus geei', 'trachypithecus geeis'], ['trachypithecus pileatus', 'trachypithecus pileatuses', 'trachypithecus pileatu'], ['trachypithecus shortridgei', 'trachypithecus shortridgeis'], ['cheirogaleidae', 'cheirogaleidaes'], ['daubentonia madagascariensis', 'daubentonia madagascarienses', 'daubentonia madagascariensi'], ['gorilla beringei', 'gorilla beringeis'], ['gorilla gorilla', 'gorilla gorillas'], ['pan', 'pans'], ['pongo abelii', 'pongo abeliis'], ['pongo pygmaeus', 'pongo pygmaeuses', 'pongo pygmaeu'], ['pongo tapanuliensis', 'pongo tapanulienses', 'pongo tapanuliensi'], ['hylobatidae', 'hylobatidaes'], ['indriidae', 'indriidaes'], ['lemuridae', 'lemuridaes'], ['lepilemuridae', 'lepilemuridaes'], ['nycticebus', 'nycticebuses', 'nycticebu'], ['cacajao', 'cacajaos'], ['chiropotes albinasus', 'chiropotes albinasuses', 'chiropotes albinasu'], ['elephas maximus', 'elephas maximuses', 'elephas maximu'], ['loxodonta africana', 'loxodonta africanas'], ['chinchilla', 'chinchillas'], ['dugong dugon', 'dugong dugons'], ['trichechus inunguis', 'trichechus inunguiss', 'trichechus inungui'], ['trichechus manatus', 'trichechus manatuses', 'trichechus manatu'], ['trichechus senegalensis', 'trichechus senegalenses', 'trichechus senegalensi'], ['anas aucklandica', 'anas aucklandicas'], ['anas chlorotis', 'anas chlorotiss', 'anas chloroti'], ['anas laysanensis', 'anas laysanenses', 'anas laysanensi'], ['anas nesiotis', 'anas nesiotiss', 'anas nesioti'], ['asarcornis scutulata', 'asarcornis scutulatas'], ['branta sandvicensis', 'branta sandvicenses', 'branta sandvicensi'], ['rhodonessa caryophyllacea', 'rhodonessa caryophyllaceas'], ['glaucis dohrnii', 'glaucis dohrniis'], ['larus relictus', 'larus relictuses', 'larus relictu'], ['numenius borealis', 'numenius borealiss', 'numenius boreali'], ['numenius tenuirostris', 'numenius tenuirostriss', 'numenius tenuirostri'], ['tringa guttifer', 'tringa guttifers'], ['ciconia boyciana', 'ciconia boycianas'], ['jabiru mycteria', 'jabiru mycterias'], ['mycteria cinerea', 'mycteria cinereas'], ['geronticus eremita', 'geronticus eremitas'], ['nipponia nippon', 'nipponia nippons'], ['caloenas nicobarica', 'caloenas nicobaricas'], ['ducula mindorensis', 'ducula mindorenses', 'ducula mindorensi'], ['aceros nipalensis', 'aceros nipalenses', 'aceros nipalensi'], ['buceros bicornis', 'buceros bicorniss', 'buceros bicorni'], ['rhinoplax vigil', 'rhinoplax vigils'], ['rhyticeros subruficollis', 'rhyticeros subruficolliss', 'rhyticeros subruficolli'], ['aquila adalberti', 'aquila adalbertis'], ['aquila heliaca', 'aquila heliacas'], ['chondrohierax wilsonii', 'chondrohierax wilsoniis'], ['haliaeetus albicilla', 'haliaeetus albicillas'], ['harpia harpyja', 'harpia harpyjas'], ['pithecophaga jefferyi', 'pithecophaga jefferyis'], ['gymnogyps californianus', 'gymnogyps californianuses', 'gymnogyps californianu'], ['vultur gryphus', 'vultur gryphuses', 'vultur gryphu'], ['falco araeus', 'falco araeuses', 'falco araeu'], ['falco jugger', 'falco juggers'], ['falco newtoni', 'falco newtonis'], ['falco peregrinus', 'falco peregrinuses', 'falco peregrinu'], ['falco punctatus', 'falco punctatuses', 'falco punctatu'], ['falco rusticolus', 'falco rusticoluses', 'falco rusticolu'], ['crax blumenbachii', 'crax blumenbachiis'], ['mitu mitu', 'mitu mitus'], ['oreophasis derbianus', 'oreophasis derbianuses', 'oreophasis derbianu'], ['penelope albipennis', 'penelope albipenniss', 'penelope albipenni'], ['pipile jacutinga', 'pipile jacutingas'], ['pipile pipile', 'pipile pipiles'], ['macrocephalon maleo', 'macrocephalon maleos'], ['catreus wallichii', 'catreus wallichiis'], ['colinus virginianus ridgwayi', 'colinus virginianus ridgwayis'], ['crossoptilon crossoptilon', 'crossoptilon crossoptilons'], ['crossoptilon mantchuricum', 'crossoptilon mantchuricums'], ['lophophorus impejanus', 'lophophorus impejanuses', 'lophophorus impejanu'], ['lophophorus lhuysii', 'lophophorus lhuysiis'], ['lophophorus sclateri', 'lophophorus sclateris'], ['lophura edwardsi', 'lophura edwardsis'], ['lophura swinhoii', 'lophura swinhoiis'], ['polyplectron napoleonis', 'polyplectron napoleoniss', 'polyplectron napoleoni'], ['rheinardia ocellata', 'rheinardia ocellatas'], ['syrmaticus ellioti', 'syrmaticus elliotis'], ['syrmaticus humiae', 'syrmaticus humiaes'], ['syrmaticus mikado', 'syrmaticus mikadoes'], ['tetraogallus caspius', 'tetraogallus caspiuses', 'tetraogallus caspiu'], ['tetraogallus tibetanus', 'tetraogallus tibetanuses', 'tetraogallus tibetanu'], ['tragopan blythii', 'tragopan blythiis'], ['tragopan caboti', 'tragopan cabotis'], ['tragopan melanocephalus', 'tragopan melanocephaluses', 'tragopan melanocephalu'], ['antigone canadensis nesiotes', 'antigone canadensis nesiotess', 'antigone canadensis nesiote'], ['antigone canadensis pulla', 'antigone canadensis pullas'], ['antigone vipio', 'antigone vipios'], ['balearica pavonina', 'balearica pavoninas'], ['grus americana', 'grus americanas'], ['grus japonensis', 'grus japonenses', 'grus japonensi'], ['grus monacha', 'grus monachas'], ['grus nigricollis', 'grus nigricolliss', 'grus nigricolli'], ['leucogeranus leucogeranus', 'leucogeranus leucogeranuses', 'leucogeranus leucogeranu'], ['ardeotis nigriceps', 'ardeotis nigriceps', 'ardeotis nigriceps'], ['chlamydotis macqueenii', 'chlamydotis macqueeniis'], ['chlamydotis undulata', 'chlamydotis undulatas'], ['houbaropsis bengalensis', 'houbaropsis bengalenses', 'houbaropsis bengalensi'], ['hypotaenidia sylvestris', 'hypotaenidia sylvestriss', 'hypotaenidia sylvestri'], ['rhynochetos jubatus', 'rhynochetos jubatuses', 'rhynochetos jubatu'], ['atrichornis clamosus', 'atrichornis clamosuses', 'atrichornis clamosu'], ['cotinga maculata', 'cotinga maculatas'], ['xipholena atropurpurea', 'xipholena atropurpureas'], ['carduelis cucullata', 'carduelis cucullatas'], ['pseudochelidon sirintarae', 'pseudochelidon sirintaraes'], ['xanthopsar flavus', 'xanthopsar flavuses', 'xanthopsar flavu'], ['picathartes gymnocephalus', 'picathartes gymnocephaluses', 'picathartes gymnocephalu'], ['picathartes oreas', 'picathartes oreass', 'picathartes orea'], ['pitta gurneyi', 'pitta gurneyis'], ['pitta kochi', 'pitta kochis'], ['pycnonotus zeylanicus', 'pycnonotus zeylanicuses', 'pycnonotus zeylanicu'], ['leucopsar rothschildi', 'leucopsar rothschildis'], ['zosterops albogularis', 'zosterops albogulariss', 'zosterops albogulari'], ['fregata andrewsi', 'fregata andrewsis'], ['pelecanus crispus', 'pelecanus crispuses', 'pelecanus crispu'], ['papasula abbotti', 'papasula abbottis'], ['dryocopus javensis richardsi', 'dryocopus javensis richardsis'], ['podilymbus gigas', 'podilymbus gigass', 'podilymbus giga'], ['cacatua goffiniana', 'cacatua goffinianas'], ['cacatua haematuropygia', 'cacatua haematuropygias'], ['cacatua moluccensis', 'cacatua moluccenses', 'cacatua moluccensi'], ['cacatua sulphurea', 'cacatua sulphureas'], ['probosciger aterrimus', 'probosciger aterrimuses', 'probosciger aterrimu'], ['eos histrio', 'eos histrios'], ['vini ultramarina', 'vini ultramarinas'], ['amazona arausiaca', 'amazona arausiacas'], ['amazona auropalliata', 'amazona auropalliatas'], ['amazona barbadensis', 'amazona barbadenses', 'amazona barbadensi'], ['amazona brasiliensis', 'amazona brasilienses', 'amazona brasiliensi'], ['amazona finschi', 'amazona finschis'], ['amazona guildingii', 'amazona guildingiis'], ['amazona imperialis', 'amazona imperialiss', 'amazona imperiali'], ['amazona leucocephala', 'amazona leucocephalas'], ['amazona oratrix', 'amazona oratrixes'], ['amazona pretrei', 'amazona pretreis'], ['amazona rhodocorytha', 'amazona rhodocorythas'], ['amazona tucumana', 'amazona tucumanas'], ['amazona versicolor', 'amazona versicolors'], ['amazona vinacea', 'amazona vinaceas'], ['amazona viridigenalis', 'amazona viridigenaliss', 'amazona viridigenali'], ['amazona vittata', 'amazona vittatas'], ['anodorhynchus', 'anodorhynchuses', 'anodorhynchu'], ['ara ambiguus', 'ara ambiguuses', 'ara ambiguu'], ['ara glaucogularis', 'ara glaucogulariss', 'ara glaucogulari'], ['ara macao', 'ara macaos'], ['ara militaris', 'ara militariss', 'ara militari'], ['ara rubrogenys', 'ara rubrogenyss', 'ara rubrogeny'], ['cyanopsitta spixii', 'cyanopsitta spixiis'], ['cyanoramphus cookii', 'cyanoramphus cookiis'], ['cyanoramphus forbesi', 'cyanoramphus forbesis'], ['cyanoramphus novaezelandiae', 'cyanoramphus novaezelandiaes'], ['cyanoramphus saisseti', 'cyanoramphus saissetis'], ['cyclopsitta diophthalma coxeni', 'cyclopsitta diophthalma coxenis'], ['eunymphicus cornutus', 'eunymphicus cornutuses', 'eunymphicus cornutu'], ['guarouba guarouba', 'guarouba guaroubas'], ['neophema chrysogaster', 'neophema chrysogasters'], ['ognorhynchus icterotis', 'ognorhynchus icterotiss', 'ognorhynchus icteroti'], ['pezoporus flaviventris', 'pezoporus flaviventriss', 'pezoporus flaviventri'], ['pezoporus occidentalis', 'pezoporus occidentaliss', 'pezoporus occidentali'], ['pezoporus wallicus', 'pezoporus wallicuses', 'pezoporus wallicu'], ['pionopsitta pileata', 'pionopsitta pileatas'], ['primolius couloni', 'primolius coulonis'], ['primolius maracana', 'primolius maracanas'], ['psephotellus chrysopterygius', 'psephotellus chrysopterygiuses', 'psephotellus chrysopterygiu'], ['psephotellus dissimilis', 'psephotellus dissimiliss', 'psephotellus dissimili'], ['psephotellus pulcherrimus', 'psephotellus pulcherrimuses', 'psephotellus pulcherrimu'], ['psittacula echo', 'psittacula echoes'], ['psittacus erithacus', 'psittacus erithacuses', 'psittacus erithacu'], ['pyrrhura cruentata', 'pyrrhura cruentatas'], ['rhynchopsitta', 'rhynchopsittas'], ['strigops habroptila', 'strigops habroptilas'], ['pterocnemia pennata', 'pterocnemia pennatas'], ['spheniscus humboldti', 'spheniscus humboldtis'], ['heteroglaux blewitti', 'heteroglaux blewittis'], ['mimizuku gurneyi', 'mimizuku gurneyis'], ['ninox natalis', 'ninox nataliss', 'ninox natali'], ['tyto soumagnei', 'tyto soumagneis'], ['struthio camelus', 'struthio cameluses', 'struthio camelu'], ['tinamus solitarius', 'tinamus solitariuses', 'tinamus solitariu'], ['pharomachrus mocinno', 'pharomachrus mocinnoes'], ['alligator sinensis', 'alligator sinenses', 'alligator sinensi'], ['caiman crocodilus apaporiensis', 'caiman crocodilus apaporienses', 'caiman crocodilus apaporiensi'], ['caiman latirostris', 'caiman latirostriss', 'caiman latirostri'], ['melanosuchus niger', 'melanosuchus nigers'], ['crocodylus acutus', 'crocodylus acutuses', 'crocodylus acutu'], ['crocodylus cataphractus', 'crocodylus cataphractuses', 'crocodylus cataphractu'], ['crocodylus intermedius', 'crocodylus intermediuses', 'crocodylus intermediu'], ['crocodylus mindorensis', 'crocodylus mindorenses', 'crocodylus mindorensi'], ['crocodylus moreletii', 'crocodylus moreletiis'], ['crocodylus niloticus', 'crocodylus niloticuses', 'crocodylus niloticu'], ['crocodylus palustris', 'crocodylus palustriss', 'crocodylus palustri'], ['crocodylus porosus', 'crocodylus porosuses', 'crocodylus porosu'], ['crocodylus rhombifer', 'crocodylus rhombifers'], ['crocodylus siamensis', 'crocodylus siamenses', 'crocodylus siamensi'], ['osteolaemus tetraspis', 'osteolaemus tetraspiss', 'osteolaemus tetraspi'], ['tomistoma schlegelii', 'tomistoma schlegeliis'], ['gavialis gangeticus', 'gavialis gangeticuses', 'gavialis gangeticu'], ['sphenodon', 'sphenodons'], ['ceratophora erdeleni', 'ceratophora erdelenis'], ['ceratophora karu', 'ceratophora karus'], ['ceratophora tennentii', 'ceratophora tennentiis'], ['cophotis ceylanica', 'cophotis ceylanicas'], ['cophotis dumbara', 'cophotis dumbaras'], ['abronia anzuetoi', 'abronia anzuetois'], ['abronia campbelli', 'abronia campbellis'], ['abronia fimbriata', 'abronia fimbriatas'], ['abronia frosti', 'abronia frostis'], ['abronia meledona', 'abronia meledonas'], ['brookesia perarmata', 'brookesia perarmatas'], ['cnemaspis psychedelica', 'cnemaspis psychedelicas'], ['gonatodes daudini', 'gonatodes daudinis'], ['lygodactylus williamsi', 'lygodactylus williamsis'], ['heloderma horridum charlesbogerti', 'heloderma horridum charlesbogertis'], ['brachylophus', 'brachylophuses', 'brachylophu'], ['cyclura', 'cycluras'], ['sauromalus varius', 'sauromalus variuses', 'sauromalus variu'], ['gallotia simonyi', 'gallotia simonyis'], ['tiliqua adelaidensis', 'tiliqua adelaidenses', 'tiliqua adelaidensi'], ['varanus bengalensis', 'varanus bengalenses', 'varanus bengalensi'], ['varanus flavescens', 'varanus flavescenss', 'varanus flavescen'], ['varanus griseus', 'varanus griseuses', 'varanus griseu'], ['varanus komodoensis', 'varanus komodoenses', 'varanus komodoensi'], ['varanus nebulosus', 'varanus nebulosuses', 'varanus nebulosu'], ['shinisaurus crocodilurus', 'shinisaurus crocodiluruses', 'shinisaurus crocodiluru'], ['acrantophis', 'acrantophi', 'acrantophi'], ['boa constrictor occidentalis', 'boa constrictor occidentaliss', 'boa constrictor occidentali'], ['chilabothrus monensis', 'chilabothrus monenses', 'chilabothrus monensi'], ['chilabothrus subflavus', 'chilabothrus subflavuses', 'chilabothrus subflavu'], ['sanzinia madagascariensis', 'sanzinia madagascarienses', 'sanzinia madagascariensi'], ['bolyeria multocarinata', 'bolyeria multocarinatas'], ['casarea dussumieri', 'casarea dussumieris'], ['python molurus', 'python moluruses', 'python moluru'], ['vipera ursinii', 'vipera ursiniis'], ['pseudemydura umbrina', 'pseudemydura umbrinas'], ['cheloniidae', 'cheloniidaes'], ['dermochelys coriacea', 'dermochelys coriaceas'], ['glyptemys muhlenbergii', 'glyptemys muhlenbergiis'], ['terrapene coahuila', 'terrapene coahuilas'], ['batagur affinis', 'batagur affiniss', 'batagur affini'], ['batagur baska', 'batagur baskas'], ['batagur kachuga', 'batagur kachugas'], ['cuora bourreti', 'cuora bourretis'], ['cuora galbinifrons', 'cuora galbinifronss', 'cuora galbinifron'], ['cuora picturata', 'cuora picturatas'], ['geoclemys hamiltonii', 'geoclemys hamiltoniis'], ['mauremys annamensis', 'mauremys annamenses', 'mauremys annamensi'], ['melanochelys tricarinata', 'melanochelys tricarinatas'], ['morenia ocellata', 'morenia ocellatas'], ['pangshura tecta', 'pangshura tectas'], ['kinosternon cora', 'kinosternon coras'], ['kinosternon vogti', 'kinosternon vogtis'], ['platysternidae', 'platysternidaes'], ['astrochelys radiata', 'astrochelys radiatas'], ['astrochelys yniphora', 'astrochelys yniphoras'], ['chelonoidis niger', 'chelonoidis nigers'], ['geochelone elegans', 'geochelone eleganss', 'geochelone elegan'], ['geochelone platynota', 'geochelone platynotas'], ['gopherus flavomarginatus', 'gopherus flavomarginatuses', 'gopherus flavomarginatu'], ['malacochersus tornieri', 'malacochersus tornieris'], ['psammobates geometricus', 'psammobates geometricuses', 'psammobates geometricu'], ['pyxis arachnoides', 'pyxis arachnoidess', 'pyxis arachnoide'], ['pyxis planicauda', 'pyxis planicaudas'], ['testudo kleinmanni', 'testudo kleinmannis'], ['apalone spinifera atra', 'apalone spinifera atras'], ['chitra chitra', 'chitra chitras'], ['chitra vandijki', 'chitra vandijkis'], ['nilssonia gangetica', 'nilssonia gangeticas'], ['nilssonia hurum', 'nilssonia hurums'], ['nilssonia leithii', 'nilssonia leithiis'], ['nilssonia nigricans', 'nilssonia nigricanss', 'nilssonia nigrican'], ['altiphrynoides', 'altiphrynoide', 'altiphrynoide'], ['atelopus zeteki', 'atelopus zetekis'], ['incilius periglenes', 'incilius perigleness', 'incilius periglene'], ['nectophrynoides', 'nectophrynoide', 'nectophrynoide'], ['nimbaphrynoides', 'nimbaphrynoide', 'nimbaphrynoide'], ['sclerophrys channingi', 'sclerophrys channingis'], ['sclerophrys superciliaris', 'sclerophrys superciliariss', 'sclerophrys superciliari'], ['telmatobius culeus', 'telmatobius culeuses', 'telmatobius culeu'], ['andrias', 'andria', 'andria'], ['neurergus kaiseri', 'neurergus kaiseris'], ['pristidae', 'pristidaes'], ['acipenser brevirostrum', 'acipenser brevirostrums'], ['acipenser sturio', 'acipenser sturios'], ['chasmistes cujus', 'chasmistes cujuses', 'chasmistes cuju'], ['probarbus jullieni', 'probarbus jullienis'], ['scleropages formosus', 'scleropages formosuses', 'scleropages formosu'], ['scleropages inscriptus', 'scleropages inscriptuses', 'scleropages inscriptu'], ['totoaba macdonaldi', 'totoaba macdonaldis'], ['pangasianodon gigas', 'pangasianodon gigass', 'pangasianodon giga'], ['latimeria', 'latimerias'], ['achillides chikae chikae', 'achillides chikae chikaes'], ['achillides chikae hermeli', 'achillides chikae hermelis'], ['ornithoptera alexandrae', 'ornithoptera alexandraes'], ['papilio homerus', 'papilio homeruses', 'papilio homeru'], ['parides burchellanus', 'parides burchellanuses', 'parides burchellanu'], ['conradilla caelata', 'conradilla caelatas'], ['dromus dromas', 'dromus dromass', 'dromus droma'], ['epioblasma curtisii', 'epioblasma curtisiis'], ['epioblasma florentina', 'epioblasma florentinas'], ['epioblasma sampsonii', 'epioblasma sampsoniis'], ['epioblasma sulcata perobliqua', 'epioblasma sulcata perobliquas'], ['epioblasma torulosa gubernaculum', 'epioblasma torulosa gubernaculums'], ['epioblasma torulosa torulosa', 'epioblasma torulosa torulosas'], ['epioblasma turgidula', 'epioblasma turgidulas'], ['epioblasma walkeri', 'epioblasma walkeris'], ['fusconaia cuneolus', 'fusconaia cuneoluses', 'fusconaia cuneolu'], ['fusconaia edgariana', 'fusconaia edgarianas'], ['lampsilis higginsii', 'lampsilis higginsiis'], ['lampsilis orbiculata orbiculata', 'lampsilis orbiculata orbiculatas'], ['lampsilis satur', 'lampsilis saturs'], ['lampsilis virescens', 'lampsilis virescenss', 'lampsilis virescen'], ['plethobasus cicatricosus', 'plethobasus cicatricosuses', 'plethobasus cicatricosu'], ['plethobasus cooperianus', 'plethobasus cooperianuses', 'plethobasus cooperianu'], ['pleurobema plenum', 'pleurobema plenums'], ['potamilus capax', 'potamilus capaxes'], ['quadrula intermedia', 'quadrula intermedias'], ['quadrula sparsa', 'quadrula sparsas'], ['toxolasma cylindrella', 'toxolasma cylindrellas'], ['unio nickliniana', 'unio nicklinianas'], ['unio tampicoensis tecomatensis', 'unio tampicoensis tecomatenses', 'unio tampicoensis tecomatensi'], ['villosa trabalis', 'villosa trabaliss', 'villosa trabali'], ['achatinella', 'achatinellas'], ['polymita', 'polymitas'], ['agave parviflora', 'agave parvifloras'], ['pachypodium ambongense', 'pachypodium ambongenses'], ['pachypodium baronii', 'pachypodium baroniis'], ['pachypodium decaryi', 'pachypodium decaryis'], ['pachypodium windsorii', 'pachypodium windsoriis'], ['araucaria araucana', 'araucaria araucanas'], ['ariocarpus', 'ariocarpuses', 'ariocarpu'], ['astrophytum asterias', 'astrophytum asteriass', 'astrophytum asteria'], ['aztekium ritteri', 'aztekium ritteris'], ['coryphantha werdermannii', 'coryphantha werdermanniis'], ['discocactus', 'discocactuses', 'discocactu'], ['echinocereus ferreiranus ssp. lindsayorum', 'echinocereus ferreiranus ssp. lindsayorums'], ['echinocereus schmollii', 'echinocereus schmolliis'], ['escobaria minima', 'escobaria minimas'], ['escobaria sneedii', 'escobaria sneediis'], ['mammillaria pectinifera', 'mammillaria pectiniferas'], ['melocactus conoideus', 'melocactus conoideuses', 'melocactus conoideu'], ['melocactus deinacanthus', 'melocactus deinacanthuses', 'melocactus deinacanthu'], ['melocactus glaucescens', 'melocactus glaucescenss', 'melocactus glaucescen'], ['melocactus paucispinus', 'melocactus paucispinuses', 'melocactus paucispinu'], ['obregonia denegrii', 'obregonia denegriis'], ['pachycereus militaris', 'pachycereus militariss', 'pachycereus militari'], ['pediocactus bradyi', 'pediocactus bradyis'], ['pediocactus knowltonii', 'pediocactus knowltoniis'], ['pediocactus paradinei', 'pediocactus paradineis'], ['pediocactus peeblesianus', 'pediocactus peeblesianuses', 'pediocactus peeblesianu'], ['pediocactus sileri', 'pediocactus sileris'], ['pelecyphora', 'pelecyphoras'], ['sclerocactus blainei', 'sclerocactus blaineis'], ['sclerocactus brevihamatus ssp. tobuschii', 'sclerocactus brevihamatus ssp. tobuschiis'], ['sclerocactus brevispinus', 'sclerocactus brevispinuses', 'sclerocactus brevispinu'], ['sclerocactus cloverae', 'sclerocactus cloveraes'], ['sclerocactus erectocentrus', 'sclerocactus erectocentruses', 'sclerocactus erectocentru'], ['sclerocactus glaucus', 'sclerocactus glaucuses', 'sclerocactus glaucu'], ['sclerocactus mariposensis', 'sclerocactus mariposenses', 'sclerocactus mariposensi'], ['sclerocactus mesae-verdae', 'sclerocactus mesae-verdaes'], ['sclerocactus nyensis', 'sclerocactus nyenses', 'sclerocactus nyensi'], ['sclerocactus papyracanthus', 'sclerocactus papyracanthuses', 'sclerocactus papyracanthu'], ['sclerocactus pubispinus', 'sclerocactus pubispinuses', 'sclerocactus pubispinu'], ['sclerocactus sileri', 'sclerocactus sileris'], ['sclerocactus wetlandicus', 'sclerocactus wetlandicuses', 'sclerocactus wetlandicu'], ['sclerocactus wrightiae', 'sclerocactus wrightiaes'], ['strombocactus', 'strombocactuses', 'strombocactu'], ['turbinicarpus', 'turbinicarpuses', 'turbinicarpu'], ['uebelmannia', 'uebelmannias'], ['saussurea costus', 'saussurea costuses', 'saussurea costu'], ['fitzroya cupressoides', 'fitzroya cupressoidess', 'fitzroya cupressoide'], ['pilgerodendron uviferum', 'pilgerodendron uviferums'], ['cycas beddomei', 'cycas beddomeis'], ['euphorbia ambovombensis', 'euphorbia ambovombenses', 'euphorbia ambovombensi'], ['euphorbia capsaintemariensis', 'euphorbia capsaintemarienses', 'euphorbia capsaintemariensi'], ['euphorbia cremersii', 'euphorbia cremersiis'], ['euphorbia cylindrifolia', 'euphorbia cylindrifolias'], ['euphorbia decaryi', 'euphorbia decaryis'], ['euphorbia francoisii', 'euphorbia francoisiis'], ['euphorbia moratii', 'euphorbia moratiis'], ['euphorbia parvicyathophora', 'euphorbia parvicyathophoras'], ['euphorbia quartziticola', 'euphorbia quartziticolas'], ['euphorbia tulearensis', 'euphorbia tulearenses', 'euphorbia tulearensi'], ['fouquieria fasciculata', 'fouquieria fasciculatas'], ['fouquieria purpusii', 'fouquieria purpusiis'], ['dalbergia nigra', 'dalbergia nigras'], ['aloe albida', 'aloe albidas'], ['aloe albiflora', 'aloe albifloras'], ['aloe alfredii', 'aloe alfrediis'], ['aloe bakeri', 'aloe bakeris'], ['aloe bellatula', 'aloe bellatulas'], ['aloe calcairophila', 'aloe calcairophilas'], ['aloe compressa', 'aloe compressas'], ['aloe delphinensis', 'aloe delphinenses', 'aloe delphinensi'], ['aloe descoingsii', 'aloe descoingsiis'], ['aloe fragilis', 'aloe fragiliss', 'aloe fragili'], ['aloe haworthioides', 'aloe haworthioidess', 'aloe haworthioide'], ['aloe helenae', 'aloe helenaes'], ['aloe laeta', 'aloe laetas'], ['aloe parallelifolia', 'aloe parallelifolias'], ['aloe parvula', 'aloe parvulas'], ['aloe pillansii', 'aloe pillansiis'], ['aloe polyphylla', 'aloe polyphyllas'], ['aloe rauhii', 'aloe rauhiis'], ['aloe suzannae', 'aloe suzannaes'], ['aloe versicolor', 'aloe versicolors'], ['aloe vossii', 'aloe vossiis'], ['nepenthes khasiana', 'nepenthes khasianas'], ['nepenthes rajah', 'nepenthes rajahs'], ['aerangis ellisii', 'aerangis ellisiis'], ['cattleya jongheana', 'cattleya jongheanas'], ['cattleya lobata', 'cattleya lobatas'], ['dendrobium cruentum', 'dendrobium cruentums'], ['mexipedium xerophyticum', 'mexipedium xerophyticums'], ['paphiopedilum', 'paphiopedilums'], ['peristeria elata', 'peristeria elatas'], ['phragmipedium', 'phragmipediums'], ['renanthera imschootiana', 'renanthera imschootianas'], ['dypsis decipiens', 'dypsis decipienss', 'dypsis decipien'], ['abies guatemalensis', 'abies guatemalenses', 'abies guatemalensi'], ['podocarpus parlatorei', 'podocarpus parlatoreis'], ['balmea stormiae', 'balmea stormiaes'], ['sarracenia oreophila', 'sarracenia oreophilas'], ['sarracenia rubra ssp. alabamensis', 'sarracenia rubra ssp. alabamenses', 'sarracenia rubra ssp. alabamensi'], ['sarracenia rubra ssp. jonesii', 'sarracenia rubra ssp. jonesiis'], ['stangeria eriopus', 'stangeria eriopuses', 'stangeria eriopu'], ['ceratozamia', 'ceratozamias'], ['encephalartos', 'encephalarto', 'encephalarto'], ['microcycas calocoma', 'microcycas calocomas'], ['zamia restrepoi', 'zamia restrepois']]\n"
     ]
    }
   ],
   "source": [
    "import csv\n",
    "endangered_species = []\n",
    "with open('Species1.csv', mode ='r')as file:\n",
    "    csvFile = csv.reader(file)\n",
    "    for lines in csvFile:\n",
    "        if lines[0] != 'Species':\n",
    "            endangered_species.append(lines[0])\n",
    "length = len(endangered_species)\n",
    "for i in range(length):\n",
    "    endangered_species[i] = endangered_species[i].lower()\n",
    "    tmp = plural_to_singular(endangered_species[i])\n",
    "    if tmp == False:\n",
    "        endangered_species[i] = [endangered_species[i], singular_to_plural(endangered_species[i])]\n",
    "    else:\n",
    "        endangered_species[i] = [endangered_species[i], singular_to_plural(endangered_species[i]), tmp]\n",
    "print(endangered_species)"
   ]
  },
  {
   "cell_type": "code",
   "execution_count": 4,
   "id": "aaefa3c0",
   "metadata": {},
   "outputs": [
    {
     "name": "stdout",
     "output_type": "stream",
     "text": [
      "[['cobra', 'cobras'], ['python', 'pythons'], ['boa', 'boas'], ['snake', 'snakes'], ['lizard', 'lizards'], ['varanus', 'varanuses'], ['crocodile', 'crocodiles'], ['alligator', 'alligators'], ['lynx', 'lynxes'], ['monkey', 'monkeys'], ['macaque', 'macaques'], ['lemur', 'lemurs'], ['chimpanzee', 'chimpanzees'], ['gorilla', 'gorillas'], ['otter', 'otters'], ['turtle', 'turtles'], ['tortoise', 'tortoises'], ['owl', 'owls'], ['shark', 'sharks'], ['falcon', 'falcons'], ['eagle', 'eagles'], ['goshawk', 'goshawks'], ['sparrowhawk', 'sparrowhawks'], ['primate', 'primates'], ['bird', 'birds'], ['reptile', 'reptiles'], ['lion', 'lions'], ['cheetah', 'cheetahs'], ['leopard', 'leopards'], ['tiger', 'tigers'], ['ocelot', 'ocelots'], ['bear', 'bears'], ['elephant', 'elephants'], ['rhinoceros', 'rhinoceroses'], ['parrot', 'parrots'], ['macaw', 'macaws'], ['pangolin', 'pangolins'], ['clam', 'clams']]\n",
      "{'cobra': [['taxidermy', 'taxidermies'], ['scale', 'scales'], ['skin', 'skins'], ['skeleton', 'skeletons'], ['carcass', 'carcasses'], ['meat', 'meats'], ['leather', 'leathers'], ['trophy', 'trophies'], ['pelt', 'pelts'], ['hide', 'hides'], ['live', 'lives']], 'python': [['taxidermy', 'taxidermies'], ['scale', 'scales'], ['skin', 'skins'], ['skeleton', 'skeletons'], ['carcass', 'carcasses'], ['meat', 'meats'], ['leather', 'leathers'], ['trophy', 'trophies'], ['pelt', 'pelts'], ['hide', 'hides'], ['live', 'lives']], 'boa': [['taxidermy', 'taxidermies'], ['scale', 'scales'], ['skin', 'skins'], ['skeleton', 'skeletons'], ['carcass', 'carcasses'], ['meat', 'meats'], ['leather', 'leathers'], ['trophy', 'trophies'], ['pelt', 'pelts'], ['hide', 'hides'], ['live', 'lives']], 'snake': [['taxidermy', 'taxidermies'], ['scale', 'scales'], ['skin', 'skins'], ['skeleton', 'skeletons'], ['carcass', 'carcasses'], ['meat', 'meats'], ['leather', 'leathers'], ['trophy', 'trophies'], ['pelt', 'pelts'], ['hide', 'hides'], ['live', 'lives']], 'lizard': [['taxidermy', 'taxidermies'], ['scale', 'scales'], ['skin', 'skins'], ['claw', 'claws'], ['foot', 'feet'], ['feet', 'feets'], ['bone', 'bones'], ['skeleton', 'skeletons'], ['carcass', 'carcasses'], ['trophy', 'trophies'], ['pelt', 'pelts'], ['hide', 'hides'], ['live', 'lives']], 'varanus': [['taxidermy', 'taxidermies'], ['scale', 'scales'], ['skin', 'skins'], ['foot', 'feet'], ['feet', 'feets'], ['bone', 'bones'], ['skeleton', 'skeletons'], ['carcass', 'carcasses'], ['leather', 'leathers'], ['trophy', 'trophies'], ['pelt', 'pelts'], ['hide', 'hides'], ['live', 'lives']], 'crocodile': [['taxidermy', 'taxidermies'], ['scale', 'scales'], ['skin', 'skins'], ['paw', 'paws'], ['claw', 'claws'], ['foot', 'feet'], ['feet', 'feets'], ['teeth', 'teeths'], ['tooth', 'teeth'], ['skull', 'skulls'], ['bone', 'bones'], ['skeleton', 'skeletons'], ['carcass', 'carcasses'], ['meat', 'meats'], ['egg', 'eggs'], ['leather', 'leathers'], ['trophy', 'trophies'], ['pelt', 'pelts'], ['hide', 'hides'], ['live', 'lives']], 'alligator': [['taxidermy', 'taxidermies'], ['shell', 'shells'], ['scale', 'scales'], ['skin', 'skins'], ['paw', 'paws'], ['claw', 'claws'], ['foot', 'feet'], ['feet', 'feets'], ['teeth', 'teeths'], ['tooth', 'teeth'], ['skull', 'skulls'], ['bone', 'bones'], ['skeleton', 'skeletons'], ['carcass', 'carcasses'], ['meat', 'meats'], ['egg', 'eggs'], ['leather', 'leathers'], ['trophy', 'trophies'], ['pelt', 'pelts'], ['hide', 'hides'], ['live', 'lives']], 'lynx': [['taxidermy', 'taxidermies'], ['skin', 'skins'], ['fur', 'furs'], ['hair', 'hairs'], ['paw', 'paws'], ['foot', 'feet'], ['feet', 'feets'], ['skull', 'skulls'], ['bone', 'bones'], ['skeleton', 'skeletons'], ['carcass', 'carcasses'], ['meat', 'meats'], ['trophy', 'trophies'], ['pelt', 'pelts'], ['hide', 'hides'], ['live', 'lives']], 'monkey': [['taxidermy', 'taxidermies'], ['skin', 'skins'], ['fur', 'furs'], ['hair', 'hairs'], ['paw', 'paws'], ['claw', 'claws'], ['foot', 'feet'], ['feet', 'feets'], ['teeth', 'teeths'], ['tooth', 'teeth'], ['skull', 'skulls'], ['bone', 'bones'], ['skeleton', 'skeletons'], ['carcass', 'carcasses'], ['meat', 'meats'], ['trophy', 'trophies'], ['pelt', 'pelts'], ['hide', 'hides'], ['live', 'lives']], 'macaque': [['taxidermy', 'taxidermies'], ['skin', 'skins'], ['fur', 'furs'], ['paw', 'paws'], ['claw', 'claws'], ['foot', 'feet'], ['feet', 'feets'], ['teeth', 'teeths'], ['tooth', 'teeth'], ['skull', 'skulls'], ['bone', 'bones'], ['skeleton', 'skeletons'], ['carcass', 'carcasses'], ['meat', 'meats'], ['leather', 'leathers'], ['trophy', 'trophies'], ['pelt', 'pelts'], ['hide', 'hides'], ['live', 'lives']], 'lemur': [['taxidermy', 'taxidermies'], ['skin', 'skins'], ['fur', 'furs'], ['hair', 'hairs'], ['paw', 'paws'], ['claw', 'claws'], ['foot', 'feet'], ['feet', 'feets'], ['teeth', 'teeths'], ['tooth', 'teeth'], ['skull', 'skulls'], ['bone', 'bones'], ['skeleton', 'skeletons'], ['carcass', 'carcasses'], ['meat', 'meats'], ['trophy', 'trophies'], ['pelt', 'pelts'], ['hide', 'hides'], ['live', 'lives']], 'chimpanzee': [['taxidermy', 'taxidermies'], ['skin', 'skins'], ['fur', 'furs'], ['hair', 'hairs'], ['paw', 'paws'], ['claw', 'claws'], ['foot', 'feet'], ['feet', 'feets'], ['teeth', 'teeths'], ['tooth', 'teeth'], ['skull', 'skulls'], ['bone', 'bones'], ['skeleton', 'skeletons'], ['carcass', 'carcasses'], ['meat', 'meats'], ['trophy', 'trophies'], ['pelt', 'pelts'], ['hide', 'hides'], ['live', 'lives']], 'gorilla': [['taxidermy', 'taxidermies'], ['skin', 'skins'], ['fur', 'furs'], ['hair', 'hairs'], ['paw', 'paws'], ['foot', 'feet'], ['feet', 'feets'], ['teeth', 'teeths'], ['tooth', 'teeth'], ['skull', 'skulls'], ['bone', 'bones'], ['skeleton', 'skeletons'], ['carcass', 'carcasses'], ['meat', 'meats'], ['trophy', 'trophies'], ['pelt', 'pelts'], ['hide', 'hides'], ['live', 'lives']], 'otter': [['taxidermy', 'taxidermies'], ['skin', 'skins'], ['fur', 'furs'], ['hair', 'hairs'], ['paw', 'paws'], ['claw', 'claws'], ['foot', 'feet'], ['feet', 'feets'], ['teeth', 'teeths'], ['tooth', 'teeth'], ['skull', 'skulls'], ['bone', 'bones'], ['skeleton', 'skeletons'], ['carcass', 'carcasses'], ['meat', 'meats'], ['trophy', 'trophies'], ['pelt', 'pelts'], ['hide', 'hides'], ['live', 'lives']], 'turtle': [['taxidermy', 'taxidermies'], ['shell', 'shells'], ['scale', 'scales'], ['skin', 'skins'], ['paw', 'paws'], ['claw', 'claws'], ['foot', 'feet'], ['feet', 'feets'], ['skull', 'skulls'], ['bone', 'bones'], ['skeleton', 'skeletons'], ['carcass', 'carcasses'], ['meat', 'meats'], ['egg', 'eggs'], ['trophy', 'trophies'], ['live', 'lives']], 'tortoise': [['taxidermy', 'taxidermies'], ['shell', 'shells'], ['scale', 'scales'], ['skin', 'skins'], ['paw', 'paws'], ['claw', 'claws'], ['foot', 'feet'], ['feet', 'feets'], ['skull', 'skulls'], ['bone', 'bones'], ['skeleton', 'skeletons'], ['carcass', 'carcasses'], ['meat', 'meats'], ['egg', 'eggs'], ['trophy', 'trophies'], ['live', 'lives']], 'owl': [['taxidermy', 'taxidermies'], ['fur', 'furs'], ['claw', 'claws'], ['foot', 'feet'], ['feet', 'feets'], ['skull', 'skulls'], ['bone', 'bones'], ['skeleton', 'skeletons'], ['carcass', 'carcasses'], ['meat', 'meats'], ['feather', 'feathers'], ['egg', 'eggs'], ['trophy', 'trophies'], ['live', 'lives']], 'shark': [['taxidermy', 'taxidermies'], ['scale', 'scales'], ['skin', 'skins'], ['teeth', 'teeths'], ['tooth', 'teeth'], ['skull', 'skulls'], ['bone', 'bones'], ['skeleton', 'skeletons'], ['carcass', 'carcasses'], ['meat', 'meats'], ['egg', 'eggs'], ['leather', 'leathers'], ['trophy', 'trophies'], ['oil', 'oils'], ['bile', 'biles'], ['pelt', 'pelts'], ['hide', 'hides'], ['live', 'lives'], ['prey', 'preys'], ['taxidermy', 'taxidermies'], ['fur', 'furs'], ['claw', 'claws'], ['foot', 'feet'], ['feet', 'feets'], ['teeth', 'teeths'], ['tooth', 'teeth'], ['skull', 'skulls'], ['bone', 'bones'], ['skeleton', 'skeletons'], ['carcass', 'carcasses'], ['meat', 'meats'], ['feather', 'feathers'], ['egg', 'eggs'], ['trophy', 'trophies'], ['live', 'lives']], 'falcon': [['taxidermy', 'taxidermies'], ['fur', 'furs'], ['claw', 'claws'], ['foot', 'feet'], ['feet', 'feets'], ['skull', 'skulls'], ['bone', 'bones'], ['skeleton', 'skeletons'], ['carcass', 'carcasses'], ['meat', 'meats'], ['feather', 'feathers'], ['egg', 'eggs'], ['trophy', 'trophies'], ['live', 'lives']], 'eagle': [['taxidermy', 'taxidermies'], ['fur', 'furs'], ['claw', 'claws'], ['foot', 'feet'], ['feet', 'feets'], ['skull', 'skulls'], ['bone', 'bones'], ['skeleton', 'skeletons'], ['carcass', 'carcasses'], ['meat', 'meats'], ['feather', 'feathers'], ['egg', 'eggs'], ['trophy', 'trophies'], ['live', 'lives']], 'goshawk': [['taxidermy', 'taxidermies'], ['fur', 'furs'], ['claw', 'claws'], ['foot', 'feet'], ['feet', 'feets'], ['skull', 'skulls'], ['bone', 'bones'], ['skeleton', 'skeletons'], ['carcass', 'carcasses'], ['meat', 'meats'], ['feather', 'feathers'], ['egg', 'eggs'], ['trophy', 'trophies'], ['live', 'lives']], 'sparrowhawk': [['taxidermy', 'taxidermies'], ['fur', 'furs'], ['claw', 'claws'], ['foot', 'feet'], ['feet', 'feets'], ['skull', 'skulls'], ['bone', 'bones'], ['skeleton', 'skeletons'], ['carcass', 'carcasses'], ['meat', 'meats'], ['feather', 'feathers'], ['egg', 'eggs'], ['trophy', 'trophies'], ['live', 'lives']], 'primate': [['taxidermy', 'taxidermies'], ['skin', 'skins'], ['fur', 'furs'], ['hair', 'hairs'], ['paw', 'paws'], ['foot', 'feet'], ['feet', 'feets'], ['teeth', 'teeths'], ['tooth', 'teeth'], ['skull', 'skulls'], ['bone', 'bones'], ['skeleton', 'skeletons'], ['carcass', 'carcasses'], ['meat', 'meats'], ['trophy', 'trophies'], ['pelt', 'pelts'], ['hide', 'hides'], ['live', 'lives']], 'bird': [['taxidermy', 'taxidermies'], ['fur', 'furs'], ['claw', 'claws'], ['foot', 'feet'], ['feet', 'feets'], ['skull', 'skulls'], ['bone', 'bones'], ['skeleton', 'skeletons'], ['carcass', 'carcasses'], ['meat', 'meats'], ['feather', 'feathers'], ['egg', 'eggs'], ['trophy', 'trophies'], ['live', 'lives']], 'reptile': [['taxidermy', 'taxidermies'], ['shell', 'shells'], ['scale', 'scales'], ['skin', 'skins'], ['paw', 'paws'], ['claw', 'claws'], ['foot', 'feet'], ['feet', 'feets'], ['teeth', 'teeths'], ['tooth', 'teeth'], ['skull', 'skulls'], ['bone', 'bones'], ['skeleton', 'skeletons'], ['carcass', 'carcasses'], ['leather', 'leathers'], ['trophy', 'trophies'], ['oil', 'oils'], ['bile', 'biles'], ['leather', 'leathers'], ['pelt', 'pelts'], ['hide', 'hides'], ['live', 'lives']], 'lion': [['taxidermy', 'taxidermies'], ['skin', 'skins'], ['fur', 'furs'], ['hair', 'hairs'], ['paw', 'paws'], ['foot', 'feet'], ['feet', 'feets'], ['teeth', 'teeths'], ['tooth', 'teeth'], ['skull', 'skulls'], ['bone', 'bones'], ['skeleton', 'skeletons'], ['carcass', 'carcasses'], ['meat', 'meats'], ['leather', 'leathers'], ['trophy', 'trophies'], ['pelt', 'pelts'], ['hide', 'hides'], ['live', 'lives']], 'cheetah': [['taxidermy', 'taxidermies'], ['skin', 'skins'], ['fur', 'furs'], ['hair', 'hairs'], ['paw', 'paws'], ['foot', 'feet'], ['feet', 'feets'], ['teeth', 'teeths'], ['tooth', 'teeth'], ['skull', 'skulls'], ['bone', 'bones'], ['skeleton', 'skeletons'], ['carcass', 'carcasses'], ['meat', 'meats'], ['leather', 'leathers'], ['trophy', 'trophies'], ['pelt', 'pelts'], ['hide', 'hides'], ['live', 'lives']], 'leopard': [['taxidermy', 'taxidermies'], ['skin', 'skins'], ['fur', 'furs'], ['hair', 'hairs'], ['paw', 'paws'], ['foot', 'feet'], ['feet', 'feets'], ['teeth', 'teeths'], ['tooth', 'teeth'], ['skull', 'skulls'], ['bone', 'bones'], ['skeleton', 'skeletons'], ['carcass', 'carcasses'], ['meat', 'meats'], ['leather', 'leathers'], ['trophy', 'trophies'], ['pelt', 'pelts'], ['hide', 'hides'], ['live', 'lives']], 'tiger': [['taxidermy', 'taxidermies'], ['skin', 'skins'], ['fur', 'furs'], ['hair', 'hairs'], ['paw', 'paws'], ['foot', 'feet'], ['feet', 'feets'], ['teeth', 'teeths'], ['tooth', 'teeth'], ['skull', 'skulls'], ['bone', 'bones'], ['skeleton', 'skeletons'], ['carcass', 'carcasses'], ['meat', 'meats'], ['leather', 'leathers'], ['trophy', 'trophies'], ['pelt', 'pelts'], ['hide', 'hides'], ['live', 'lives']], 'ocelot': [['taxidermy', 'taxidermies'], ['skin', 'skins'], ['fur', 'furs'], ['hair', 'hairs'], ['paw', 'paws'], ['foot', 'feet'], ['feet', 'feets'], ['teeth', 'teeths'], ['tooth', 'teeth'], ['skull', 'skulls'], ['bone', 'bones'], ['skeleton', 'skeletons'], ['carcass', 'carcasses'], ['meat', 'meats'], ['leather', 'leathers'], ['trophy', 'trophies'], ['pelt', 'pelts'], ['hide', 'hides'], ['live', 'lives']], 'bear': [['taxidermy', 'taxidermies'], ['skin', 'skins'], ['fur', 'furs'], ['hair', 'hairs'], ['paw', 'paws'], ['claw', 'claws'], ['foot', 'feet'], ['feet', 'feets'], ['teeth', 'teeths'], ['tooth', 'teeth'], ['skull', 'skulls'], ['bone', 'bones'], ['skeleton', 'skeletons'], ['carcass', 'carcasses'], ['meat', 'meats'], ['leather', 'leathers'], ['trophy', 'trophies'], ['pelt', 'pelts'], ['hide', 'hides'], ['live', 'lives']], 'elephant': [['taxidermy', 'taxidermies'], ['skin', 'skins'], ['hair', 'hairs'], ['tusk', 'tusks'], ['paw', 'paws'], ['foot', 'feet'], ['feet', 'feets'], ['teeth', 'teeths'], ['tooth', 'teeth'], ['tusk', 'tusks'], ['horn', 'horns'], ['skull', 'skulls'], ['bone', 'bones'], ['skeleton', 'skeletons'], ['carcass', 'carcasses'], ['meat', 'meats'], ['leather', 'leathers'], ['trophy', 'trophies'], ['pelt', 'pelts'], ['hide', 'hides'], ['live', 'lives']], 'rhinoceros': [['taxidermy', 'taxidermies'], ['skin', 'skins'], ['tusk', 'tusks'], ['foot', 'feet'], ['feet', 'feets'], ['teeth', 'teeths'], ['tooth', 'teeth'], ['tusk', 'tusks'], ['horn', 'horns'], ['skull', 'skulls'], ['bone', 'bones'], ['skeleton', 'skeletons'], ['carcass', 'carcasses'], ['meat', 'meats'], ['leather', 'leathers'], ['trophy', 'trophies'], ['pelt', 'pelts'], ['hide', 'hides'], ['live', 'lives']], 'parrot': [['taxidermy', 'taxidermies'], ['fur', 'furs'], ['claw', 'claws'], ['foot', 'feet'], ['feet', 'feets'], ['skull', 'skulls'], ['bone', 'bones'], ['skeleton', 'skeletons'], ['carcass', 'carcasses'], ['meat', 'meats'], ['feather', 'feathers'], ['egg', 'eggs'], ['trophy', 'trophies'], ['live', 'lives']], 'macaw': [['taxidermy', 'taxidermies'], ['fur', 'furs'], ['claw', 'claws'], ['foot', 'feet'], ['feet', 'feets'], ['skull', 'skulls'], ['bone', 'bones'], ['skeleton', 'skeletons'], ['carcass', 'carcasses'], ['meat', 'meats'], ['feather', 'feathers'], ['egg', 'eggs'], ['trophy', 'trophies'], ['live', 'lives']], 'pangolin': [['taxidermy', 'taxidermies'], ['shell', 'shells'], ['scale', 'scales'], ['skin', 'skins'], ['paw', 'paws'], ['claw', 'claws'], ['foot', 'feet'], ['feet', 'feets'], ['teeth', 'teeths'], ['tooth', 'teeth'], ['skull', 'skulls'], ['bone', 'bones'], ['skeleton', 'skeletons'], ['carcass', 'carcasses'], ['meat', 'meats'], ['leather', 'leathers'], ['trophy', 'trophies'], ['pelt', 'pelts'], ['hide', 'hides'], ['live', 'lives']], 'clam': [['taxidermy', 'taxidermies'], ['shell', 'shells'], ['scale', 'scales'], ['carcass', 'carcasses'], ['meat', 'meats'], ['trophy', 'trophies'], ['oil', 'oils'], ['live', 'lives']]}\n"
     ]
    }
   ],
   "source": [
    "product_species = []\n",
    "product = {}\n",
    "with open('common_kws.txt') as file:\n",
    "    temp = \"\"\n",
    "    for line in file:\n",
    "        if line[-1] == '\\n':\n",
    "            line = line[:-1]\n",
    "        tmp = line.split()\n",
    "        if len(tmp) == 1:\n",
    "            product_species.append(line)\n",
    "            temp = line.lower()\n",
    "        if len(tmp) > 1:\n",
    "            if temp in product:\n",
    "                product[temp].append(tmp[-1])\n",
    "            else:\n",
    "                product[temp] = [tmp[-1]]\n",
    "length = len(product_species)\n",
    "for i in range(length):\n",
    "    product_species[i] = product_species[i].lower()\n",
    "    product_species[i] = [product_species[i], singular_to_plural(product_species[i])]\n",
    "for i in product:\n",
    "    length = len(product[i])\n",
    "    for k in range(length):\n",
    "        product[i][k] = product[i][k].lower()\n",
    "        product[i][k] = [product[i][k], singular_to_plural(product[i][k])]\n",
    "print(product_species)\n",
    "print(product)"
   ]
  },
  {
   "cell_type": "code",
   "execution_count": 6,
   "id": "f9c0a88b",
   "metadata": {},
   "outputs": [
    {
     "name": "stdout",
     "output_type": "stream",
     "text": [
      "[['struthio camelus', 'struthio camelu', 'struthio cameluses'], ['ostrich', 'ostriches'], ['canis lupus', 'canis lupu', 'canis lupuses'], ['wolf', 'wolves'], ['carcharhinus falciformis', 'carcharhinus falciformi', 'carcharhinus falciformiss'], ['silky shark', 'silky sharks'], ['carcharhinus longimanus', 'carcharhinus longimanu', 'carcharhinus longimanuses'], ['great white shark', 'great white sharks'], ['carcharias taurus', 'carcharias tauru', 'carcharias tauruses'], ['sand tiger shark', 'sand tiger sharks'], ['caiman latirostris', 'caiman latirostri', 'caiman latirostriss'], ['caiman latirostris', 'caiman latirostri', 'caiman latirostriss'], ['hippoglossus hippoglossus', 'hippoglossus hippoglossu', 'hippoglossus hippoglossuses'], ['halibut', 'halibuts'], ['calathus lundbladi', 'calathus lundbladis'], ['ground beetle', 'ground beetles'], ['crocodylus niloticus', 'crocodylus niloticu', 'crocodylus niloticuses'], ['nile crocodile', 'nile crocodiles'], ['sebastes fasciatus', 'sebastes fasciatu', 'sebastes fasciatuses'], ['redfish', 'redfish', 'redfish']]\n"
     ]
    }
   ],
   "source": [
    "top = []\n",
    "with open('top10.txt') as file:\n",
    "    for line in file:\n",
    "        if line[-1] == '\\n':\n",
    "            line = line[:-1]\n",
    "        top.append(line)\n",
    "length = len(top)\n",
    "for i in range(length):\n",
    "    top[i] = top[i].lower()\n",
    "    tmp = plural_to_singular(top[i])\n",
    "    if tmp == False:\n",
    "        top[i] = [top[i], singular_to_plural(top[i])]\n",
    "    else:\n",
    "        top[i] = [top[i], tmp, singular_to_plural(top[i])]\n",
    "print(top)"
   ]
  },
  {
   "cell_type": "code",
   "execution_count": 7,
   "id": "34b6b7a5",
   "metadata": {},
   "outputs": [
    {
     "name": "stderr",
     "output_type": "stream",
     "text": [
      "Setting default log level to \"WARN\".\n",
      "To adjust logging level use sc.setLogLevel(newLevel). For SparkR, use setLogLevel(newLevel).\n",
      "23/12/12 00:41:52 INFO org.apache.spark.SparkEnv: Registering MapOutputTracker\n",
      "23/12/12 00:41:52 INFO org.apache.spark.SparkEnv: Registering BlockManagerMaster\n",
      "23/12/12 00:41:52 INFO org.apache.spark.SparkEnv: Registering BlockManagerMasterHeartbeat\n",
      "23/12/12 00:41:52 INFO org.apache.spark.SparkEnv: Registering OutputCommitCoordinator\n"
     ]
    }
   ],
   "source": [
    "from pyspark import SparkContext, SparkConf\n",
    "cf = SparkConf()\n",
    "cf.set(\"spark.submit.deployMode\",\"client\")\n",
    "sc = SparkContext.getOrCreate(cf)\n",
    "from pyspark.sql import SparkSession\n",
    "spark = SparkSession \\\n",
    "\t    .builder \\\n",
    "\t    .appName(\"Python Spark SQL basic example\") \\\n",
    "\t    .config(\"spark.some.config.option\", \"some-value\") \\\n",
    "\t    .getOrCreate()\n",
    "                            "
   ]
  },
  {
   "cell_type": "code",
   "execution_count": 8,
   "id": "c3f95bc5",
   "metadata": {},
   "outputs": [
    {
     "name": "stderr",
     "output_type": "stream",
     "text": [
      "                                                                                \r"
     ]
    }
   ],
   "source": [
    "DF = spark.read.parquet(\"/shared/CS-GY-6513/projects/WildLife/processed-data-oct\")"
   ]
  },
  {
   "cell_type": "code",
   "execution_count": 9,
   "id": "9921857e",
   "metadata": {},
   "outputs": [],
   "source": [
    "DF = DF.select([DF.columns[i] for i in range(0, len(DF.columns)) if i != 16])"
   ]
  },
  {
   "cell_type": "code",
   "execution_count": 10,
   "id": "0fe24d33",
   "metadata": {},
   "outputs": [
    {
     "name": "stdout",
     "output_type": "stream",
     "text": [
      "root\n",
      " |-- url: string (nullable = true)\n",
      " |-- title: string (nullable = true)\n",
      " |-- text: string (nullable = true)\n",
      " |-- domain: string (nullable = true)\n",
      " |-- name: string (nullable = true)\n",
      " |-- description: string (nullable = true)\n",
      " |-- image: string (nullable = true)\n",
      " |-- retrieved: string (nullable = true)\n",
      " |-- production_data: string (nullable = true)\n",
      " |-- category: string (nullable = true)\n",
      " |-- price: double (nullable = true)\n",
      " |-- currency: string (nullable = true)\n",
      " |-- seller: string (nullable = true)\n",
      " |-- seller_type: string (nullable = true)\n",
      " |-- seller_url: string (nullable = true)\n",
      " |-- location: string (nullable = true)\n",
      " |-- id: string (nullable = true)\n",
      " |-- loc_name: string (nullable = true)\n",
      " |-- lat: double (nullable = true)\n",
      " |-- lon: double (nullable = true)\n",
      " |-- country: string (nullable = true)\n",
      " |-- product: string (nullable = true)\n",
      " |-- label_product: string (nullable = true)\n",
      " |-- score_product: double (nullable = true)\n",
      " |-- label: double (nullable = true)\n",
      " |-- score: double (nullable = true)\n",
      "\n"
     ]
    }
   ],
   "source": [
    "DF.printSchema()"
   ]
  },
  {
   "cell_type": "code",
   "execution_count": 11,
   "id": "345731c3",
   "metadata": {},
   "outputs": [
    {
     "name": "stderr",
     "output_type": "stream",
     "text": [
      "\r",
      "[Stage 1:>                                                          (0 + 1) / 1]\r"
     ]
    },
    {
     "name": "stdout",
     "output_type": "stream",
     "text": [
      "+--------------------------------------------------------------------------------------------------+\n",
      "|product                                                                                           |\n",
      "+--------------------------------------------------------------------------------------------------+\n",
      "|10 PACK 1/2 oz. Round jig heads with barb 2/0 or 3/0 Mustad bronze hooks $5.50 - PicClick         |\n",
      "|10 \"WIDE EYE\" Jig Head Crappie Trout Saltwater Lure Ultra Point Hook -Orange $17.15 - PicClick    |\n",
      "|13 FISHING SPIN Walker 4 1/4 inch Prop Pencil Hybrid Topwater Bass Hard Lure $20.28 - PicClick    |\n",
      "|1:6 HEAD SCULPT North American Gray Wolf Carved For 12\" Male Action Figure Body $46.99 - PicClick |\n",
      "|16X \"BULLET\" 8 oz Striper Ling Cod Grouper Halibut Saltwater Hook Jig Head Lures $65.00 - PicClick|\n",
      "|2X WOLF HEAD Car Side Fender Rear Trunk Emblem Badge Decals ( black $12.99 - PicClick            |\n",
      "|4PK BUCKTAIL JIG Squid Skirt Lure total 20 Skirts 12cm,9cm,7cm Choice of size $11.50 - PicClick   |\n",
      "|5 FOSSIL SHARK Teeth about 2 cm, found in Bone Valley Florida, lived 15-25 MYA $14.95 - PicClick  |\n",
      "|ACME KASTMASTER SPOON 1/4 oz. Mutli-Species, Trout, Bass & Walleye Fishing $9.68 - PicClick       |\n",
      "|ANTIQUE MODERN GREAT White Shark Tooth Sterling Cap Pendant Necklace 1-5/16 $449.00 - PicClick    |\n",
      "|BEAUTIFUL EXOTIC OSTRICH Leg Handmade Custom Quality Cowboy Boots 9D Exc Cond $175.00 - PicClick  |\n",
      "|BLACK GENUINE REAL Crocodile Leather Skin Hide Exotic Pelt Taxidermy Belly Skin $99.99 - PicClick |\n",
      "|BLACK REAL OSTRICH Skin Leather Sling Shoulder Bag, Women's Small Crossbody Bag $122.55 - PicClick|\n",
      "|CLIP IN HAIR Extensions Real Human Hair Weft Full Head 8 Pieces 12 14 16 18 Inch $18.57 - PicClick|\n",
      "|COTTON CORDELL ORIGINAL Pencil Popper Topwater Fishing Lure Striper Bass Pike $10.95 - PicClick   |\n",
      "|DAIWA ZAKANA CASTING Jigs Saltwater Casting & Vertical Jigging Lure $14.68 - PicClick             |\n",
      "|DEADLY DICK LURE #3 Long Casting Green 1.75oz $12.99 - PicClick                                   |\n",
      "|ETRA VINTAGE BROWN Lizard Leather Flat Shoulder Bag w Chain Strap Purse Clutch $45.00 - PicClick  |\n",
      "|EPPINGER REX SPOON 1/2 Oz Fresh/Salt Water Bass/Redfish Lure Gold $14.00 - PicClick               |\n",
      "|FOSSILIZED 0.99 INCH TIGER SHARK TOOTH & Bonus Items From Venice Florida $14.99 - PicClick        |\n",
      "+--------------------------------------------------------------------------------------------------+\n",
      "only showing top 20 rows\n",
      "\n"
     ]
    },
    {
     "name": "stderr",
     "output_type": "stream",
     "text": [
      "\r",
      "                                                                                \r"
     ]
    }
   ],
   "source": [
    "result = DF.filter(DF['label'] == 1).select('product')\n",
    "result.show(truncate=False)"
   ]
  },
  {
   "cell_type": "code",
   "execution_count": 12,
   "id": "70e2d986",
   "metadata": {},
   "outputs": [],
   "source": [
    "def fingerprint2(value):\n",
    "    res = value.split(\" \")\n",
    "    for i in range(len(res)):\n",
    "        res[i] = fingerprint(res[i])\n",
    "    return res\n",
    "def Filter(x):\n",
    "    ans1 = 0\n",
    "    res = \"\"\n",
    "    ans2 = 0\n",
    "    for i in range(len(x)):\n",
    "        if ans1:\n",
    "            break\n",
    "        for j in product_species:\n",
    "            if x[i] in j:\n",
    "                ans1 = 1\n",
    "                res = j[0]\n",
    "                break\n",
    "    if ans1 == 0:\n",
    "        return False\n",
    "    for i in range(len(x)):\n",
    "        for j in product[res]:\n",
    "            if x[i] in j:\n",
    "                return True\n",
    "    return False\n",
    "def mapfunction(x):\n",
    "    ans1 = \"\"\n",
    "    tmp = 0\n",
    "    ans2 = \"\"\n",
    "    for i in range(len(x)):\n",
    "        if tmp:\n",
    "            break\n",
    "        for j in product_species:\n",
    "            if x[i] in j:\n",
    "                ans1 = j[0]\n",
    "                tmp = 1\n",
    "                break\n",
    "    for i in range(len(x)):\n",
    "        for j in product[ans1]:\n",
    "            if x[i] in j:\n",
    "                ans2 = j[0]\n",
    "    return (ans1, ans2)\n",
    "RES = result.rdd.flatMap(list).map(fingerprint2).filter(Filter).map(mapfunction)"
   ]
  },
  {
   "cell_type": "code",
   "execution_count": 13,
   "id": "247fb087",
   "metadata": {},
   "outputs": [
    {
     "name": "stderr",
     "output_type": "stream",
     "text": [
      "\r",
      "[Stage 2:>                                                          (0 + 1) / 1]\r",
      "\r",
      "                                                                                \r"
     ]
    }
   ],
   "source": [
    "from pyspark.sql import Row\n",
    "RES = RES.map(lambda p: Row(species = p[0], derivative = p[1]))\n",
    "RES = spark.createDataFrame(RES)\n",
    "RES.createOrReplaceTempView(\"RES\")\n",
    "NEW = spark.sql(\"select species, count(distinct derivative) as distinct_derivatives, count(*) as count from RES group by species order by count desc\")"
   ]
  },
  {
   "cell_type": "code",
   "execution_count": 14,
   "id": "bbb7c93f",
   "metadata": {},
   "outputs": [
    {
     "name": "stderr",
     "output_type": "stream",
     "text": [
      "[Stage 3:================================================>        (16 + 3) / 19]\r"
     ]
    },
    {
     "name": "stdout",
     "output_type": "stream",
     "text": [
      "+----------+--------------------+-----+\n",
      "|   species|distinct_derivatives|count|\n",
      "+----------+--------------------+-----+\n",
      "|     shark|                  18| 4570|\n",
      "|     tiger|                   8| 2051|\n",
      "| crocodile|                   9| 1304|\n",
      "|      bird|                   6|  174|\n",
      "| alligator|                   9|  130|\n",
      "|     snake|                   6|  124|\n",
      "|      bear|                  10|   85|\n",
      "|    python|                   3|   15|\n",
      "|     otter|                   4|   12|\n",
      "|      lion|                   2|   11|\n",
      "|      lynx|                   2|   11|\n",
      "|     eagle|                   2|   10|\n",
      "|    turtle|                   3|    9|\n",
      "|   leopard|                   5|    8|\n",
      "|    lizard|                   2|    7|\n",
      "|      clam|                   1|    6|\n",
      "|     cobra|                   3|    6|\n",
      "|   reptile|                   3|    6|\n",
      "|       owl|                   1|    3|\n",
      "|  elephant|                   2|    3|\n",
      "|    monkey|                   1|    1|\n",
      "|chimpanzee|                   1|    1|\n",
      "|   gorilla|                   1|    1|\n",
      "|   macaque|                   1|    1|\n",
      "+----------+--------------------+-----+\n",
      "\n"
     ]
    },
    {
     "name": "stderr",
     "output_type": "stream",
     "text": [
      "\r",
      "                                                                                \r"
     ]
    }
   ],
   "source": [
    "NEW.show(100)"
   ]
  },
  {
   "cell_type": "code",
   "execution_count": 15,
   "id": "753f800e",
   "metadata": {},
   "outputs": [
    {
     "name": "stderr",
     "output_type": "stream",
     "text": [
      "                                                                                \r"
     ]
    },
    {
     "name": "stdout",
     "output_type": "stream",
     "text": [
      "+---------------------------------+\n",
      "|corr(distinct_derivatives, count)|\n",
      "+---------------------------------+\n",
      "|               0.8147839390773535|\n",
      "+---------------------------------+\n",
      "\n"
     ]
    }
   ],
   "source": [
    "from pyspark.sql.functions import corr\n",
    "NEW.select(corr(\"distinct_derivatives\", \"count\")).show()"
   ]
  },
  {
   "cell_type": "code",
   "execution_count": 16,
   "id": "b88c099c",
   "metadata": {
    "scrolled": true
   },
   "outputs": [
    {
     "name": "stderr",
     "output_type": "stream",
     "text": [
      "                                                                                \r"
     ]
    },
    {
     "data": {
      "image/png": "[encoded data removed]",
      "text/plain": [
       "<Figure size 432x288 with 1 Axes>"
      ]
     },
     "metadata": {
      "needs_background": "light"
     },
     "output_type": "display_data"
    }
   ],
   "source": [
    "NEW = NEW.toPandas()\n",
    "import matplotlib.pyplot as plt\n",
    "from sklearn.linear_model import LinearRegression\n",
    "X = NEW['distinct_derivatives'].values.reshape(-1, 1)\n",
    "Y = NEW['count'].values\n",
    "linear_regressor = LinearRegression()\n",
    "linear_regressor.fit(X, Y)\n",
    "Y_pred = linear_regressor.predict(X)\n",
    "plt.xlabel('derivatives')\n",
    "plt.ylabel('count of ads for animal product')\n",
    "plt.title('Linear Regression between the number of derivatives and the number of ads')\n",
    "plt.scatter(X, Y)\n",
    "plt.plot(X, Y_pred, color='red')\n",
    "plt.show()"
   ]
  },
  {
   "cell_type": "markdown",
   "id": "a9a2d7e6",
   "metadata": {},
   "source": [
    "Identify endangered species "
   ]
  },
  {
   "cell_type": "code",
   "execution_count": 17,
   "id": "18c2c71d",
   "metadata": {},
   "outputs": [
    {
     "name": "stdout",
     "output_type": "stream",
     "text": [
      "+--------------------------------------------------------------------------------------------------+------------+\n",
      "|product                                                                                           |domain      |\n",
      "+--------------------------------------------------------------------------------------------------+------------+\n",
      "|10 PACK 1/2 oz. Round jig heads with barb 2/0 or 3/0 Mustad bronze hooks $5.50 - PicClick         |picclick.com|\n",
      "|10 \"WIDE EYE\" Jig Head Crappie Trout Saltwater Lure Ultra Point Hook -Orange $17.15 - PicClick    |picclick.com|\n",
      "|13 FISHING SPIN Walker 4 1/4 inch Prop Pencil Hybrid Topwater Bass Hard Lure $20.28 - PicClick    |picclick.com|\n",
      "|1:6 HEAD SCULPT North American Gray Wolf Carved For 12\" Male Action Figure Body $46.99 - PicClick |picclick.com|\n",
      "|16X \"BULLET\" 8 oz Striper Ling Cod Grouper Halibut Saltwater Hook Jig Head Lures $65.00 - PicClick|picclick.com|\n",
      "|2X WOLF HEAD Car Side Fender Rear Trunk Emblem Badge Decals ( black $12.99 - PicClick            |picclick.com|\n",
      "|4PK BUCKTAIL JIG Squid Skirt Lure total 20 Skirts 12cm,9cm,7cm Choice of size $11.50 - PicClick   |picclick.com|\n",
      "|5 FOSSIL SHARK Teeth about 2 cm, found in Bone Valley Florida, lived 15-25 MYA $14.95 - PicClick  |picclick.com|\n",
      "|ACME KASTMASTER SPOON 1/4 oz. Mutli-Species, Trout, Bass & Walleye Fishing $9.68 - PicClick       |picclick.com|\n",
      "|ANTIQUE MODERN GREAT White Shark Tooth Sterling Cap Pendant Necklace 1-5/16 $449.00 - PicClick    |picclick.com|\n",
      "|BEAUTIFUL EXOTIC OSTRICH Leg Handmade Custom Quality Cowboy Boots 9D Exc Cond $175.00 - PicClick  |picclick.com|\n",
      "|BLACK GENUINE REAL Crocodile Leather Skin Hide Exotic Pelt Taxidermy Belly Skin $99.99 - PicClick |picclick.com|\n",
      "|BLACK REAL OSTRICH Skin Leather Sling Shoulder Bag, Women's Small Crossbody Bag $122.55 - PicClick|picclick.com|\n",
      "|CLIP IN HAIR Extensions Real Human Hair Weft Full Head 8 Pieces 12 14 16 18 Inch $18.57 - PicClick|picclick.com|\n",
      "|COTTON CORDELL ORIGINAL Pencil Popper Topwater Fishing Lure Striper Bass Pike $10.95 - PicClick   |picclick.com|\n",
      "|DAIWA ZAKANA CASTING Jigs Saltwater Casting & Vertical Jigging Lure $14.68 - PicClick             |picclick.com|\n",
      "|DEADLY DICK LURE #3 Long Casting Green 1.75oz $12.99 - PicClick                                   |picclick.com|\n",
      "|ETRA VINTAGE BROWN Lizard Leather Flat Shoulder Bag w Chain Strap Purse Clutch $45.00 - PicClick  |picclick.com|\n",
      "|EPPINGER REX SPOON 1/2 Oz Fresh/Salt Water Bass/Redfish Lure Gold $14.00 - PicClick               |picclick.com|\n",
      "|FOSSILIZED 0.99 INCH TIGER SHARK TOOTH & Bonus Items From Venice Florida $14.99 - PicClick        |picclick.com|\n",
      "+--------------------------------------------------------------------------------------------------+------------+\n",
      "only showing top 20 rows\n",
      "\n"
     ]
    }
   ],
   "source": [
    "result = DF.filter(DF['label'] == 1).select('product', 'domain')\n",
    "result.show(truncate=False)"
   ]
  },
  {
   "cell_type": "code",
   "execution_count": 18,
   "id": "88365e66",
   "metadata": {},
   "outputs": [],
   "source": [
    "def Filter1(x):\n",
    "    for i in range(len(x[0])):\n",
    "        for j in endangered_species:\n",
    "            if x[0][i] in j:\n",
    "                return True\n",
    "            if i >= 1 and (x[0][i-1] + \" \" + x[0][i]) in j:\n",
    "                return True\n",
    "            if i >= 2 and (x[0][i-2] + \" \" + x[0][i-1] + \" \" + x[0][i]) in j:\n",
    "                return True\n",
    "    return False\n",
    "def mapfunction1(x):\n",
    "    for i in range(len(x[0])):\n",
    "        for j in endangered_species:\n",
    "            if x[0][i] in j:\n",
    "                return [j[0], x[1]]\n",
    "            if i >= 1 and (x[0][i-1] + \" \" + x[0][i]) in j:\n",
    "                return [j[0], x[1]]\n",
    "            if i >= 2 and (x[0][i-2] + \" \" + x[0][i-1] + \" \" + x[0][i]) in j:\n",
    "                return [j[0], x[1]]\n",
    "RES = result.rdd.map(lambda x: [fingerprint2(x[0]), x[1]]).filter(Filter1).map(mapfunction1)\n",
    "RES = RES.map(lambda x: (x[0]+ ';' + x[1].split('.')[0], 1)).reduceByKey(lambda x, y: x+y)\n",
    "RES= RES.map(lambda x: [x[0].split(';')[0], x[0].split(';')[1], x[1]])"
   ]
  },
  {
   "cell_type": "code",
   "execution_count": 19,
   "id": "e7eadb83",
   "metadata": {},
   "outputs": [
    {
     "name": "stderr",
     "output_type": "stream",
     "text": [
      "                                                                                \r"
     ]
    }
   ],
   "source": [
    "RES = RES.map(lambda p: Row(species = p[0], website = p[1], count = p[2]))\n",
    "RES = spark.createDataFrame(RES)\n",
    "RES.createOrReplaceTempView(\"RES\")\n",
    "TMP = spark.sql(\"select species, website, count from RES order by count desc\")"
   ]
  },
  {
   "cell_type": "code",
   "execution_count": 20,
   "id": "d0969b5a",
   "metadata": {},
   "outputs": [
    {
     "name": "stdout",
     "output_type": "stream",
     "text": [
      "+--------------------+-----------+-----+\n",
      "|             species|    website|count|\n",
      "+--------------------+-----------+-----+\n",
      "|         canis lupus|       ebay| 2101|\n",
      "|    struthio camelus|       ebay| 1383|\n",
      "|crocodylus niloticus|       ebay|  745|\n",
      "|  caiman latirostris|       ebay|  379|\n",
      "|crocodylus niloticus|   picclick|   32|\n",
      "|         canis lupus|   picclick|   14|\n",
      "|  caiman latirostris|   picclick|   13|\n",
      "|                 pan|   picclick|    7|\n",
      "|    struthio camelus|   picclick|    6|\n",
      "|          chinchilla|glacierwear|    6|\n",
      "|                 pan|       ebay|    3|\n",
      "|        brachylophus|       ebay|    2|\n",
      "|                 pan|    ecrater|    2|\n",
      "|          chinchilla|       ebay|    1|\n",
      "|         canis lupus|    ecrater|    1|\n",
      "|                 pan|  trocadero|    1|\n",
      "|                 pan|   preloved|    1|\n",
      "|crocodylus niloticus|  trocadero|    1|\n",
      "+--------------------+-----------+-----+\n",
      "\n"
     ]
    }
   ],
   "source": [
    "TMP.createOrReplaceTempView(\"TMP\")\n",
    "spark.sql(\"select * from TMP\").show()"
   ]
  },
  {
   "cell_type": "code",
   "execution_count": 21,
   "id": "29229d60",
   "metadata": {},
   "outputs": [
    {
     "name": "stdout",
     "output_type": "stream",
     "text": [
      "+--------------------+\n",
      "|             species|\n",
      "+--------------------+\n",
      "|        brachylophus|\n",
      "|  caiman latirostris|\n",
      "|         canis lupus|\n",
      "|          chinchilla|\n",
      "|crocodylus niloticus|\n",
      "|                 pan|\n",
      "|    struthio camelus|\n",
      "+--------------------+\n",
      "\n"
     ]
    }
   ],
   "source": [
    "spe = spark.sql(\"select distinct species from TMP order by species\")\n",
    "spe.show()\n",
    "spe.createOrReplaceTempView(\"spe\")"
   ]
  },
  {
   "cell_type": "code",
   "execution_count": 22,
   "id": "d74b9c95",
   "metadata": {},
   "outputs": [],
   "source": [
    "df1 = spark.sql(\"\"\"\n",
    "    SELECT spe.species, COALESCE(tmp1.count, 0) as count\n",
    "    FROM spe\n",
    "    FULL OUTER JOIN (\n",
    "        SELECT species, SUM(count) as count\n",
    "        FROM TMP\n",
    "        WHERE website = 'ebay'\n",
    "        GROUP BY species\n",
    "    ) AS tmp1\n",
    "    ON spe.species = tmp1.species\n",
    "    ORDER BY spe.species\n",
    "\"\"\").toPandas()\n",
    "\n",
    "df2 = spark.sql(\"\"\"\n",
    "    SELECT spe.species, COALESCE(tmp1.count, 0) as count\n",
    "    FROM spe\n",
    "    FULL OUTER JOIN (\n",
    "        SELECT species, SUM(count) as count\n",
    "        FROM TMP\n",
    "        WHERE website = 'picclick'\n",
    "        GROUP BY species\n",
    "    ) AS tmp1\n",
    "    ON spe.species = tmp1.species\n",
    "    ORDER BY spe.species\n",
    "\"\"\").toPandas()\n",
    "\n",
    "df3 = spark.sql(\"\"\"\n",
    "    SELECT spe.species, COALESCE(tmp1.count, 0) as count\n",
    "    FROM spe\n",
    "    FULL OUTER JOIN (\n",
    "        SELECT species, SUM(count) as count\n",
    "        FROM TMP\n",
    "        WHERE website = 'glacierwear'\n",
    "        GROUP BY species\n",
    "    ) AS tmp1\n",
    "    ON spe.species = tmp1.species\n",
    "    ORDER BY spe.species\n",
    "\"\"\").toPandas()\n",
    "\n",
    "df4 = spark.sql(\"\"\"\n",
    "    SELECT spe.species, COALESCE(tmp1.count, 0) as count\n",
    "    FROM spe\n",
    "    FULL OUTER JOIN (\n",
    "        SELECT species, SUM(count) as count\n",
    "        FROM TMP\n",
    "        WHERE website = 'trocadero'\n",
    "        GROUP BY species\n",
    "    ) AS tmp1\n",
    "    ON spe.species = tmp1.species\n",
    "    ORDER BY spe.species\n",
    "\"\"\").toPandas()\n",
    "\n",
    "df5 = spark.sql(\"\"\"\n",
    "    SELECT spe.species, COALESCE(tmp1.count, 0) as count\n",
    "    FROM spe\n",
    "    FULL OUTER JOIN (\n",
    "        SELECT species, SUM(count) as count\n",
    "        FROM TMP\n",
    "        WHERE website = 'ecrater'\n",
    "        GROUP BY species\n",
    "    ) AS tmp1\n",
    "    ON spe.species = tmp1.species\n",
    "    ORDER BY spe.species\n",
    "\"\"\").toPandas()\n",
    "\n",
    "df6 = spark.sql(\"\"\"\n",
    "    SELECT spe.species, COALESCE(tmp1.count, 0) as count\n",
    "    FROM spe\n",
    "    FULL OUTER JOIN (\n",
    "        SELECT species, SUM(count) as count\n",
    "        FROM TMP\n",
    "        WHERE website = 'preloved'\n",
    "        GROUP BY species\n",
    "    ) AS tmp1\n",
    "    ON spe.species = tmp1.species\n",
    "    ORDER BY spe.species\n",
    "\"\"\").toPandas()\n"
   ]
  },
  {
   "cell_type": "code",
   "execution_count": 23,
   "id": "005713e2",
   "metadata": {},
   "outputs": [
    {
     "data": {
      "image/png": "[encoded data removed]",
      "text/plain": [
       "<Figure size 864x288 with 1 Axes>"
      ]
     },
     "metadata": {
      "needs_background": "light"
     },
     "output_type": "display_data"
    }
   ],
   "source": [
    "x = df1['species']\n",
    "y1 = df1['count']\n",
    "y2 = df2['count']\n",
    "y3 = df3['count']\n",
    "y4 = df4['count']\n",
    "y5 = df5['count']\n",
    "y6 = df6['count']\n",
    "plt.figure(figsize = (12, 4))\n",
    "plt.bar(x,y1,width=0.4,label='ebay',color='#f9766e',edgecolor='grey',zorder=5)\n",
    "plt.bar(x,y2,width=0.4,bottom=y1,label='picclick',color='#00bfc4',edgecolor='grey',zorder=5)\n",
    "plt.bar(x,y3,width=0.4,bottom=y2,label='glacierwear',color='#002345',edgecolor='grey',zorder=5)\n",
    "plt.bar(x,y4,width=0.4,bottom=y3,label='trocadero',color='#00345b',edgecolor='grey',zorder=5)\n",
    "plt.bar(x,y5,width=0.4,bottom=y4,label='ecrater',color='#00c453',edgecolor='grey',zorder=5)\n",
    "plt.bar(x,y6,width=0.4,bottom=y5,label='preloved',color='#00f3e3',edgecolor='grey',zorder=5)\n",
    "plt.tick_params(axis='x',length=0)\n",
    "plt.xlabel('Endangered Species',fontsize=2)\n",
    "plt.ylabel('Website',fontsize=12)\n",
    "plt.grid(axis='y',alpha=0.5,ls='--')\n",
    "plt.legend(frameon=False)\n",
    "plt.tight_layout()\n",
    "plt.savefig('bar1.png', dpi=600)\n",
    "plt.show()\n"
   ]
  },
  {
   "cell_type": "code",
   "execution_count": 24,
   "id": "c51563ac",
   "metadata": {},
   "outputs": [
    {
     "name": "stderr",
     "output_type": "stream",
     "text": [
      "[Stage 147:========================================>              (14 + 5) / 19]\r"
     ]
    },
    {
     "name": "stdout",
     "output_type": "stream",
     "text": [
      "+--------------------+-----+\n",
      "|             species|count|\n",
      "+--------------------+-----+\n",
      "|                wolf| 7502|\n",
      "|   great white shark| 6515|\n",
      "|             ostrich| 5901|\n",
      "|    sand tiger shark| 4704|\n",
      "|      nile crocodile| 3219|\n",
      "|             redfish| 2785|\n",
      "|             halibut| 2686|\n",
      "|         silky shark| 2245|\n",
      "|       ground beetle| 2199|\n",
      "|         canis lupus| 1521|\n",
      "|    struthio camelus| 1181|\n",
      "|crocodylus niloticus|  454|\n",
      "|  caiman latirostris|  392|\n",
      "|   carcharias taurus|  317|\n",
      "|hippoglossus hipp...|  261|\n",
      "|carcharhinus long...|  129|\n",
      "|carcharhinus falc...|   94|\n",
      "+--------------------+-----+\n",
      "\n"
     ]
    },
    {
     "name": "stderr",
     "output_type": "stream",
     "text": [
      "\r",
      "                                                                                \r"
     ]
    }
   ],
   "source": [
    "def Filter2(x):\n",
    "    for i in range(len(x)):\n",
    "        for j in top:\n",
    "            if x[i] in j:\n",
    "                return True\n",
    "            if i >= 1 and (x[i-1] + \" \" + x[i]) in j:\n",
    "                return True\n",
    "            if i >= 2 and (x[i-2] + \" \" + x[i-1] + \" \" + x[i]) in j:\n",
    "                return True\n",
    "    return False\n",
    "def mapfunction2(x):\n",
    "    for i in range(len(x)):\n",
    "        for j in top:\n",
    "            if x[i] in j:\n",
    "                return j[0]\n",
    "            if i >= 1 and (x[i-1] + \" \" + x[i]) in j:\n",
    "                return j[0]\n",
    "            if i >= 2 and (x[i-2] + \" \" + x[i-1] + \" \" + x[i]) in j:\n",
    "                return j[0]\n",
    "RES = result.rdd.flatMap(list).map(fingerprint2).filter(Filter2).map(mapfunction2)\n",
    "RES = RES.map(lambda p: Row(species = p))\n",
    "RES = spark.createDataFrame(RES)\n",
    "RES.createOrReplaceTempView(\"RES\")\n",
    "spark.sql(\"select species, count(*) as count from RES group by species order by count desc\").show()"
   ]
  },
  {
   "cell_type": "code",
   "execution_count": 25,
   "id": "c39d5755",
   "metadata": {},
   "outputs": [
    {
     "name": "stdout",
     "output_type": "stream",
     "text": [
      "+--------------------------------------------------------------------------------------------------------------------------------------------------------------------------------------------------------------------------------------------------------------------------------+-----------------+-------------------+\n",
      "|product                                                                                                                                                                                                                                                                         |production_data  |location           |\n",
      "+--------------------------------------------------------------------------------------------------------------------------------------------------------------------------------------------------------------------------------------------------------------------------------+-----------------+-------------------+\n",
      "|Francine Tint - Wolf Mother For Sale at 1stDibs | wolf tint, mother tint, francine wolf                                                                                                                                                                                         |2010-            |Bridgehampton, NY  |\n",
      "|Louis Feraud Nut Wool Cape Coat For Sale at 1stDibs | louis feraud watch price, brown cape coat, louis feraud wool coat                                                                                                                                                         |1970-1979        |Paris, FR          |\n",
      "|HermÚs Honey Ostrich 40 cm Birkin with Gold Hardware For Sale at 1stDibs | birkin bag, most expensive purse, ostrich purse                                                                                                                                                      |1990-1999        |Palm Beach, FL     |\n",
      "|Pair of Italian Armchairs with Black Metal Feet For Sale at 1stDibs                                                                                                                                                                                                             |Late 20th Century|Saint-Ouen, FR     |\n",
      "|Dolce and Gabbana Textured Lurex and Caiman Leather Briefcase Bag Black Gold For Sale at 1stDibs                                                                                                                                                                                |21st Century     |Erkrath, DE        |\n",
      "|Fine Taxidermy 5 Meter Nile Crocodile by Sinke and Van Tongeren For Sale at 1stDibs | nile crocodile taxidermy, crocodile taxidermy for sale, real stuffed crocodile                                                                                                            |21st Century     |Haarlem, NL        |\n",
      "|Egyptian Revival King Tut Khepri Scarab Necklace 18Kt Gold with Carved Gemstones For Sale at 1stDibs | who is the scarab ac origins, egyptian necklace pendant, scarab jewelry                                                                                                  |Late 20th Century|Miami, FL          |\n",
      "|Coffer Shoulder Bag Matelasse Leather White by Miu Miu For Sale at 1stDibs | white leather shoulder bag, miu miu pearl bag, miu miu matelasse coffer bag                                                                                                                        |21st Century     |Bilbao, ES         |\n",
      "|Van Cleef and Arpels Perlée Pearls of Gold 5 Row 18K Yellow Gold Bracelet M For Sale at 1stDibs | perlee bracelet, vca perlee pearls of gold bracelet, perlee pearls of gold bracelet                                                                                           |2010-            |Dubai, AE          |\n",
      "|Golden Star Rutilated Quartz Gold Black Silver Necklace, Dana Kellin 2023 For Sale at 1stDibs                                                                                                                                                                                   |2010-            |Dallas, TX         |\n",
      "|Laurence Le Constant - Heart and Spine, abstract wall sculpture, coloured texture flowers sun For Sale at 1stDibs | texture in sculpture, abstract spine art, laurence constant                                                                                                 |2010-            |Paris, FR          |\n",
      "|Antique Oushak Carpet, Handmade Turkish Oriental Rug, Beige, Taupe, Charcoal For Sale at 1stDibs | beige rug, coral rug                                                                                                                                                         |Mid-20th Century |Port Washington, NY|\n",
      "|Pierluigi Spadolini for 1P 'Boccio' Dining or Center Table in Red Resin For Sale at 1stDibs | resin center table, nancy pfister net worth, spadolini watch                                                                                                                      |1970-1979        |Waalwijk, NL       |\n",
      "|Chanel Camellia WOC Wallet On Chain Black Lambskin Leather For Sale at 1stDibs                                                                                                                                                                                                  |2010-            |Roosendaal, NL     |\n",
      "|Climbing Raccoon Taxidermy For Sale at 1stDibs | dancing racoon gif, raccoon mounts, taxidermy racoon cowboy                                                                                                                                                                    |2010-            |Coeur d'Alene, ID  |\n",
      "|Taurus Collection Modern Geometric Goat Hair Rug by Doris Leslie Blau For Sale at 1stDibs                                                                                                                                                                                       |21st Century     |New York, NY       |\n",
      "|Taurus Collection Modern Striped Handmade Goat Hair Rug by Doris Leslie Blau For Sale at 1stDibs                                                                                                                                                                                |21st Century     |New York, NY       |\n",
      "|Crocodile Brown Sofa with Real Nile Crocodile Skin and Natural Horns For Sale at 1stDibs | crocodile leather sofa, crocodile couch, crocodile sofa                                                                                                                              |21st Century     |Paris, FR          |\n",
      "|Arne Jacobsen, \"Egg\" Lounge Chairs, Black Leather, Fritz Hansen, Denmark, 1958 For Sale at 1stDibs | egg lounge chair, egg chair design -china -b2b -forum -blog -wikipedia -.cn -.gov -alibaba, arne jacobsen egg chair -china -b2b -forum -blog -wikipedia -.cn -.gov -alibaba|1950-1959        |High Point, NC     |\n",
      "|The Egg, Model 3316, Red Leather, by Arne Jacobsen and Fritz Hansen, 2001 For Sale at 1stDibs | red leather egg chair, red egg chair                                                                                                                                            |1950-1959        |Lejre, DK          |\n",
      "+--------------------------------------------------------------------------------------------------------------------------------------------------------------------------------------------------------------------------------------------------------------------------------+-----------------+-------------------+\n",
      "only showing top 20 rows\n",
      "\n"
     ]
    }
   ],
   "source": [
    "result = DF.filter(DF['label'] == 1).filter(DF['production_data'] != 'None').select('product', 'production_data', 'location')\n",
    "result.show(truncate=False)"
   ]
  },
  {
   "cell_type": "code",
   "execution_count": 26,
   "id": "1a607222",
   "metadata": {},
   "outputs": [
    {
     "data": {
      "text/plain": [
       "609"
      ]
     },
     "execution_count": 26,
     "metadata": {},
     "output_type": "execute_result"
    }
   ],
   "source": [
    "result.count()"
   ]
  },
  {
   "cell_type": "code",
   "execution_count": 27,
   "id": "751c336b",
   "metadata": {},
   "outputs": [
    {
     "name": "stdout",
     "output_type": "stream",
     "text": [
      "+--------------+-----------------+-----+\n",
      "|       species|         location|count|\n",
      "+--------------+-----------------+-----+\n",
      "|       ostrich|              USA|    6|\n",
      "|       ostrich|  Bothas Hill, ZA|    3|\n",
      "|       ostrich| Philadelphia, PA|    3|\n",
      "|       ostrich|  Los Angeles, CA|    3|\n",
      "|       ostrich|    Great Britain|    3|\n",
      "|          wolf|     New York, NY|    2|\n",
      "|nile crocodile|               FR|    1|\n",
      "|nile crocodile|      Haarlem, NL|    1|\n",
      "|       ostrich|         Rome, IT|    1|\n",
      "|       ostrich|      Toronto, CA|    1|\n",
      "|          wolf|Bridgehampton, NY|    1|\n",
      "|nile crocodile|        Paris, FR|    1|\n",
      "|       ostrich|       London, GB|    1|\n",
      "|       ostrich|   Barrowford, GB|    1|\n",
      "|nile crocodile|              USA|    1|\n",
      "|       ostrich|     Westport, CT|    1|\n",
      "|       ostrich|     ZuÌrich, CH|    1|\n",
      "|       ostrich|  Switzerland, CH|    1|\n",
      "|       ostrich|       Carmel, CA|    1|\n",
      "|       ostrich|       Forney, TX|    1|\n",
      "+--------------+-----------------+-----+\n",
      "only showing top 20 rows\n",
      "\n"
     ]
    }
   ],
   "source": [
    "def Filter3(x):\n",
    "    for i in range(len(x[0])):\n",
    "        for j in top:\n",
    "            if x[0][i] in j:\n",
    "                return True\n",
    "            if i >= 1 and (x[0][i-1] + \" \" + x[0][i]) in j:\n",
    "                return True\n",
    "            if i >= 2 and (x[0][i-2] + \" \" + x[0][i-1] + \" \" + x[0][i]) in j:\n",
    "                return True\n",
    "    return False\n",
    "def mapfunction3(x):\n",
    "    for i in range(len(x[0])):\n",
    "        for j in top:\n",
    "            if x[0][i] in j:\n",
    "                return [j[0], x[1], x[2]]\n",
    "            if i >= 1 and (x[0][i-1] + \" \" + x[0][i]) in j:\n",
    "                return [j[0], x[1], x[2]]\n",
    "            if i >= 2 and (x[0][i-2] + \" \" + x[0][i-1] + \" \" + x[0][i]) in j:\n",
    "                return [j[0], x[1], x[2]]\n",
    "RES = result.rdd.map(lambda x: [fingerprint2(x[0]), x[1], x[2]]).filter(Filter3).map(mapfunction3)\n",
    "RES = RES.map(lambda p: Row(species = p[0], date = p[1], location = p[2]))\n",
    "RES = spark.createDataFrame(RES)\n",
    "RES.createOrReplaceTempView(\"RES\")\n",
    "spark.sql(\"select species, location, count(*) as count from RES group by species, location order by count desc\").show()"
   ]
  },
  {
   "cell_type": "code",
   "execution_count": 28,
   "id": "439a9acf",
   "metadata": {},
   "outputs": [
    {
     "name": "stdout",
     "output_type": "stream",
     "text": [
      "+--------------------+----------------+-----+\n",
      "|                date|        location|count|\n",
      "+--------------------+----------------+-----+\n",
      "|        21st Century|             USA|    4|\n",
      "|               2010-| Bothas Hill, ZA|    3|\n",
      "|               2010-| Los Angeles, CA|    2|\n",
      "|   Late 20th Century|             USA|    2|\n",
      "|        21st Century|   Great Britain|    2|\n",
      "|           2000-2009|Philadelphia, PA|    2|\n",
      "|  Early 20th Century|      Carmel, CA|    1|\n",
      "|           1990-1999|  Palm Beach, FL|    1|\n",
      "|        21st Century| Los Angeles, CA|    1|\n",
      "|           2000-2009|      London, GB|    1|\n",
      "|    Mid-20th Century|    Westport, CT|    1|\n",
      "|               2010-|  Barrowford, GB|    1|\n",
      "|               2010-|     Toronto, CA|    1|\n",
      "|           1990-1999|Philadelphia, PA|    1|\n",
      "|           1990-1999|        Rome, IT|    1|\n",
      "|        21st Century|    ZuÌrich, CH|    1|\n",
      "|        21st Century|      Forney, TX|    1|\n",
      "|15th Century and ...|   Great Britain|    1|\n",
      "|        21st Century| Switzerland, CH|    1|\n",
      "+--------------------+----------------+-----+\n",
      "\n"
     ]
    }
   ],
   "source": [
    "spark.sql(\"select date, location , count(*) as count from RES where species = 'ostrich' group by date, location order by count desc\").show()"
   ]
  },
  {
   "cell_type": "code",
   "execution_count": 29,
   "id": "00c1efcc",
   "metadata": {},
   "outputs": [
    {
     "data": {
      "image/png": "[encoded data removed]",
      "text/plain": [
       "<Figure size 432x288 with 1 Axes>"
      ]
     },
     "metadata": {
      "needs_background": "light"
     },
     "output_type": "display_data"
    }
   ],
   "source": [
    "import matplotlib.pyplot as plt\n",
    "import pandas as pd\n",
    "\n",
    "# Data\n",
    "data = {\n",
    "    'date': ['21st Century', '2010-', '2000-2009', '1990-1999', 'Late 20th Century', 'Mid-20th Century', 'Early 20th Century', '15th Century and earlier'],\n",
    "    'count': [10, 7, 3, 3, 2, 1, 1, 1]\n",
    "}\n",
    "\n",
    "# Create a DataFrame\n",
    "df = pd.DataFrame(data)\n",
    "df = df[::-1]\n",
    "# Plotting\n",
    "fig, ax = plt.subplots()\n",
    "ax.bar(df['date'], df['count'], color='skyblue')\n",
    "\n",
    "# Adding labels and title\n",
    "ax.set_xlabel('Date')\n",
    "ax.set_ylabel('number of ads')\n",
    "ax.set_title('animal product ads for ostrich')\n",
    "\n",
    "# Rotating x-axis labels for better readability\n",
    "plt.xticks(rotation=45, ha='right')\n",
    "\n",
    "# Display the plot\n",
    "plt.show()\n"
   ]
  },
  {
   "cell_type": "code",
   "execution_count": null,
   "id": "ccc54b73",
   "metadata": {},
   "outputs": [],
   "source": []
  }
 ],
 "metadata": {
  "kernelspec": {
   "display_name": "Python 3 (ipykernel)",
   "language": "python",
   "name": "python3"
  },
  "language_info": {
   "codemirror_mode": {
    "name": "ipython",
    "version": 3
   },
   "file_extension": ".py",
   "mimetype": "text/x-python",
   "name": "python",
   "nbconvert_exporter": "python",
   "pygments_lexer": "ipython3",
   "version": "3.8.13"
  }
 },
 "nbformat": 4,
 "nbformat_minor": 5
}
