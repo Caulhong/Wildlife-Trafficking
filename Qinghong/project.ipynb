{
 "cells": [
  {
   "cell_type": "code",
   "execution_count": 1,
   "id": "16e01856",
   "metadata": {},
   "outputs": [],
   "source": [
    "import string, unicodedata\n",
    "import inflect\n",
    "def fingerprint(value):\n",
    "    key = unicodedata.normalize('NFKD', value).encode('ascii','ignore').decode()\n",
    "    key = set(key.strip().lower().translate(str.maketrans('','',string.punctuation)).split())\n",
    "    key = ' '.join(sorted(list(key)))\n",
    "    return key\n",
    "def plural_to_singular(word):\n",
    "    p = inflect.engine()\n",
    "    return p.singular_noun(word)\n",
    "def singular_to_plural(word):\n",
    "    p = inflect.engine()\n",
    "    return p.plural(word)"
   ]
  },
  {
   "cell_type": "code",
   "execution_count": 2,
   "id": "16675f22",
   "metadata": {},
   "outputs": [
    {
     "name": "stdout",
     "output_type": "stream",
     "text": [
      "[['antilocapra americana', 'antilocapra americanas'], ['addax nasomaculatu', 'addax nasomaculatus'], ['bos gauru', 'bos gaurus'], ['bos mutu', 'bos mutus'], ['bos sauveli', 'bos sauvelis'], ['bubalus depressicorni', 'bubalus depressicornis'], ['bubalus mindorensi', 'bubalus mindorensis'], ['bubalus quarlesi', 'bubalus quarlesis'], ['capra falconeri', 'capra falconeris'], ['capricornis milneedwardsii', 'capricornis milneedwardsiis'], ['capricornis rubidu', 'capricornis rubidus'], ['capricornis sumatraensi', 'capricornis sumatraensis'], ['capricornis thar', 'capricornis thars'], ['cephalophus jentinki', 'cephalophus jentinkis'], ['gazella cuvieri', 'gazella cuvieris'], ['gazella leptocero', 'gazella leptoceros'], ['hippotragus niger variani', 'hippotragus niger varianis'], ['naemorhedus baileyi', 'naemorhedus baileyis'], ['naemorhedus caudatu', 'naemorhedus caudatus'], ['naemorhedus goral', 'naemorhedus gorals'], ['naemorhedus griseu', 'naemorhedus griseus'], ['nanger dama', 'nanger damas'], ['oryx dammah', 'oryx dammahs'], ['oryx leucoryx', 'oryx leucoryxes'], ['ovis gmelini', 'ovis gmelinis'], ['ovis hodgsoni', 'ovis hodgsonis'], ['ovis nigrimontana', 'ovis nigrimontanas'], ['ovis vignei', 'ovis vigneis'], ['pantholops hodgsonii', 'pantholops hodgsoniis'], ['pseudoryx nghetinhensi', 'pseudoryx nghetinhensis'], ['vicugna vicugna', 'vicugna vicugnas'], ['axis calamianensi', 'axis calamianensis'], ['axis kuhlii', 'axis kuhliis'], ['axis porcinus annamiticu', 'axis porcinus annamiticus'], ['blastocerus dichotomu', 'blastocerus dichotomus'], ['cervus elaphus hanglu', 'cervus elaphus hanglus'], ['dama dama mesopotamica', 'dama dama mesopotamicas'], ['hippocamelu', 'hippocamelus'], ['muntiacus crinifron', 'muntiacus crinifrons'], ['muntiacus vuquangensi', 'muntiacus vuquangensis'], ['ozotoceros bezoarticu', 'ozotoceros bezoarticus'], ['pudu puda', 'pudu pudas'], ['rucervus duvaucelii', 'rucervus duvauceliis'], ['rucervus eldii', 'rucervus eldiis'], ['moschu', 'moschus'], ['babyrousa babyrussa', 'babyrousa babyrussas'], ['babyrousa bolabatuensi', 'babyrousa bolabatuensis'], ['babyrousa celebensi', 'babyrousa celebensis'], ['babyrousa togeanensi', 'babyrousa togeanensis'], ['sus salvaniu', 'sus salvanius'], ['catagonus wagneri', 'catagonus wagneris'], ['ailurus fulgen', 'ailurus fulgens'], ['canis lupu', 'canis lupus'], ['speothos venaticu', 'speothos venaticus'], ['acinonyx jubatu', 'acinonyx jubatus'], ['caracal caracal', 'caracal caracals'], ['catopuma temminckii', 'catopuma temminckiis'], ['felis nigripe', 'felis nigripes'], ['herpailurus yagouaroundi', 'herpailurus yagouaroundis'], ['leopardus geoffroyi', 'leopardus geoffroyis'], ['leopardus guttulu', 'leopardus guttulus'], ['leopardus jacobita', 'leopardus jacobitas'], ['leopardus pardali', 'leopardus pardalis'], ['leopardus tigrinu', 'leopardus tigrinus'], ['leopardus wiedii', 'leopardus wiediis'], ['lynx pardinu', 'lynx pardinus'], ['neofelis diardi', 'neofelis diardis'], ['neofelis nebulosa', 'neofelis nebulosas'], ['panthera leo', 'panthera leos'], ['panthera onca', 'panthera oncas'], ['panthera pardu', 'panthera pardus'], ['panthera tigri', 'panthera tigris'], ['panthera uncia', 'panthera uncias'], ['pardofelis marmorata', 'pardofelis marmoratas'], ['prionailurus bengalensis bengalensi', 'prionailurus bengalensis bengalensis'], ['prionailurus planiceps', 'prionailurus planiceps'], ['prionailurus rubiginosu', 'prionailurus rubiginosus'], ['puma concolor', 'puma concolors'], ['aonyx capensis microdon', 'aonyx capensis microdons'], ['aonyx cinereu', 'aonyx cinereus'], ['enhydra lutris nerei', 'enhydra lutris nereis'], ['lontra felina', 'lontra felinas'], ['lontra longicaudi', 'lontra longicaudis'], ['lontra provocax', 'lontra provocaxes'], ['lutra lutra', 'lutra lutras'], ['lutra nippon', 'lutra nippons'], ['lutrogale perspicillata', 'lutrogale perspicillatas'], ['pteronura brasiliensi', 'pteronura brasiliensis'], ['mustela nigripe', 'mustela nigripes'], ['arctocephalus townsendi', 'arctocephalus townsendis'], ['monachu', 'monachus'], ['ailuropoda melanoleuca', 'ailuropoda melanoleucas'], ['helarctos malayanu', 'helarctos malayanus'], ['melursus ursinu', 'melursus ursinus'], ['tremarctos ornatu', 'tremarctos ornatus'], ['ursus arcto', 'ursus arctos'], ['ursus arctos isabellinu', 'ursus arctos isabellinus'], ['ursus thibetanu', 'ursus thibetanus'], ['prionodon pardicolor', 'prionodon pardicolors'], ['balaena mysticetu', 'balaena mysticetus'], ['eubalaena', 'eubalaenas'], ['balaenoptera acutorostratum', 'balaenoptera acutorostrata'], ['balaenoptera bonaerensi', 'balaenoptera bonaerensis'], ['balaenoptera boreali', 'balaenoptera borealis'], ['balaenoptera edeni', 'balaenoptera edenis'], ['balaenoptera musculu', 'balaenoptera musculus'], ['balaenoptera omurai', 'balaenoptera omurais'], ['balaenoptera physalu', 'balaenoptera physalus'], ['megaptera novaeangliae', 'megaptera novaeangliaes'], ['orcaella brevirostri', 'orcaella brevirostris'], ['orcaella heinsohni', 'orcaella heinsohnis'], ['sotalia', 'sotalias'], ['sousa', 'sousas'], ['eschrichtius robustu', 'eschrichtius robustus'], ['lipotes vexillifer', 'lipotes vexillifers'], ['caperea marginata', 'caperea marginatas'], ['neophocaena asiaeorientali', 'neophocaena asiaeorientalis'], ['neophocaena phocaenoide', 'neophocaena phocaenoides'], ['phocoena sinus', 'phocoena sinuses'], ['physeter macrocephalu', 'physeter macrocephalus'], ['platanista', 'platanistas'], ['berardiu', 'berardius'], ['hyperoodon', 'hyperoodons'], ['acerodon jubatu', 'acerodon jubatus'], ['pteropus insulari', 'pteropus insularis'], ['pteropus loochoensi', 'pteropus loochoensis'], ['pteropus mariannu', 'pteropus mariannus'], ['pteropus molossinu', 'pteropus molossinus'], ['pteropus pelewensi', 'pteropus pelewensis'], ['pteropus pilosu', 'pteropus pilosus'], ['pteropus samoensi', 'pteropus samoensis'], ['pteropus tonganu', 'pteropus tonganus'], ['pteropus ualanu', 'pteropus ualanus'], ['pteropus yapensi', 'pteropus yapensis'], ['priodontes maximu', 'priodontes maximus'], ['sminthopsis longicaudatum', 'sminthopsis longicaudata'], ['sminthopsis psammophila', 'sminthopsis psammophilas'], ['lagorchestes hirsutu', 'lagorchestes hirsutus'], ['lagostrophus fasciatu', 'lagostrophus fasciatus'], ['onychogalea fraenata', 'onychogalea fraenatas'], ['bettongia', 'bettongias'], ['lasiorhinus krefftii', 'lasiorhinus krefftiis'], ['caprolagus hispidu', 'caprolagus hispidus'], ['romerolagus diazi', 'romerolagus diazis'], ['perameles bougainville', 'perameles bougainvilles'], ['macrotis lagoti', 'macrotis lagotis'], ['equus africanu', 'equus africanus'], ['equus grevyi', 'equus grevyis'], ['equus hemionus hemionu', 'equus hemionus hemionus'], ['equus hemionus khur', 'equus hemionus khurs'], ['equus hemionus luteu', 'equus hemionus luteus'], ['equus przewalskii', 'equus przewalskiis'], ['rhinocerotidae', 'rhinocerotidaes'], ['tapiridae', 'tapiridaes'], ['manis crassicaudatum', 'manis crassicaudata'], ['manis culionensi', 'manis culionensis'], ['manis gigantea', 'manis giganteas'], ['manis javanica', 'manis javanicas'], ['manis pentadactyla', 'manis pentadactylas'], ['manis temminckii', 'manis temminckiis'], ['manis tetradactyla', 'manis tetradactylas'], ['manis tricuspi', 'manis tricuspis'], ['alouatta palliata', 'alouatta palliatas'], ['alouatta pigra', 'alouatta pigras'], ['ateles geoffroyi frontatu', 'ateles geoffroyi frontatus'], ['ateles geoffroyi ornatu', 'ateles geoffroyi ornatus'], ['brachyteles arachnoide', 'brachyteles arachnoides'], ['brachyteles hypoxanthu', 'brachyteles hypoxanthus'], ['oreonax flavicauda', 'oreonax flavicaudas'], ['callimico goeldii', 'callimico goeldiis'], ['callithrix aurita', 'callithrix auritas'], ['callithrix flaviceps', 'callithrix flaviceps'], ['leontopithecu', 'leontopithecus'], ['saguinus bicolor', 'saguinus bicolors'], ['saguinus geoffroyi', 'saguinus geoffroyis'], ['saguinus leucopu', 'saguinus leucopus'], ['saguinus martinsi', 'saguinus martinsis'], ['saguinus oedipu', 'saguinus oedipus'], ['saimiri oerstedii', 'saimiri oerstediis'], ['cercocebus galeritu', 'cercocebus galeritus'], ['cercopithecus diana', 'cercopithecus dianas'], ['cercopithecus roloway', 'cercopithecus roloways'], ['macaca silenu', 'macaca silenus'], ['macaca sylvanu', 'macaca sylvanus'], ['mandrillus leucophaeu', 'mandrillus leucophaeus'], ['mandrillus sphinx', 'mandrillus sphinxes'], ['nasalis larvatu', 'nasalis larvatus'], ['piliocolobus kirkii', 'piliocolobus kirkiis'], ['piliocolobus rufomitratu', 'piliocolobus rufomitratus'], ['presbytis potenziani', 'presbytis potenzianis'], ['pygathrix', 'pygathrixes'], ['rhinopithecu', 'rhinopithecus'], ['semnopithecus ajax', 'semnopithecus ajaxes'], ['semnopithecus dussumieri', 'semnopithecus dussumieris'], ['semnopithecus entellu', 'semnopithecus entellus'], ['semnopithecus hector', 'semnopithecus hectors'], ['semnopithecus hypoleuco', 'semnopithecus hypoleucos'], ['semnopithecus priam', 'semnopithecus priams'], ['semnopithecus schistaceu', 'semnopithecus schistaceus'], ['simias concolor', 'simias concolors'], ['trachypithecus geei', 'trachypithecus geeis'], ['trachypithecus pileatu', 'trachypithecus pileatus'], ['trachypithecus shortridgei', 'trachypithecus shortridgeis'], ['cheirogaleidae', 'cheirogaleidaes'], ['daubentonia madagascariensi', 'daubentonia madagascariensis'], ['gorilla beringei', 'gorilla beringeis'], ['gorilla gorilla', 'gorilla gorillas'], ['pan', 'pans'], ['pongo abelii', 'pongo abeliis'], ['pongo pygmaeu', 'pongo pygmaeus'], ['pongo tapanuliensi', 'pongo tapanuliensis'], ['hylobatidae', 'hylobatidaes'], ['indriidae', 'indriidaes'], ['lemuridae', 'lemuridaes'], ['lepilemuridae', 'lepilemuridaes'], ['nycticebu', 'nycticebus'], ['cacajao', 'cacajaos'], ['chiropotes albinasu', 'chiropotes albinasus'], ['elephas maximu', 'elephas maximus'], ['loxodonta africana', 'loxodonta africanas'], ['chinchilla', 'chinchillas'], ['dugong dugon', 'dugong dugons'], ['trichechus inungui', 'trichechus inunguis'], ['trichechus manatu', 'trichechus manatus'], ['trichechus senegalensi', 'trichechus senegalensis'], ['anas aucklandica', 'anas aucklandicas'], ['anas chloroti', 'anas chlorotis'], ['anas laysanensi', 'anas laysanensis'], ['anas nesioti', 'anas nesiotis'], ['asarcornis scutulata', 'asarcornis scutulatas'], ['branta sandvicensi', 'branta sandvicensis'], ['rhodonessa caryophyllacea', 'rhodonessa caryophyllaceas'], ['glaucis dohrnii', 'glaucis dohrniis'], ['larus relictu', 'larus relictus'], ['numenius boreali', 'numenius borealis'], ['numenius tenuirostri', 'numenius tenuirostris'], ['tringa guttifer', 'tringa guttifers'], ['ciconia boyciana', 'ciconia boycianas'], ['jabiru mycteria', 'jabiru mycterias'], ['mycteria cinerea', 'mycteria cinereas'], ['geronticus eremita', 'geronticus eremitas'], ['nipponia nippon', 'nipponia nippons'], ['caloenas nicobarica', 'caloenas nicobaricas'], ['ducula mindorensi', 'ducula mindorensis'], ['aceros nipalensi', 'aceros nipalensis'], ['buceros bicorni', 'buceros bicornis'], ['rhinoplax vigil', 'rhinoplax vigils'], ['rhyticeros subruficolli', 'rhyticeros subruficollis'], ['aquila adalberti', 'aquila adalbertis'], ['aquila heliaca', 'aquila heliacas'], ['chondrohierax wilsonii', 'chondrohierax wilsoniis'], ['haliaeetus albicilla', 'haliaeetus albicillas'], ['harpia harpyja', 'harpia harpyjas'], ['pithecophaga jefferyi', 'pithecophaga jefferyis'], ['gymnogyps californianu', 'gymnogyps californianus'], ['vultur gryphu', 'vultur gryphus'], ['falco araeu', 'falco araeus'], ['falco jugger', 'falco juggers'], ['falco newtoni', 'falco newtonis'], ['falco peregrinu', 'falco peregrinus'], ['falco punctatu', 'falco punctatus'], ['falco rusticolu', 'falco rusticolus'], ['crax blumenbachii', 'crax blumenbachiis'], ['mitu mitu', 'mitu mitus'], ['oreophasis derbianu', 'oreophasis derbianus'], ['penelope albipenni', 'penelope albipennis'], ['pipile jacutinga', 'pipile jacutingas'], ['pipile pipile', 'pipile pipiles'], ['macrocephalon maleo', 'macrocephalon maleos'], ['catreus wallichii', 'catreus wallichiis'], ['colinus virginianus ridgwayi', 'colinus virginianus ridgwayis'], ['crossoptilon crossoptilon', 'crossoptilon crossoptilons'], ['crossoptilon mantchuricum', 'crossoptilon mantchuricums'], ['lophophorus impejanu', 'lophophorus impejanus'], ['lophophorus lhuysii', 'lophophorus lhuysiis'], ['lophophorus sclateri', 'lophophorus sclateris'], ['lophura edwardsi', 'lophura edwardsis'], ['lophura swinhoii', 'lophura swinhoiis'], ['polyplectron napoleoni', 'polyplectron napoleonis'], ['rheinardia ocellata', 'rheinardia ocellatas'], ['syrmaticus ellioti', 'syrmaticus elliotis'], ['syrmaticus humiae', 'syrmaticus humiaes'], ['syrmaticus mikado', 'syrmaticus mikadoes'], ['tetraogallus caspiu', 'tetraogallus caspius'], ['tetraogallus tibetanu', 'tetraogallus tibetanus'], ['tragopan blythii', 'tragopan blythiis'], ['tragopan caboti', 'tragopan cabotis'], ['tragopan melanocephalu', 'tragopan melanocephalus'], ['antigone canadensis nesiote', 'antigone canadensis nesiotes'], ['antigone canadensis pulla', 'antigone canadensis pullas'], ['antigone vipio', 'antigone vipios'], ['balearica pavonina', 'balearica pavoninas'], ['grus americana', 'grus americanas'], ['grus japonensi', 'grus japonensis'], ['grus monacha', 'grus monachas'], ['grus nigricolli', 'grus nigricollis'], ['leucogeranus leucogeranu', 'leucogeranus leucogeranus'], ['ardeotis nigriceps', 'ardeotis nigriceps'], ['chlamydotis macqueenii', 'chlamydotis macqueeniis'], ['chlamydotis undulata', 'chlamydotis undulatas'], ['houbaropsis bengalensi', 'houbaropsis bengalensis'], ['hypotaenidia sylvestri', 'hypotaenidia sylvestris'], ['rhynochetos jubatu', 'rhynochetos jubatus'], ['atrichornis clamosu', 'atrichornis clamosus'], ['cotinga maculata', 'cotinga maculatas'], ['xipholena atropurpurea', 'xipholena atropurpureas'], ['carduelis cucullata', 'carduelis cucullatas'], ['pseudochelidon sirintarae', 'pseudochelidon sirintaraes'], ['xanthopsar flavu', 'xanthopsar flavus'], ['picathartes gymnocephalu', 'picathartes gymnocephalus'], ['picathartes orea', 'picathartes oreas'], ['pitta gurneyi', 'pitta gurneyis'], ['pitta kochi', 'pitta kochis'], ['pycnonotus zeylanicu', 'pycnonotus zeylanicus'], ['leucopsar rothschildi', 'leucopsar rothschildis'], ['zosterops albogulari', 'zosterops albogularis'], ['fregata andrewsi', 'fregata andrewsis'], ['pelecanus crispu', 'pelecanus crispus'], ['papasula abbotti', 'papasula abbottis'], ['dryocopus javensis richardsi', 'dryocopus javensis richardsis'], ['podilymbus giga', 'podilymbus gigas'], ['cacatua goffiniana', 'cacatua goffinianas'], ['cacatua haematuropygia', 'cacatua haematuropygias'], ['cacatua moluccensi', 'cacatua moluccensis'], ['cacatua sulphurea', 'cacatua sulphureas'], ['probosciger aterrimu', 'probosciger aterrimus'], ['eos histrio', 'eos histrios'], ['vini ultramarina', 'vini ultramarinas'], ['amazona arausiaca', 'amazona arausiacas'], ['amazona auropalliata', 'amazona auropalliatas'], ['amazona barbadensi', 'amazona barbadensis'], ['amazona brasiliensi', 'amazona brasiliensis'], ['amazona finschi', 'amazona finschis'], ['amazona guildingii', 'amazona guildingiis'], ['amazona imperiali', 'amazona imperialis'], ['amazona leucocephala', 'amazona leucocephalas'], ['amazona oratrix', 'amazona oratrixes'], ['amazona pretrei', 'amazona pretreis'], ['amazona rhodocorytha', 'amazona rhodocorythas'], ['amazona tucumana', 'amazona tucumanas'], ['amazona versicolor', 'amazona versicolors'], ['amazona vinacea', 'amazona vinaceas'], ['amazona viridigenali', 'amazona viridigenalis'], ['amazona vittata', 'amazona vittatas'], ['anodorhynchu', 'anodorhynchus'], ['ara ambiguu', 'ara ambiguus'], ['ara glaucogulari', 'ara glaucogularis'], ['ara macao', 'ara macaos'], ['ara militari', 'ara militaris'], ['ara rubrogeny', 'ara rubrogenys'], ['cyanopsitta spixii', 'cyanopsitta spixiis'], ['cyanoramphus cookii', 'cyanoramphus cookiis'], ['cyanoramphus forbesi', 'cyanoramphus forbesis'], ['cyanoramphus novaezelandiae', 'cyanoramphus novaezelandiaes'], ['cyanoramphus saisseti', 'cyanoramphus saissetis'], ['cyclopsitta diophthalma coxeni', 'cyclopsitta diophthalma coxenis'], ['eunymphicus cornutu', 'eunymphicus cornutus'], ['guarouba guarouba', 'guarouba guaroubas'], ['neophema chrysogaster', 'neophema chrysogasters'], ['ognorhynchus icteroti', 'ognorhynchus icterotis'], ['pezoporus flaviventri', 'pezoporus flaviventris'], ['pezoporus occidentali', 'pezoporus occidentalis'], ['pezoporus wallicu', 'pezoporus wallicus'], ['pionopsitta pileata', 'pionopsitta pileatas'], ['primolius couloni', 'primolius coulonis'], ['primolius maracana', 'primolius maracanas'], ['psephotellus chrysopterygiu', 'psephotellus chrysopterygius'], ['psephotellus dissimili', 'psephotellus dissimilis'], ['psephotellus pulcherrimu', 'psephotellus pulcherrimus'], ['psittacula echo', 'psittacula echoes'], ['psittacus erithacu', 'psittacus erithacus'], ['pyrrhura cruentata', 'pyrrhura cruentatas'], ['rhynchopsitta', 'rhynchopsittas'], ['strigops habroptila', 'strigops habroptilas'], ['pterocnemia pennata', 'pterocnemia pennatas'], ['spheniscus humboldti', 'spheniscus humboldtis'], ['heteroglaux blewitti', 'heteroglaux blewittis'], ['mimizuku gurneyi', 'mimizuku gurneyis'], ['ninox natali', 'ninox natalis'], ['tyto soumagnei', 'tyto soumagneis'], ['struthio camelu', 'struthio camelus'], ['tinamus solitariu', 'tinamus solitarius'], ['pharomachrus mocinno', 'pharomachrus mocinnoes'], ['alligator sinensi', 'alligator sinensis'], ['caiman crocodilus apaporiensi', 'caiman crocodilus apaporiensis'], ['caiman latirostri', 'caiman latirostris'], ['melanosuchus niger', 'melanosuchus nigers'], ['crocodylus acutu', 'crocodylus acutus'], ['crocodylus cataphractu', 'crocodylus cataphractus'], ['crocodylus intermediu', 'crocodylus intermedius'], ['crocodylus mindorensi', 'crocodylus mindorensis'], ['crocodylus moreletii', 'crocodylus moreletiis'], ['crocodylus niloticu', 'crocodylus niloticus'], ['crocodylus palustri', 'crocodylus palustris'], ['crocodylus porosu', 'crocodylus porosus'], ['crocodylus rhombifer', 'crocodylus rhombifers'], ['crocodylus siamensi', 'crocodylus siamensis'], ['osteolaemus tetraspi', 'osteolaemus tetraspis'], ['tomistoma schlegelii', 'tomistoma schlegeliis'], ['gavialis gangeticu', 'gavialis gangeticus'], ['sphenodon', 'sphenodons'], ['ceratophora erdeleni', 'ceratophora erdelenis'], ['ceratophora karu', 'ceratophora karus'], ['ceratophora tennentii', 'ceratophora tennentiis'], ['cophotis ceylanica', 'cophotis ceylanicas'], ['cophotis dumbara', 'cophotis dumbaras'], ['abronia anzuetoi', 'abronia anzuetois'], ['abronia campbelli', 'abronia campbellis'], ['abronia fimbriata', 'abronia fimbriatas'], ['abronia frosti', 'abronia frostis'], ['abronia meledona', 'abronia meledonas'], ['brookesia perarmata', 'brookesia perarmatas'], ['cnemaspis psychedelica', 'cnemaspis psychedelicas'], ['gonatodes daudini', 'gonatodes daudinis'], ['lygodactylus williamsi', 'lygodactylus williamsis'], ['heloderma horridum charlesbogerti', 'heloderma horridum charlesbogertis'], ['brachylophu', 'brachylophus'], ['cyclura', 'cycluras'], ['sauromalus variu', 'sauromalus varius'], ['gallotia simonyi', 'gallotia simonyis'], ['tiliqua adelaidensi', 'tiliqua adelaidensis'], ['varanus bengalensi', 'varanus bengalensis'], ['varanus flavescen', 'varanus flavescens'], ['varanus griseu', 'varanus griseus'], ['varanus komodoensi', 'varanus komodoensis'], ['varanus nebulosu', 'varanus nebulosus'], ['shinisaurus crocodiluru', 'shinisaurus crocodilurus'], ['acrantophi', 'acrantophis'], ['boa constrictor occidentali', 'boa constrictor occidentalis'], ['chilabothrus monensi', 'chilabothrus monensis'], ['chilabothrus subflavu', 'chilabothrus subflavus'], ['sanzinia madagascariensi', 'sanzinia madagascariensis'], ['bolyeria multocarinata', 'bolyeria multocarinatas'], ['casarea dussumieri', 'casarea dussumieris'], ['python moluru', 'python molurus'], ['vipera ursinii', 'vipera ursiniis'], ['pseudemydura umbrina', 'pseudemydura umbrinas'], ['cheloniidae', 'cheloniidaes'], ['dermochelys coriacea', 'dermochelys coriaceas'], ['glyptemys muhlenbergii', 'glyptemys muhlenbergiis'], ['terrapene coahuila', 'terrapene coahuilas'], ['batagur affini', 'batagur affinis'], ['batagur baska', 'batagur baskas'], ['batagur kachuga', 'batagur kachugas'], ['cuora bourreti', 'cuora bourretis'], ['cuora galbinifron', 'cuora galbinifrons'], ['cuora picturata', 'cuora picturatas'], ['geoclemys hamiltonii', 'geoclemys hamiltoniis'], ['mauremys annamensi', 'mauremys annamensis'], ['melanochelys tricarinata', 'melanochelys tricarinatas'], ['morenia ocellata', 'morenia ocellatas'], ['pangshura tecta', 'pangshura tectas'], ['kinosternon cora', 'kinosternon coras'], ['kinosternon vogti', 'kinosternon vogtis'], ['platysternidae', 'platysternidaes'], ['astrochelys radiata', 'astrochelys radiatas'], ['astrochelys yniphora', 'astrochelys yniphoras'], ['chelonoidis niger', 'chelonoidis nigers'], ['geochelone elegan', 'geochelone elegans'], ['geochelone platynota', 'geochelone platynotas'], ['gopherus flavomarginatu', 'gopherus flavomarginatus'], ['malacochersus tornieri', 'malacochersus tornieris'], ['psammobates geometricu', 'psammobates geometricus'], ['pyxis arachnoide', 'pyxis arachnoides'], ['pyxis planicauda', 'pyxis planicaudas'], ['testudo kleinmanni', 'testudo kleinmannis'], ['apalone spinifera atra', 'apalone spinifera atras'], ['chitra chitra', 'chitra chitras'], ['chitra vandijki', 'chitra vandijkis'], ['nilssonia gangetica', 'nilssonia gangeticas'], ['nilssonia hurum', 'nilssonia hurums'], ['nilssonia leithii', 'nilssonia leithiis'], ['nilssonia nigrican', 'nilssonia nigricans'], ['altiphrynoide', 'altiphrynoides'], ['atelopus zeteki', 'atelopus zetekis'], ['incilius periglene', 'incilius periglenes'], ['nectophrynoide', 'nectophrynoides'], ['nimbaphrynoide', 'nimbaphrynoides'], ['sclerophrys channingi', 'sclerophrys channingis'], ['sclerophrys superciliari', 'sclerophrys superciliaris'], ['telmatobius culeu', 'telmatobius culeus'], ['andria', 'andrias'], ['neurergus kaiseri', 'neurergus kaiseris'], ['pristidae', 'pristidaes'], ['acipenser brevirostrum', 'acipenser brevirostrums'], ['acipenser sturio', 'acipenser sturios'], ['chasmistes cuju', 'chasmistes cujus'], ['probarbus jullieni', 'probarbus jullienis'], ['scleropages formosu', 'scleropages formosus'], ['scleropages inscriptu', 'scleropages inscriptus'], ['totoaba macdonaldi', 'totoaba macdonaldis'], ['pangasianodon giga', 'pangasianodon gigas'], ['latimeria', 'latimerias'], ['achillides chikae chikae', 'achillides chikae chikaes'], ['achillides chikae hermeli', 'achillides chikae hermelis'], ['ornithoptera alexandrae', 'ornithoptera alexandraes'], ['papilio homeru', 'papilio homerus'], ['parides burchellanu', 'parides burchellanus'], ['conradilla caelata', 'conradilla caelatas'], ['dromus droma', 'dromus dromas'], ['epioblasma curtisii', 'epioblasma curtisiis'], ['epioblasma florentina', 'epioblasma florentinas'], ['epioblasma sampsonii', 'epioblasma sampsoniis'], ['epioblasma sulcata perobliqua', 'epioblasma sulcata perobliquas'], ['epioblasma torulosa gubernaculum', 'epioblasma torulosa gubernaculums'], ['epioblasma torulosa torulosa', 'epioblasma torulosa torulosas'], ['epioblasma turgidula', 'epioblasma turgidulas'], ['epioblasma walkeri', 'epioblasma walkeris'], ['fusconaia cuneolu', 'fusconaia cuneolus'], ['fusconaia edgariana', 'fusconaia edgarianas'], ['lampsilis higginsii', 'lampsilis higginsiis'], ['lampsilis orbiculata orbiculata', 'lampsilis orbiculata orbiculatas'], ['lampsilis satur', 'lampsilis saturs'], ['lampsilis virescen', 'lampsilis virescens'], ['plethobasus cicatricosu', 'plethobasus cicatricosus'], ['plethobasus cooperianu', 'plethobasus cooperianus'], ['pleurobema plenum', 'pleurobema plenums'], ['potamilus capax', 'potamilus capaxes'], ['quadrula intermedia', 'quadrula intermedias'], ['quadrula sparsa', 'quadrula sparsas'], ['toxolasma cylindrella', 'toxolasma cylindrellas'], ['unio nickliniana', 'unio nicklinianas'], ['unio tampicoensis tecomatensi', 'unio tampicoensis tecomatensis'], ['villosa trabali', 'villosa trabalis'], ['achatinella', 'achatinellas'], ['polymita', 'polymitas'], ['agave parviflora', 'agave parvifloras'], ['pachypodium ambongense', 'pachypodium ambongenses'], ['pachypodium baronii', 'pachypodium baroniis'], ['pachypodium decaryi', 'pachypodium decaryis'], ['pachypodium windsorii', 'pachypodium windsoriis'], ['araucaria araucana', 'araucaria araucanas'], ['ariocarpu', 'ariocarpus'], ['astrophytum asteria', 'astrophytum asterias'], ['aztekium ritteri', 'aztekium ritteris'], ['coryphantha werdermannii', 'coryphantha werdermanniis'], ['discocactu', 'discocactus'], ['echinocereus ferreiranus ssp. lindsayorum', 'echinocereus ferreiranus ssp. lindsayorums'], ['echinocereus schmollii', 'echinocereus schmolliis'], ['escobaria minima', 'escobaria minimas'], ['escobaria sneedii', 'escobaria sneediis'], ['mammillaria pectinifera', 'mammillaria pectiniferas'], ['melocactus conoideu', 'melocactus conoideus'], ['melocactus deinacanthu', 'melocactus deinacanthus'], ['melocactus glaucescen', 'melocactus glaucescens'], ['melocactus paucispinu', 'melocactus paucispinus'], ['obregonia denegrii', 'obregonia denegriis'], ['pachycereus militari', 'pachycereus militaris'], ['pediocactus bradyi', 'pediocactus bradyis'], ['pediocactus knowltonii', 'pediocactus knowltoniis'], ['pediocactus paradinei', 'pediocactus paradineis'], ['pediocactus peeblesianu', 'pediocactus peeblesianus'], ['pediocactus sileri', 'pediocactus sileris'], ['pelecyphora', 'pelecyphoras'], ['sclerocactus blainei', 'sclerocactus blaineis'], ['sclerocactus brevihamatus ssp. tobuschii', 'sclerocactus brevihamatus ssp. tobuschiis'], ['sclerocactus brevispinu', 'sclerocactus brevispinus'], ['sclerocactus cloverae', 'sclerocactus cloveraes'], ['sclerocactus erectocentru', 'sclerocactus erectocentrus'], ['sclerocactus glaucu', 'sclerocactus glaucus'], ['sclerocactus mariposensi', 'sclerocactus mariposensis'], ['sclerocactus mesae-verdae', 'sclerocactus mesae-verdaes'], ['sclerocactus nyensi', 'sclerocactus nyensis'], ['sclerocactus papyracanthu', 'sclerocactus papyracanthus'], ['sclerocactus pubispinu', 'sclerocactus pubispinus'], ['sclerocactus sileri', 'sclerocactus sileris'], ['sclerocactus wetlandicu', 'sclerocactus wetlandicus'], ['sclerocactus wrightiae', 'sclerocactus wrightiaes'], ['strombocactu', 'strombocactus'], ['turbinicarpu', 'turbinicarpus'], ['uebelmannia', 'uebelmannias'], ['saussurea costu', 'saussurea costus'], ['fitzroya cupressoide', 'fitzroya cupressoides'], ['pilgerodendron uviferum', 'pilgerodendron uviferums'], ['cycas beddomei', 'cycas beddomeis'], ['euphorbia ambovombensi', 'euphorbia ambovombensis'], ['euphorbia capsaintemariensi', 'euphorbia capsaintemariensis'], ['euphorbia cremersii', 'euphorbia cremersiis'], ['euphorbia cylindrifolia', 'euphorbia cylindrifolias'], ['euphorbia decaryi', 'euphorbia decaryis'], ['euphorbia francoisii', 'euphorbia francoisiis'], ['euphorbia moratii', 'euphorbia moratiis'], ['euphorbia parvicyathophora', 'euphorbia parvicyathophoras'], ['euphorbia quartziticola', 'euphorbia quartziticolas'], ['euphorbia tulearensi', 'euphorbia tulearensis'], ['fouquieria fasciculata', 'fouquieria fasciculatas'], ['fouquieria purpusii', 'fouquieria purpusiis'], ['dalbergia nigra', 'dalbergia nigras'], ['aloe albida', 'aloe albidas'], ['aloe albiflora', 'aloe albifloras'], ['aloe alfredii', 'aloe alfrediis'], ['aloe bakeri', 'aloe bakeris'], ['aloe bellatula', 'aloe bellatulas'], ['aloe calcairophila', 'aloe calcairophilas'], ['aloe compressa', 'aloe compressas'], ['aloe delphinensi', 'aloe delphinensis'], ['aloe descoingsii', 'aloe descoingsiis'], ['aloe fragili', 'aloe fragilis'], ['aloe haworthioide', 'aloe haworthioides'], ['aloe helenae', 'aloe helenaes'], ['aloe laeta', 'aloe laetas'], ['aloe parallelifolia', 'aloe parallelifolias'], ['aloe parvula', 'aloe parvulas'], ['aloe pillansii', 'aloe pillansiis'], ['aloe polyphylla', 'aloe polyphyllas'], ['aloe rauhii', 'aloe rauhiis'], ['aloe suzannae', 'aloe suzannaes'], ['aloe versicolor', 'aloe versicolors'], ['aloe vossii', 'aloe vossiis'], ['nepenthes khasiana', 'nepenthes khasianas'], ['nepenthes rajah', 'nepenthes rajahs'], ['aerangis ellisii', 'aerangis ellisiis'], ['cattleya jongheana', 'cattleya jongheanas'], ['cattleya lobata', 'cattleya lobatas'], ['dendrobium cruentum', 'dendrobium cruentums'], ['mexipedium xerophyticum', 'mexipedium xerophyticums'], ['paphiopedilum', 'paphiopedilums'], ['peristeria elata', 'peristeria elatas'], ['phragmipedium', 'phragmipediums'], ['renanthera imschootiana', 'renanthera imschootianas'], ['dypsis decipien', 'dypsis decipiens'], ['abies guatemalensi', 'abies guatemalensis'], ['podocarpus parlatorei', 'podocarpus parlatoreis'], ['balmea stormiae', 'balmea stormiaes'], ['sarracenia oreophila', 'sarracenia oreophilas'], ['sarracenia rubra ssp. alabamensi', 'sarracenia rubra ssp. alabamensis'], ['sarracenia rubra ssp. jonesii', 'sarracenia rubra ssp. jonesiis'], ['stangeria eriopu', 'stangeria eriopus'], ['ceratozamia', 'ceratozamias'], ['encephalarto', 'encephalartos'], ['microcycas calocoma', 'microcycas calocomas'], ['zamia restrepoi', 'zamia restrepois']]\n"
     ]
    }
   ],
   "source": [
    "import csv\n",
    "endangered_species = []\n",
    "with open('Species1.csv', mode ='r')as file:\n",
    "    csvFile = csv.reader(file)\n",
    "    for lines in csvFile:\n",
    "        if lines[0] != 'Species':\n",
    "            endangered_species.append(lines[0])\n",
    "length = len(endangered_species)\n",
    "for i in range(length):\n",
    "    endangered_species[i] = endangered_species[i].lower()\n",
    "    tmp = plural_to_singular(endangered_species[i])\n",
    "    if tmp == False:\n",
    "        endangered_species[i] = [endangered_species[i], singular_to_plural(endangered_species[i])]\n",
    "    else:\n",
    "        endangered_species[i] = [tmp, endangered_species[i]]\n",
    "print(endangered_species)"
   ]
  },
  {
   "cell_type": "code",
   "execution_count": 3,
   "id": "aaefa3c0",
   "metadata": {},
   "outputs": [
    {
     "name": "stdout",
     "output_type": "stream",
     "text": [
      "[['cobra', 'cobras'], ['python', 'pythons'], ['boa', 'boas'], ['snake', 'snakes'], ['lizard', 'lizards'], ['varanus', 'varanuses'], ['crocodile', 'crocodiles'], ['alligator', 'alligators'], ['lynx', 'lynxes'], ['monkey', 'monkeys'], ['macaque', 'macaques'], ['lemur', 'lemurs'], ['chimpanzee', 'chimpanzees'], ['gorilla', 'gorillas'], ['otter', 'otters'], ['turtle', 'turtles'], ['tortoise', 'tortoises'], ['owl', 'owls'], ['shark', 'sharks'], ['falcon', 'falcons'], ['eagle', 'eagles'], ['goshawk', 'goshawks'], ['sparrowhawk', 'sparrowhawks'], ['primate', 'primates'], ['bird', 'birds'], ['reptile', 'reptiles'], ['lion', 'lions'], ['cheetah', 'cheetahs'], ['leopard', 'leopards'], ['tiger', 'tigers'], ['ocelot', 'ocelots'], ['bear', 'bears'], ['elephant', 'elephants'], ['rhinoceros', 'rhinoceroses'], ['parrot', 'parrots'], ['macaw', 'macaws'], ['pangolin', 'pangolins'], ['clam', 'clams']]\n",
      "{'cobra': [['taxidermy', 'taxidermies'], ['scale', 'scales'], ['skin', 'skins'], ['skeleton', 'skeletons'], ['carcass', 'carcasses'], ['meat', 'meats'], ['leather', 'leathers'], ['trophy', 'trophies'], ['pelt', 'pelts'], ['hide', 'hides'], ['live', 'lives']], 'python': [['taxidermy', 'taxidermies'], ['scale', 'scales'], ['skin', 'skins'], ['skeleton', 'skeletons'], ['carcass', 'carcasses'], ['meat', 'meats'], ['leather', 'leathers'], ['trophy', 'trophies'], ['pelt', 'pelts'], ['hide', 'hides'], ['live', 'lives']], 'boa': [['taxidermy', 'taxidermies'], ['scale', 'scales'], ['skin', 'skins'], ['skeleton', 'skeletons'], ['carcass', 'carcasses'], ['meat', 'meats'], ['leather', 'leathers'], ['trophy', 'trophies'], ['pelt', 'pelts'], ['hide', 'hides'], ['live', 'lives']], 'snake': [['taxidermy', 'taxidermies'], ['scale', 'scales'], ['skin', 'skins'], ['skeleton', 'skeletons'], ['carcass', 'carcasses'], ['meat', 'meats'], ['leather', 'leathers'], ['trophy', 'trophies'], ['pelt', 'pelts'], ['hide', 'hides'], ['live', 'lives']], 'lizard': [['taxidermy', 'taxidermies'], ['scale', 'scales'], ['skin', 'skins'], ['claw', 'claws'], ['foot', 'feet'], ['feet', 'feets'], ['bone', 'bones'], ['skeleton', 'skeletons'], ['carcass', 'carcasses'], ['trophy', 'trophies'], ['pelt', 'pelts'], ['hide', 'hides'], ['live', 'lives']], 'varanus': [['taxidermy', 'taxidermies'], ['scale', 'scales'], ['skin', 'skins'], ['foot', 'feet'], ['feet', 'feets'], ['bone', 'bones'], ['skeleton', 'skeletons'], ['carcass', 'carcasses'], ['leather', 'leathers'], ['trophy', 'trophies'], ['pelt', 'pelts'], ['hide', 'hides'], ['live', 'lives']], 'crocodile': [['taxidermy', 'taxidermies'], ['scale', 'scales'], ['skin', 'skins'], ['paw', 'paws'], ['claw', 'claws'], ['foot', 'feet'], ['feet', 'feets'], ['teeth', 'teeths'], ['tooth', 'teeth'], ['skull', 'skulls'], ['bone', 'bones'], ['skeleton', 'skeletons'], ['carcass', 'carcasses'], ['meat', 'meats'], ['egg', 'eggs'], ['leather', 'leathers'], ['trophy', 'trophies'], ['pelt', 'pelts'], ['hide', 'hides'], ['live', 'lives']], 'alligator': [['taxidermy', 'taxidermies'], ['shell', 'shells'], ['scale', 'scales'], ['skin', 'skins'], ['paw', 'paws'], ['claw', 'claws'], ['foot', 'feet'], ['feet', 'feets'], ['teeth', 'teeths'], ['tooth', 'teeth'], ['skull', 'skulls'], ['bone', 'bones'], ['skeleton', 'skeletons'], ['carcass', 'carcasses'], ['meat', 'meats'], ['egg', 'eggs'], ['leather', 'leathers'], ['trophy', 'trophies'], ['pelt', 'pelts'], ['hide', 'hides'], ['live', 'lives']], 'lynx': [['taxidermy', 'taxidermies'], ['skin', 'skins'], ['fur', 'furs'], ['hair', 'hairs'], ['paw', 'paws'], ['foot', 'feet'], ['feet', 'feets'], ['skull', 'skulls'], ['bone', 'bones'], ['skeleton', 'skeletons'], ['carcass', 'carcasses'], ['meat', 'meats'], ['trophy', 'trophies'], ['pelt', 'pelts'], ['hide', 'hides'], ['live', 'lives']], 'monkey': [['taxidermy', 'taxidermies'], ['skin', 'skins'], ['fur', 'furs'], ['hair', 'hairs'], ['paw', 'paws'], ['claw', 'claws'], ['foot', 'feet'], ['feet', 'feets'], ['teeth', 'teeths'], ['tooth', 'teeth'], ['skull', 'skulls'], ['bone', 'bones'], ['skeleton', 'skeletons'], ['carcass', 'carcasses'], ['meat', 'meats'], ['trophy', 'trophies'], ['pelt', 'pelts'], ['hide', 'hides'], ['live', 'lives']], 'macaque': [['taxidermy', 'taxidermies'], ['skin', 'skins'], ['fur', 'furs'], ['paw', 'paws'], ['claw', 'claws'], ['foot', 'feet'], ['feet', 'feets'], ['teeth', 'teeths'], ['tooth', 'teeth'], ['skull', 'skulls'], ['bone', 'bones'], ['skeleton', 'skeletons'], ['carcass', 'carcasses'], ['meat', 'meats'], ['leather', 'leathers'], ['trophy', 'trophies'], ['pelt', 'pelts'], ['hide', 'hides'], ['live', 'lives']], 'lemur': [['taxidermy', 'taxidermies'], ['skin', 'skins'], ['fur', 'furs'], ['hair', 'hairs'], ['paw', 'paws'], ['claw', 'claws'], ['foot', 'feet'], ['feet', 'feets'], ['teeth', 'teeths'], ['tooth', 'teeth'], ['skull', 'skulls'], ['bone', 'bones'], ['skeleton', 'skeletons'], ['carcass', 'carcasses'], ['meat', 'meats'], ['trophy', 'trophies'], ['pelt', 'pelts'], ['hide', 'hides'], ['live', 'lives']], 'chimpanzee': [['taxidermy', 'taxidermies'], ['skin', 'skins'], ['fur', 'furs'], ['hair', 'hairs'], ['paw', 'paws'], ['claw', 'claws'], ['foot', 'feet'], ['feet', 'feets'], ['teeth', 'teeths'], ['tooth', 'teeth'], ['skull', 'skulls'], ['bone', 'bones'], ['skeleton', 'skeletons'], ['carcass', 'carcasses'], ['meat', 'meats'], ['trophy', 'trophies'], ['pelt', 'pelts'], ['hide', 'hides'], ['live', 'lives']], 'gorilla': [['taxidermy', 'taxidermies'], ['skin', 'skins'], ['fur', 'furs'], ['hair', 'hairs'], ['paw', 'paws'], ['foot', 'feet'], ['feet', 'feets'], ['teeth', 'teeths'], ['tooth', 'teeth'], ['skull', 'skulls'], ['bone', 'bones'], ['skeleton', 'skeletons'], ['carcass', 'carcasses'], ['meat', 'meats'], ['trophy', 'trophies'], ['pelt', 'pelts'], ['hide', 'hides'], ['live', 'lives']], 'otter': [['taxidermy', 'taxidermies'], ['skin', 'skins'], ['fur', 'furs'], ['hair', 'hairs'], ['paw', 'paws'], ['claw', 'claws'], ['foot', 'feet'], ['feet', 'feets'], ['teeth', 'teeths'], ['tooth', 'teeth'], ['skull', 'skulls'], ['bone', 'bones'], ['skeleton', 'skeletons'], ['carcass', 'carcasses'], ['meat', 'meats'], ['trophy', 'trophies'], ['pelt', 'pelts'], ['hide', 'hides'], ['live', 'lives']], 'turtle': [['taxidermy', 'taxidermies'], ['shell', 'shells'], ['scale', 'scales'], ['skin', 'skins'], ['paw', 'paws'], ['claw', 'claws'], ['foot', 'feet'], ['feet', 'feets'], ['skull', 'skulls'], ['bone', 'bones'], ['skeleton', 'skeletons'], ['carcass', 'carcasses'], ['meat', 'meats'], ['egg', 'eggs'], ['trophy', 'trophies'], ['live', 'lives']], 'tortoise': [['taxidermy', 'taxidermies'], ['shell', 'shells'], ['scale', 'scales'], ['skin', 'skins'], ['paw', 'paws'], ['claw', 'claws'], ['foot', 'feet'], ['feet', 'feets'], ['skull', 'skulls'], ['bone', 'bones'], ['skeleton', 'skeletons'], ['carcass', 'carcasses'], ['meat', 'meats'], ['egg', 'eggs'], ['trophy', 'trophies'], ['live', 'lives']], 'owl': [['taxidermy', 'taxidermies'], ['fur', 'furs'], ['claw', 'claws'], ['foot', 'feet'], ['feet', 'feets'], ['skull', 'skulls'], ['bone', 'bones'], ['skeleton', 'skeletons'], ['carcass', 'carcasses'], ['meat', 'meats'], ['feather', 'feathers'], ['egg', 'eggs'], ['trophy', 'trophies'], ['live', 'lives']], 'shark': [['taxidermy', 'taxidermies'], ['scale', 'scales'], ['skin', 'skins'], ['teeth', 'teeths'], ['tooth', 'teeth'], ['skull', 'skulls'], ['bone', 'bones'], ['skeleton', 'skeletons'], ['carcass', 'carcasses'], ['meat', 'meats'], ['egg', 'eggs'], ['leather', 'leathers'], ['trophy', 'trophies'], ['oil', 'oils'], ['bile', 'biles'], ['pelt', 'pelts'], ['hide', 'hides'], ['live', 'lives'], ['prey', 'preys'], ['taxidermy', 'taxidermies'], ['fur', 'furs'], ['claw', 'claws'], ['foot', 'feet'], ['feet', 'feets'], ['teeth', 'teeths'], ['tooth', 'teeth'], ['skull', 'skulls'], ['bone', 'bones'], ['skeleton', 'skeletons'], ['carcass', 'carcasses'], ['meat', 'meats'], ['feather', 'feathers'], ['egg', 'eggs'], ['trophy', 'trophies'], ['live', 'lives']], 'falcon': [['taxidermy', 'taxidermies'], ['fur', 'furs'], ['claw', 'claws'], ['foot', 'feet'], ['feet', 'feets'], ['skull', 'skulls'], ['bone', 'bones'], ['skeleton', 'skeletons'], ['carcass', 'carcasses'], ['meat', 'meats'], ['feather', 'feathers'], ['egg', 'eggs'], ['trophy', 'trophies'], ['live', 'lives']], 'eagle': [['taxidermy', 'taxidermies'], ['fur', 'furs'], ['claw', 'claws'], ['foot', 'feet'], ['feet', 'feets'], ['skull', 'skulls'], ['bone', 'bones'], ['skeleton', 'skeletons'], ['carcass', 'carcasses'], ['meat', 'meats'], ['feather', 'feathers'], ['egg', 'eggs'], ['trophy', 'trophies'], ['live', 'lives']], 'goshawk': [['taxidermy', 'taxidermies'], ['fur', 'furs'], ['claw', 'claws'], ['foot', 'feet'], ['feet', 'feets'], ['skull', 'skulls'], ['bone', 'bones'], ['skeleton', 'skeletons'], ['carcass', 'carcasses'], ['meat', 'meats'], ['feather', 'feathers'], ['egg', 'eggs'], ['trophy', 'trophies'], ['live', 'lives']], 'sparrowhawk': [['taxidermy', 'taxidermies'], ['fur', 'furs'], ['claw', 'claws'], ['foot', 'feet'], ['feet', 'feets'], ['skull', 'skulls'], ['bone', 'bones'], ['skeleton', 'skeletons'], ['carcass', 'carcasses'], ['meat', 'meats'], ['feather', 'feathers'], ['egg', 'eggs'], ['trophy', 'trophies'], ['live', 'lives']], 'primate': [['taxidermy', 'taxidermies'], ['skin', 'skins'], ['fur', 'furs'], ['hair', 'hairs'], ['paw', 'paws'], ['foot', 'feet'], ['feet', 'feets'], ['teeth', 'teeths'], ['tooth', 'teeth'], ['skull', 'skulls'], ['bone', 'bones'], ['skeleton', 'skeletons'], ['carcass', 'carcasses'], ['meat', 'meats'], ['trophy', 'trophies'], ['pelt', 'pelts'], ['hide', 'hides'], ['live', 'lives']], 'bird': [['taxidermy', 'taxidermies'], ['fur', 'furs'], ['claw', 'claws'], ['foot', 'feet'], ['feet', 'feets'], ['skull', 'skulls'], ['bone', 'bones'], ['skeleton', 'skeletons'], ['carcass', 'carcasses'], ['meat', 'meats'], ['feather', 'feathers'], ['egg', 'eggs'], ['trophy', 'trophies'], ['live', 'lives']], 'reptile': [['taxidermy', 'taxidermies'], ['shell', 'shells'], ['scale', 'scales'], ['skin', 'skins'], ['paw', 'paws'], ['claw', 'claws'], ['foot', 'feet'], ['feet', 'feets'], ['teeth', 'teeths'], ['tooth', 'teeth'], ['skull', 'skulls'], ['bone', 'bones'], ['skeleton', 'skeletons'], ['carcass', 'carcasses'], ['leather', 'leathers'], ['trophy', 'trophies'], ['oil', 'oils'], ['bile', 'biles'], ['leather', 'leathers'], ['pelt', 'pelts'], ['hide', 'hides'], ['live', 'lives']], 'lion': [['taxidermy', 'taxidermies'], ['skin', 'skins'], ['fur', 'furs'], ['hair', 'hairs'], ['paw', 'paws'], ['foot', 'feet'], ['feet', 'feets'], ['teeth', 'teeths'], ['tooth', 'teeth'], ['skull', 'skulls'], ['bone', 'bones'], ['skeleton', 'skeletons'], ['carcass', 'carcasses'], ['meat', 'meats'], ['leather', 'leathers'], ['trophy', 'trophies'], ['pelt', 'pelts'], ['hide', 'hides'], ['live', 'lives']], 'cheetah': [['taxidermy', 'taxidermies'], ['skin', 'skins'], ['fur', 'furs'], ['hair', 'hairs'], ['paw', 'paws'], ['foot', 'feet'], ['feet', 'feets'], ['teeth', 'teeths'], ['tooth', 'teeth'], ['skull', 'skulls'], ['bone', 'bones'], ['skeleton', 'skeletons'], ['carcass', 'carcasses'], ['meat', 'meats'], ['leather', 'leathers'], ['trophy', 'trophies'], ['pelt', 'pelts'], ['hide', 'hides'], ['live', 'lives']], 'leopard': [['taxidermy', 'taxidermies'], ['skin', 'skins'], ['fur', 'furs'], ['hair', 'hairs'], ['paw', 'paws'], ['foot', 'feet'], ['feet', 'feets'], ['teeth', 'teeths'], ['tooth', 'teeth'], ['skull', 'skulls'], ['bone', 'bones'], ['skeleton', 'skeletons'], ['carcass', 'carcasses'], ['meat', 'meats'], ['leather', 'leathers'], ['trophy', 'trophies'], ['pelt', 'pelts'], ['hide', 'hides'], ['live', 'lives']], 'tiger': [['taxidermy', 'taxidermies'], ['skin', 'skins'], ['fur', 'furs'], ['hair', 'hairs'], ['paw', 'paws'], ['foot', 'feet'], ['feet', 'feets'], ['teeth', 'teeths'], ['tooth', 'teeth'], ['skull', 'skulls'], ['bone', 'bones'], ['skeleton', 'skeletons'], ['carcass', 'carcasses'], ['meat', 'meats'], ['leather', 'leathers'], ['trophy', 'trophies'], ['pelt', 'pelts'], ['hide', 'hides'], ['live', 'lives']], 'ocelot': [['taxidermy', 'taxidermies'], ['skin', 'skins'], ['fur', 'furs'], ['hair', 'hairs'], ['paw', 'paws'], ['foot', 'feet'], ['feet', 'feets'], ['teeth', 'teeths'], ['tooth', 'teeth'], ['skull', 'skulls'], ['bone', 'bones'], ['skeleton', 'skeletons'], ['carcass', 'carcasses'], ['meat', 'meats'], ['leather', 'leathers'], ['trophy', 'trophies'], ['pelt', 'pelts'], ['hide', 'hides'], ['live', 'lives']], 'bear': [['taxidermy', 'taxidermies'], ['skin', 'skins'], ['fur', 'furs'], ['hair', 'hairs'], ['paw', 'paws'], ['claw', 'claws'], ['foot', 'feet'], ['feet', 'feets'], ['teeth', 'teeths'], ['tooth', 'teeth'], ['skull', 'skulls'], ['bone', 'bones'], ['skeleton', 'skeletons'], ['carcass', 'carcasses'], ['meat', 'meats'], ['leather', 'leathers'], ['trophy', 'trophies'], ['pelt', 'pelts'], ['hide', 'hides'], ['live', 'lives']], 'elephant': [['taxidermy', 'taxidermies'], ['skin', 'skins'], ['hair', 'hairs'], ['tusk', 'tusks'], ['paw', 'paws'], ['foot', 'feet'], ['feet', 'feets'], ['teeth', 'teeths'], ['tooth', 'teeth'], ['tusk', 'tusks'], ['horn', 'horns'], ['skull', 'skulls'], ['bone', 'bones'], ['skeleton', 'skeletons'], ['carcass', 'carcasses'], ['meat', 'meats'], ['leather', 'leathers'], ['trophy', 'trophies'], ['pelt', 'pelts'], ['hide', 'hides'], ['live', 'lives']], 'rhinoceros': [['taxidermy', 'taxidermies'], ['skin', 'skins'], ['tusk', 'tusks'], ['foot', 'feet'], ['feet', 'feets'], ['teeth', 'teeths'], ['tooth', 'teeth'], ['tusk', 'tusks'], ['horn', 'horns'], ['skull', 'skulls'], ['bone', 'bones'], ['skeleton', 'skeletons'], ['carcass', 'carcasses'], ['meat', 'meats'], ['leather', 'leathers'], ['trophy', 'trophies'], ['pelt', 'pelts'], ['hide', 'hides'], ['live', 'lives']], 'parrot': [['taxidermy', 'taxidermies'], ['fur', 'furs'], ['claw', 'claws'], ['foot', 'feet'], ['feet', 'feets'], ['skull', 'skulls'], ['bone', 'bones'], ['skeleton', 'skeletons'], ['carcass', 'carcasses'], ['meat', 'meats'], ['feather', 'feathers'], ['egg', 'eggs'], ['trophy', 'trophies'], ['live', 'lives']], 'macaw': [['taxidermy', 'taxidermies'], ['fur', 'furs'], ['claw', 'claws'], ['foot', 'feet'], ['feet', 'feets'], ['skull', 'skulls'], ['bone', 'bones'], ['skeleton', 'skeletons'], ['carcass', 'carcasses'], ['meat', 'meats'], ['feather', 'feathers'], ['egg', 'eggs'], ['trophy', 'trophies'], ['live', 'lives']], 'pangolin': [['taxidermy', 'taxidermies'], ['shell', 'shells'], ['scale', 'scales'], ['skin', 'skins'], ['paw', 'paws'], ['claw', 'claws'], ['foot', 'feet'], ['feet', 'feets'], ['teeth', 'teeths'], ['tooth', 'teeth'], ['skull', 'skulls'], ['bone', 'bones'], ['skeleton', 'skeletons'], ['carcass', 'carcasses'], ['meat', 'meats'], ['leather', 'leathers'], ['trophy', 'trophies'], ['pelt', 'pelts'], ['hide', 'hides'], ['live', 'lives']], 'clam': [['taxidermy', 'taxidermies'], ['shell', 'shells'], ['scale', 'scales'], ['carcass', 'carcasses'], ['meat', 'meats'], ['trophy', 'trophies'], ['oil', 'oils'], ['live', 'lives']]}\n"
     ]
    }
   ],
   "source": [
    "product_species = []\n",
    "product = {}\n",
    "with open('common_kws.txt') as file:\n",
    "    temp = \"\"\n",
    "    for line in file:\n",
    "        if line[-1] == '\\n':\n",
    "            line = line[:-1]\n",
    "        tmp = line.split()\n",
    "        if len(tmp) == 1:\n",
    "            product_species.append(line)\n",
    "            temp = line.lower()\n",
    "        if len(tmp) > 1:\n",
    "            if temp in product:\n",
    "                product[temp].append(tmp[-1])\n",
    "            else:\n",
    "                product[temp] = [tmp[-1]]\n",
    "length = len(product_species)\n",
    "for i in range(length):\n",
    "    product_species[i] = product_species[i].lower()\n",
    "    product_species[i] = [product_species[i], singular_to_plural(product_species[i])]\n",
    "for i in product:\n",
    "    length = len(product[i])\n",
    "    for k in range(length):\n",
    "        product[i][k] = product[i][k].lower()\n",
    "        product[i][k] = [product[i][k], singular_to_plural(product[i][k])]\n",
    "print(product_species)\n",
    "print(product)"
   ]
  },
  {
   "cell_type": "code",
   "execution_count": 4,
   "id": "f9c0a88b",
   "metadata": {},
   "outputs": [
    {
     "name": "stdout",
     "output_type": "stream",
     "text": [
      "[['struthio camelu', 'struthio camelus'], ['ostrich', 'ostriches'], ['canis lupu', 'canis lupus'], ['wolf', 'wolves'], ['carcharhinus falciformi', 'carcharhinus falciformis'], ['silky shark', 'silky sharks'], ['carcharhinus longimanu', 'carcharhinus longimanus'], ['great white shark', 'great white sharks'], ['carcharias tauru', 'carcharias taurus'], ['sand tiger shark', 'sand tiger sharks'], ['caiman latirostri', 'caiman latirostris'], ['caiman latirostri', 'caiman latirostris'], ['hippoglossus hippoglossu', 'hippoglossus hippoglossus'], ['halibut', 'halibuts'], ['calathus lundbladi', 'calathus lundbladis'], ['ground beetle', 'ground beetles'], ['crocodylus niloticu', 'crocodylus niloticus'], ['nile crocodile', 'nile crocodiles'], ['sebastes fasciatu', 'sebastes fasciatus'], ['redfish', 'redfish']]\n"
     ]
    }
   ],
   "source": [
    "top = []\n",
    "with open('top10.txt') as file:\n",
    "    for line in file:\n",
    "        if line[-1] == '\\n':\n",
    "            line = line[:-1]\n",
    "        top.append(line)\n",
    "length = len(top)\n",
    "for i in range(length):\n",
    "    top[i] = top[i].lower()\n",
    "    tmp = plural_to_singular(top[i])\n",
    "    if tmp == False:\n",
    "        top[i] = [top[i], singular_to_plural(top[i])]\n",
    "    else:\n",
    "        top[i] = [tmp, top[i]]\n",
    "print(top)"
   ]
  },
  {
   "cell_type": "code",
   "execution_count": 5,
   "id": "34b6b7a5",
   "metadata": {},
   "outputs": [
    {
     "name": "stderr",
     "output_type": "stream",
     "text": [
      "Setting default log level to \"WARN\".\n",
      "To adjust logging level use sc.setLogLevel(newLevel). For SparkR, use setLogLevel(newLevel).\n",
      "23/12/11 02:35:53 INFO org.apache.spark.SparkEnv: Registering MapOutputTracker\n",
      "23/12/11 02:35:53 INFO org.apache.spark.SparkEnv: Registering BlockManagerMaster\n",
      "23/12/11 02:35:53 INFO org.apache.spark.SparkEnv: Registering BlockManagerMasterHeartbeat\n",
      "23/12/11 02:35:53 INFO org.apache.spark.SparkEnv: Registering OutputCommitCoordinator\n"
     ]
    }
   ],
   "source": [
    "from pyspark import SparkContext, SparkConf\n",
    "cf = SparkConf()\n",
    "cf.set(\"spark.submit.deployMode\",\"client\")\n",
    "sc = SparkContext.getOrCreate(cf)\n",
    "from pyspark.sql import SparkSession\n",
    "spark = SparkSession \\\n",
    "\t    .builder \\\n",
    "\t    .appName(\"Python Spark SQL basic example\") \\\n",
    "\t    .config(\"spark.some.config.option\", \"some-value\") \\\n",
    "\t    .getOrCreate()\n",
    "                            "
   ]
  },
  {
   "cell_type": "code",
   "execution_count": 6,
   "id": "c3f95bc5",
   "metadata": {},
   "outputs": [
    {
     "name": "stderr",
     "output_type": "stream",
     "text": [
      "                                                                                \r"
     ]
    }
   ],
   "source": [
    "DF = spark.read.parquet(\"/shared/CS-GY-6513/projects/WildLife/processed-data-oct\")"
   ]
  },
  {
   "cell_type": "code",
   "execution_count": 7,
   "id": "9921857e",
   "metadata": {},
   "outputs": [],
   "source": [
    "DF = DF.select([DF.columns[i] for i in range(0, len(DF.columns)) if i != 16])"
   ]
  },
  {
   "cell_type": "code",
   "execution_count": 8,
   "id": "0fe24d33",
   "metadata": {},
   "outputs": [
    {
     "name": "stdout",
     "output_type": "stream",
     "text": [
      "root\n",
      " |-- url: string (nullable = true)\n",
      " |-- title: string (nullable = true)\n",
      " |-- text: string (nullable = true)\n",
      " |-- domain: string (nullable = true)\n",
      " |-- name: string (nullable = true)\n",
      " |-- description: string (nullable = true)\n",
      " |-- image: string (nullable = true)\n",
      " |-- retrieved: string (nullable = true)\n",
      " |-- production_data: string (nullable = true)\n",
      " |-- category: string (nullable = true)\n",
      " |-- price: double (nullable = true)\n",
      " |-- currency: string (nullable = true)\n",
      " |-- seller: string (nullable = true)\n",
      " |-- seller_type: string (nullable = true)\n",
      " |-- seller_url: string (nullable = true)\n",
      " |-- location: string (nullable = true)\n",
      " |-- id: string (nullable = true)\n",
      " |-- loc_name: string (nullable = true)\n",
      " |-- lat: double (nullable = true)\n",
      " |-- lon: double (nullable = true)\n",
      " |-- country: string (nullable = true)\n",
      " |-- product: string (nullable = true)\n",
      " |-- label_product: string (nullable = true)\n",
      " |-- score_product: double (nullable = true)\n",
      " |-- label: double (nullable = true)\n",
      " |-- score: double (nullable = true)\n",
      "\n"
     ]
    }
   ],
   "source": [
    "DF.printSchema()"
   ]
  },
  {
   "cell_type": "code",
   "execution_count": 12,
   "id": "345731c3",
   "metadata": {},
   "outputs": [
    {
     "name": "stdout",
     "output_type": "stream",
     "text": [
      "+--------------------------------------------------------------------------------------------------+\n",
      "|product                                                                                           |\n",
      "+--------------------------------------------------------------------------------------------------+\n",
      "|10 PACK 1/2 oz. Round jig heads with barb 2/0 or 3/0 Mustad bronze hooks $5.50 - PicClick         |\n",
      "|10 \"WIDE EYE\" Jig Head Crappie Trout Saltwater Lure Ultra Point Hook -Orange $17.15 - PicClick    |\n",
      "|13 FISHING SPIN Walker 4 1/4 inch Prop Pencil Hybrid Topwater Bass Hard Lure $20.28 - PicClick    |\n",
      "|1:6 HEAD SCULPT North American Gray Wolf Carved For 12\" Male Action Figure Body $46.99 - PicClick |\n",
      "|16X \"BULLET\" 8 oz Striper Ling Cod Grouper Halibut Saltwater Hook Jig Head Lures $65.00 - PicClick|\n",
      "|2X WOLF HEAD Car Side Fender Rear Trunk Emblem Badge Decals ( black $12.99 - PicClick            |\n",
      "|4PK BUCKTAIL JIG Squid Skirt Lure total 20 Skirts 12cm,9cm,7cm Choice of size $11.50 - PicClick   |\n",
      "|5 FOSSIL SHARK Teeth about 2 cm, found in Bone Valley Florida, lived 15-25 MYA $14.95 - PicClick  |\n",
      "|ACME KASTMASTER SPOON 1/4 oz. Mutli-Species, Trout, Bass & Walleye Fishing $9.68 - PicClick       |\n",
      "|ANTIQUE MODERN GREAT White Shark Tooth Sterling Cap Pendant Necklace 1-5/16 $449.00 - PicClick    |\n",
      "|BEAUTIFUL EXOTIC OSTRICH Leg Handmade Custom Quality Cowboy Boots 9D Exc Cond $175.00 - PicClick  |\n",
      "|BLACK GENUINE REAL Crocodile Leather Skin Hide Exotic Pelt Taxidermy Belly Skin $99.99 - PicClick |\n",
      "|BLACK REAL OSTRICH Skin Leather Sling Shoulder Bag, Women's Small Crossbody Bag $122.55 - PicClick|\n",
      "|CLIP IN HAIR Extensions Real Human Hair Weft Full Head 8 Pieces 12 14 16 18 Inch $18.57 - PicClick|\n",
      "|COTTON CORDELL ORIGINAL Pencil Popper Topwater Fishing Lure Striper Bass Pike $10.95 - PicClick   |\n",
      "|DAIWA ZAKANA CASTING Jigs Saltwater Casting & Vertical Jigging Lure $14.68 - PicClick             |\n",
      "|DEADLY DICK LURE #3 Long Casting Green 1.75oz $12.99 - PicClick                                   |\n",
      "|ETRA VINTAGE BROWN Lizard Leather Flat Shoulder Bag w Chain Strap Purse Clutch $45.00 - PicClick  |\n",
      "|EPPINGER REX SPOON 1/2 Oz Fresh/Salt Water Bass/Redfish Lure Gold $14.00 - PicClick               |\n",
      "|FOSSILIZED 0.99 INCH TIGER SHARK TOOTH & Bonus Items From Venice Florida $14.99 - PicClick        |\n",
      "+--------------------------------------------------------------------------------------------------+\n",
      "only showing top 20 rows\n",
      "\n"
     ]
    }
   ],
   "source": [
    "result = DF.filter(DF['label'] == 1).select('product')\n",
    "result.show(truncate=False)"
   ]
  },
  {
   "cell_type": "code",
   "execution_count": 13,
   "id": "70e2d986",
   "metadata": {},
   "outputs": [],
   "source": [
    "def fingerprint2(value):\n",
    "    res = value.split(\" \")\n",
    "    for i in range(len(res)):\n",
    "        res[i] = fingerprint(res[i])\n",
    "    return res\n",
    "def Filter(x):\n",
    "    ans1 = 0\n",
    "    res = \"\"\n",
    "    ans2 = 0\n",
    "    for i in range(len(x)):\n",
    "        if ans1:\n",
    "            break\n",
    "        for j in product_species:\n",
    "            if x[i] in j:\n",
    "                ans1 = 1\n",
    "                res = j[0]\n",
    "                break\n",
    "    if ans1 == 0:\n",
    "        return False\n",
    "    for i in range(len(x)):\n",
    "        for j in product[res]:\n",
    "            if x[i] in j:\n",
    "                return True\n",
    "    return False\n",
    "def mapfunction(x):\n",
    "    ans1 = \"\"\n",
    "    tmp = 0\n",
    "    ans2 = \"\"\n",
    "    for i in range(len(x)):\n",
    "        if tmp:\n",
    "            break\n",
    "        for j in product_species:\n",
    "            if x[i] in j:\n",
    "                ans1 = j[0]\n",
    "                tmp = 1\n",
    "                break\n",
    "    for i in range(len(x)):\n",
    "        for j in product[ans1]:\n",
    "            if x[i] in j:\n",
    "                ans2 = j[0]\n",
    "    return (ans1, ans2)\n",
    "RES = result.rdd.flatMap(list).map(fingerprint2).filter(Filter).map(mapfunction)"
   ]
  },
  {
   "cell_type": "code",
   "execution_count": 14,
   "id": "247fb087",
   "metadata": {},
   "outputs": [
    {
     "name": "stderr",
     "output_type": "stream",
     "text": [
      "                                                                                \r"
     ]
    }
   ],
   "source": [
    "from pyspark.sql import Row\n",
    "RES = RES.map(lambda p: Row(species = p[0], derivative = p[1]))\n",
    "RES = spark.createDataFrame(RES)\n",
    "RES.createOrReplaceTempView(\"RES\")\n",
    "NEW = spark.sql(\"select species, count(distinct derivative) as distinct_derivatives, count(*) as count from RES group by species order by count desc\")"
   ]
  },
  {
   "cell_type": "code",
   "execution_count": 15,
   "id": "bbb7c93f",
   "metadata": {},
   "outputs": [
    {
     "name": "stderr",
     "output_type": "stream",
     "text": [
      "[Stage 8:================================================>        (18 + 3) / 21]\r"
     ]
    },
    {
     "name": "stdout",
     "output_type": "stream",
     "text": [
      "+----------+--------------------+-----+\n",
      "|   species|distinct_derivatives|count|\n",
      "+----------+--------------------+-----+\n",
      "|     shark|                  18| 4570|\n",
      "|     tiger|                   8| 2051|\n",
      "| crocodile|                   9| 1304|\n",
      "|      bird|                   6|  174|\n",
      "| alligator|                   9|  130|\n",
      "|     snake|                   6|  124|\n",
      "|      bear|                  10|   85|\n",
      "|    python|                   3|   15|\n",
      "|     otter|                   4|   12|\n",
      "|      lynx|                   2|   11|\n",
      "|      lion|                   2|   11|\n",
      "|     eagle|                   2|   10|\n",
      "|    turtle|                   3|    9|\n",
      "|   leopard|                   5|    8|\n",
      "|    lizard|                   2|    7|\n",
      "|     cobra|                   3|    6|\n",
      "|      clam|                   1|    6|\n",
      "|   reptile|                   3|    6|\n",
      "|  elephant|                   2|    3|\n",
      "|       owl|                   1|    3|\n",
      "|   macaque|                   1|    1|\n",
      "|chimpanzee|                   1|    1|\n",
      "|    monkey|                   1|    1|\n",
      "|   gorilla|                   1|    1|\n",
      "+----------+--------------------+-----+\n",
      "\n"
     ]
    },
    {
     "name": "stderr",
     "output_type": "stream",
     "text": [
      "\r",
      "                                                                                \r"
     ]
    }
   ],
   "source": [
    "NEW.show(100)"
   ]
  },
  {
   "cell_type": "code",
   "execution_count": 16,
   "id": "753f800e",
   "metadata": {},
   "outputs": [
    {
     "name": "stderr",
     "output_type": "stream",
     "text": [
      "                                                                                \r"
     ]
    },
    {
     "name": "stdout",
     "output_type": "stream",
     "text": [
      "+---------------------------------+\n",
      "|corr(distinct_derivatives, count)|\n",
      "+---------------------------------+\n",
      "|               0.8147839390773535|\n",
      "+---------------------------------+\n",
      "\n"
     ]
    }
   ],
   "source": [
    "from pyspark.sql.functions import corr\n",
    "NEW.select(corr(\"distinct_derivatives\", \"count\")).show()"
   ]
  },
  {
   "cell_type": "code",
   "execution_count": 17,
   "id": "b88c099c",
   "metadata": {
    "scrolled": true
   },
   "outputs": [
    {
     "name": "stderr",
     "output_type": "stream",
     "text": [
      "                                                                                \r"
     ]
    },
    {
     "data": {
      "image/png": "[encoded data removed]",
      "text/plain": [
       "<Figure size 432x288 with 1 Axes>"
      ]
     },
     "metadata": {
      "needs_background": "light"
     },
     "output_type": "display_data"
    }
   ],
   "source": [
    "NEW = NEW.toPandas()\n",
    "import matplotlib.pyplot as plt\n",
    "from sklearn.linear_model import LinearRegression\n",
    "X = NEW['distinct_derivatives'].values.reshape(-1, 1)\n",
    "Y = NEW['count'].values\n",
    "linear_regressor = LinearRegression()\n",
    "linear_regressor.fit(X, Y)\n",
    "Y_pred = linear_regressor.predict(X)\n",
    "plt.xlabel('derivatives')\n",
    "plt.ylabel('count of ads for animal product')\n",
    "plt.title('Linear Regression between the number of derivatives and the number of ads')\n",
    "plt.scatter(X, Y)\n",
    "plt.plot(X, Y_pred, color='red')\n",
    "plt.show()"
   ]
  },
  {
   "cell_type": "markdown",
   "id": "a9a2d7e6",
   "metadata": {},
   "source": [
    "Identify endangered species "
   ]
  },
  {
   "cell_type": "code",
   "execution_count": 26,
   "id": "18c2c71d",
   "metadata": {},
   "outputs": [
    {
     "name": "stdout",
     "output_type": "stream",
     "text": [
      "+--------------------------------------------------------------------------------------------------+\n",
      "|product                                                                                           |\n",
      "+--------------------------------------------------------------------------------------------------+\n",
      "|10 PACK 1/2 oz. Round jig heads with barb 2/0 or 3/0 Mustad bronze hooks $5.50 - PicClick         |\n",
      "|10 \"WIDE EYE\" Jig Head Crappie Trout Saltwater Lure Ultra Point Hook -Orange $17.15 - PicClick    |\n",
      "|13 FISHING SPIN Walker 4 1/4 inch Prop Pencil Hybrid Topwater Bass Hard Lure $20.28 - PicClick    |\n",
      "|1:6 HEAD SCULPT North American Gray Wolf Carved For 12\" Male Action Figure Body $46.99 - PicClick |\n",
      "|16X \"BULLET\" 8 oz Striper Ling Cod Grouper Halibut Saltwater Hook Jig Head Lures $65.00 - PicClick|\n",
      "|2X WOLF HEAD Car Side Fender Rear Trunk Emblem Badge Decals ( black $12.99 - PicClick            |\n",
      "|4PK BUCKTAIL JIG Squid Skirt Lure total 20 Skirts 12cm,9cm,7cm Choice of size $11.50 - PicClick   |\n",
      "|5 FOSSIL SHARK Teeth about 2 cm, found in Bone Valley Florida, lived 15-25 MYA $14.95 - PicClick  |\n",
      "|ACME KASTMASTER SPOON 1/4 oz. Mutli-Species, Trout, Bass & Walleye Fishing $9.68 - PicClick       |\n",
      "|ANTIQUE MODERN GREAT White Shark Tooth Sterling Cap Pendant Necklace 1-5/16 $449.00 - PicClick    |\n",
      "|BEAUTIFUL EXOTIC OSTRICH Leg Handmade Custom Quality Cowboy Boots 9D Exc Cond $175.00 - PicClick  |\n",
      "|BLACK GENUINE REAL Crocodile Leather Skin Hide Exotic Pelt Taxidermy Belly Skin $99.99 - PicClick |\n",
      "|BLACK REAL OSTRICH Skin Leather Sling Shoulder Bag, Women's Small Crossbody Bag $122.55 - PicClick|\n",
      "|CLIP IN HAIR Extensions Real Human Hair Weft Full Head 8 Pieces 12 14 16 18 Inch $18.57 - PicClick|\n",
      "|COTTON CORDELL ORIGINAL Pencil Popper Topwater Fishing Lure Striper Bass Pike $10.95 - PicClick   |\n",
      "|DAIWA ZAKANA CASTING Jigs Saltwater Casting & Vertical Jigging Lure $14.68 - PicClick             |\n",
      "|DEADLY DICK LURE #3 Long Casting Green 1.75oz $12.99 - PicClick                                   |\n",
      "|ETRA VINTAGE BROWN Lizard Leather Flat Shoulder Bag w Chain Strap Purse Clutch $45.00 - PicClick  |\n",
      "|EPPINGER REX SPOON 1/2 Oz Fresh/Salt Water Bass/Redfish Lure Gold $14.00 - PicClick               |\n",
      "|FOSSILIZED 0.99 INCH TIGER SHARK TOOTH & Bonus Items From Venice Florida $14.99 - PicClick        |\n",
      "+--------------------------------------------------------------------------------------------------+\n",
      "only showing top 20 rows\n",
      "\n"
     ]
    }
   ],
   "source": [
    "result = DF.filter(DF['label'] == 1).select('product')\n",
    "result.show(truncate=False)"
   ]
  },
  {
   "cell_type": "code",
   "execution_count": 27,
   "id": "88365e66",
   "metadata": {},
   "outputs": [],
   "source": [
    "def Filter1(x):\n",
    "    for i in range(len(x)):\n",
    "        for j in endangered_species:\n",
    "            if x[i] in j:\n",
    "                return True\n",
    "            if i >= 1 and (x[i-1] + \" \" + x[i]) in j:\n",
    "                return True\n",
    "            if i >= 2 and (x[i-2] + \" \" + x[i-1] + \" \" + x[i]) in j:\n",
    "                return True\n",
    "    return False\n",
    "def mapfunction1(x):\n",
    "    for i in range(len(x)):\n",
    "        for j in endangered_species:\n",
    "            if x[i] in j:\n",
    "                return j[0]\n",
    "            if i >= 1 and (x[i-1] + \" \" + x[i]) in j:\n",
    "                return j[0]\n",
    "            if i >= 2 and (x[i-2] + \" \" + x[i-1] + \" \" + x[i]) in j:\n",
    "                return j[0]\n",
    "RES = result.rdd.flatMap(list).map(fingerprint2).filter(Filter1).map(mapfunction1)"
   ]
  },
  {
   "cell_type": "code",
   "execution_count": 28,
   "id": "e7eadb83",
   "metadata": {},
   "outputs": [
    {
     "name": "stderr",
     "output_type": "stream",
     "text": [
      "[Stage 52:=====================================================>  (18 + 1) / 19]\r"
     ]
    },
    {
     "name": "stdout",
     "output_type": "stream",
     "text": [
      "+-------------------+-----+\n",
      "|            species|count|\n",
      "+-------------------+-----+\n",
      "|         canis lupu| 2116|\n",
      "|    struthio camelu| 1389|\n",
      "|crocodylus niloticu|  778|\n",
      "|  caiman latirostri|  392|\n",
      "|                pan|   14|\n",
      "|         chinchilla|    7|\n",
      "|        brachylophu|    2|\n",
      "+-------------------+-----+\n",
      "\n"
     ]
    },
    {
     "name": "stderr",
     "output_type": "stream",
     "text": [
      "\r",
      "                                                                                \r"
     ]
    }
   ],
   "source": [
    "RES = RES.map(lambda p: Row(species = p))\n",
    "RES = spark.createDataFrame(RES)\n",
    "RES.createOrReplaceTempView(\"RES\")\n",
    "spark.sql(\"select species, count(*) as count from RES group by species order by count desc\").show(100)"
   ]
  },
  {
   "cell_type": "code",
   "execution_count": 29,
   "id": "c51563ac",
   "metadata": {},
   "outputs": [
    {
     "name": "stderr",
     "output_type": "stream",
     "text": [
      "[Stage 56:===============================================>        (16 + 3) / 19]\r"
     ]
    },
    {
     "name": "stdout",
     "output_type": "stream",
     "text": [
      "+--------------------+-----+\n",
      "|             species|count|\n",
      "+--------------------+-----+\n",
      "|                wolf| 7502|\n",
      "|   great white shark| 6515|\n",
      "|             ostrich| 5901|\n",
      "|    sand tiger shark| 4704|\n",
      "|      nile crocodile| 3219|\n",
      "|             redfish| 2785|\n",
      "|             halibut| 2686|\n",
      "|         silky shark| 2245|\n",
      "|       ground beetle| 2199|\n",
      "|          canis lupu| 1521|\n",
      "|     struthio camelu| 1181|\n",
      "| crocodylus niloticu|  454|\n",
      "|   caiman latirostri|  392|\n",
      "|    carcharias tauru|  317|\n",
      "|hippoglossus hipp...|  261|\n",
      "|carcharhinus long...|  129|\n",
      "|carcharhinus falc...|   94|\n",
      "+--------------------+-----+\n",
      "\n"
     ]
    },
    {
     "name": "stderr",
     "output_type": "stream",
     "text": [
      "\r",
      "                                                                                \r"
     ]
    }
   ],
   "source": [
    "def Filter2(x):\n",
    "    for i in range(len(x)):\n",
    "        for j in top:\n",
    "            if x[i] in j:\n",
    "                return True\n",
    "            if i >= 1 and (x[i-1] + \" \" + x[i]) in j:\n",
    "                return True\n",
    "            if i >= 2 and (x[i-2] + \" \" + x[i-1] + \" \" + x[i]) in j:\n",
    "                return True\n",
    "    return False\n",
    "def mapfunction2(x):\n",
    "    for i in range(len(x)):\n",
    "        for j in top:\n",
    "            if x[i] in j:\n",
    "                return j[0]\n",
    "            if i >= 1 and (x[i-1] + \" \" + x[i]) in j:\n",
    "                return j[0]\n",
    "            if i >= 2 and (x[i-2] + \" \" + x[i-1] + \" \" + x[i]) in j:\n",
    "                return j[0]\n",
    "RES = result.rdd.flatMap(list).map(fingerprint2).filter(Filter2).map(mapfunction2)\n",
    "RES = RES.map(lambda p: Row(species = p))\n",
    "RES = spark.createDataFrame(RES)\n",
    "RES.createOrReplaceTempView(\"RES\")\n",
    "spark.sql(\"select species, count(*) as count from RES group by species order by count desc\").show()"
   ]
  },
  {
   "cell_type": "code",
   "execution_count": 49,
   "id": "c39d5755",
   "metadata": {},
   "outputs": [
    {
     "name": "stdout",
     "output_type": "stream",
     "text": [
      "+--------------------------------------------------------------------------------------------------------------------------------------------------------------------------------------------------------------------------------------------------------------------------------+-----------------+-------------------+\n",
      "|product                                                                                                                                                                                                                                                                         |production_data  |location           |\n",
      "+--------------------------------------------------------------------------------------------------------------------------------------------------------------------------------------------------------------------------------------------------------------------------------+-----------------+-------------------+\n",
      "|Francine Tint - Wolf Mother For Sale at 1stDibs | wolf tint, mother tint, francine wolf                                                                                                                                                                                         |2010-            |Bridgehampton, NY  |\n",
      "|Louis Feraud Nut Wool Cape Coat For Sale at 1stDibs | louis feraud watch price, brown cape coat, louis feraud wool coat                                                                                                                                                         |1970-1979        |Paris, FR          |\n",
      "|HermÚs Honey Ostrich 40 cm Birkin with Gold Hardware For Sale at 1stDibs | birkin bag, most expensive purse, ostrich purse                                                                                                                                                      |1990-1999        |Palm Beach, FL     |\n",
      "|Pair of Italian Armchairs with Black Metal Feet For Sale at 1stDibs                                                                                                                                                                                                             |Late 20th Century|Saint-Ouen, FR     |\n",
      "|Dolce and Gabbana Textured Lurex and Caiman Leather Briefcase Bag Black Gold For Sale at 1stDibs                                                                                                                                                                                |21st Century     |Erkrath, DE        |\n",
      "|Fine Taxidermy 5 Meter Nile Crocodile by Sinke and Van Tongeren For Sale at 1stDibs | nile crocodile taxidermy, crocodile taxidermy for sale, real stuffed crocodile                                                                                                            |21st Century     |Haarlem, NL        |\n",
      "|Egyptian Revival King Tut Khepri Scarab Necklace 18Kt Gold with Carved Gemstones For Sale at 1stDibs | who is the scarab ac origins, egyptian necklace pendant, scarab jewelry                                                                                                  |Late 20th Century|Miami, FL          |\n",
      "|Coffer Shoulder Bag Matelasse Leather White by Miu Miu For Sale at 1stDibs | white leather shoulder bag, miu miu pearl bag, miu miu matelasse coffer bag                                                                                                                        |21st Century     |Bilbao, ES         |\n",
      "|Van Cleef and Arpels Perlée Pearls of Gold 5 Row 18K Yellow Gold Bracelet M For Sale at 1stDibs | perlee bracelet, vca perlee pearls of gold bracelet, perlee pearls of gold bracelet                                                                                           |2010-            |Dubai, AE          |\n",
      "|Golden Star Rutilated Quartz Gold Black Silver Necklace, Dana Kellin 2023 For Sale at 1stDibs                                                                                                                                                                                   |2010-            |Dallas, TX         |\n",
      "|Laurence Le Constant - Heart and Spine, abstract wall sculpture, coloured texture flowers sun For Sale at 1stDibs | texture in sculpture, abstract spine art, laurence constant                                                                                                 |2010-            |Paris, FR          |\n",
      "|Antique Oushak Carpet, Handmade Turkish Oriental Rug, Beige, Taupe, Charcoal For Sale at 1stDibs | beige rug, coral rug                                                                                                                                                         |Mid-20th Century |Port Washington, NY|\n",
      "|Pierluigi Spadolini for 1P 'Boccio' Dining or Center Table in Red Resin For Sale at 1stDibs | resin center table, nancy pfister net worth, spadolini watch                                                                                                                      |1970-1979        |Waalwijk, NL       |\n",
      "|Chanel Camellia WOC Wallet On Chain Black Lambskin Leather For Sale at 1stDibs                                                                                                                                                                                                  |2010-            |Roosendaal, NL     |\n",
      "|Climbing Raccoon Taxidermy For Sale at 1stDibs | dancing racoon gif, raccoon mounts, taxidermy racoon cowboy                                                                                                                                                                    |2010-            |Coeur d'Alene, ID  |\n",
      "|Taurus Collection Modern Geometric Goat Hair Rug by Doris Leslie Blau For Sale at 1stDibs                                                                                                                                                                                       |21st Century     |New York, NY       |\n",
      "|Taurus Collection Modern Striped Handmade Goat Hair Rug by Doris Leslie Blau For Sale at 1stDibs                                                                                                                                                                                |21st Century     |New York, NY       |\n",
      "|Crocodile Brown Sofa with Real Nile Crocodile Skin and Natural Horns For Sale at 1stDibs | crocodile leather sofa, crocodile couch, crocodile sofa                                                                                                                              |21st Century     |Paris, FR          |\n",
      "|Arne Jacobsen, \"Egg\" Lounge Chairs, Black Leather, Fritz Hansen, Denmark, 1958 For Sale at 1stDibs | egg lounge chair, egg chair design -china -b2b -forum -blog -wikipedia -.cn -.gov -alibaba, arne jacobsen egg chair -china -b2b -forum -blog -wikipedia -.cn -.gov -alibaba|1950-1959        |High Point, NC     |\n",
      "|The Egg, Model 3316, Red Leather, by Arne Jacobsen and Fritz Hansen, 2001 For Sale at 1stDibs | red leather egg chair, red egg chair                                                                                                                                            |1950-1959        |Lejre, DK          |\n",
      "+--------------------------------------------------------------------------------------------------------------------------------------------------------------------------------------------------------------------------------------------------------------------------------+-----------------+-------------------+\n",
      "only showing top 20 rows\n",
      "\n"
     ]
    }
   ],
   "source": [
    "result = DF.filter(DF['label'] == 1).filter(DF['production_data'] != 'None').select('product', 'production_data', 'location')\n",
    "result.show(truncate=False)"
   ]
  },
  {
   "cell_type": "code",
   "execution_count": 50,
   "id": "1a607222",
   "metadata": {},
   "outputs": [
    {
     "data": {
      "text/plain": [
       "609"
      ]
     },
     "execution_count": 50,
     "metadata": {},
     "output_type": "execute_result"
    }
   ],
   "source": [
    "result.count()"
   ]
  },
  {
   "cell_type": "code",
   "execution_count": 52,
   "id": "751c336b",
   "metadata": {},
   "outputs": [
    {
     "name": "stdout",
     "output_type": "stream",
     "text": [
      "+--------------+-----------------+-----+\n",
      "|       species|         location|count|\n",
      "+--------------+-----------------+-----+\n",
      "|       ostrich|              USA|    6|\n",
      "|       ostrich|  Bothas Hill, ZA|    3|\n",
      "|       ostrich|  Los Angeles, CA|    3|\n",
      "|       ostrich|    Great Britain|    3|\n",
      "|       ostrich| Philadelphia, PA|    3|\n",
      "|          wolf|     New York, NY|    2|\n",
      "|          wolf|Bridgehampton, NY|    1|\n",
      "|       ostrich|   Palm Beach, FL|    1|\n",
      "|       ostrich|     Westport, CT|    1|\n",
      "|       ostrich|       Forney, TX|    1|\n",
      "|nile crocodile|              USA|    1|\n",
      "|       ostrich|       Carmel, CA|    1|\n",
      "|          wolf|       London, GB|    1|\n",
      "|nile crocodile|        Paris, FR|    1|\n",
      "|       ostrich|  Switzerland, CH|    1|\n",
      "|       ostrich|         Rome, IT|    1|\n",
      "|       ostrich|   Barrowford, GB|    1|\n",
      "|nile crocodile|               FR|    1|\n",
      "|       ostrich|     ZuÌrich, CH|    1|\n",
      "|       ostrich|      Toronto, CA|    1|\n",
      "+--------------+-----------------+-----+\n",
      "only showing top 20 rows\n",
      "\n"
     ]
    }
   ],
   "source": [
    "def Filter3(x):\n",
    "    for i in range(len(x[0])):\n",
    "        for j in top:\n",
    "            if x[0][i] in j:\n",
    "                return True\n",
    "            if i >= 1 and (x[0][i-1] + \" \" + x[0][i]) in j:\n",
    "                return True\n",
    "            if i >= 2 and (x[0][i-2] + \" \" + x[0][i-1] + \" \" + x[0][i]) in j:\n",
    "                return True\n",
    "    return False\n",
    "def mapfunction3(x):\n",
    "    for i in range(len(x[0])):\n",
    "        for j in top:\n",
    "            if x[0][i] in j:\n",
    "                return [j[0], x[1], x[2]]\n",
    "            if i >= 1 and (x[0][i-1] + \" \" + x[0][i]) in j:\n",
    "                return [j[0], x[1], x[2]]\n",
    "            if i >= 2 and (x[0][i-2] + \" \" + x[0][i-1] + \" \" + x[0][i]) in j:\n",
    "                return [j[0], x[1], x[2]]\n",
    "RES = result.rdd.map(lambda x: [fingerprint2(x[0]), x[1], x[2]]).filter(Filter3).map(mapfunction3)\n",
    "RES = RES.map(lambda p: Row(species = p[0], date = p[1], location = p[2]))\n",
    "RES = spark.createDataFrame(RES)\n",
    "RES.createOrReplaceTempView(\"RES\")\n",
    "spark.sql(\"select species, location, count(*) as count from RES group by species, location order by count desc\").show()"
   ]
  },
  {
   "cell_type": "code",
   "execution_count": 53,
   "id": "439a9acf",
   "metadata": {},
   "outputs": [
    {
     "name": "stdout",
     "output_type": "stream",
     "text": [
      "+--------------------+----------------+-----+\n",
      "|                date|        location|count|\n",
      "+--------------------+----------------+-----+\n",
      "|        21st Century|             USA|    4|\n",
      "|               2010-| Bothas Hill, ZA|    3|\n",
      "|           2000-2009|Philadelphia, PA|    2|\n",
      "|               2010-| Los Angeles, CA|    2|\n",
      "|   Late 20th Century|             USA|    2|\n",
      "|        21st Century|   Great Britain|    2|\n",
      "|        21st Century| Switzerland, CH|    1|\n",
      "|           2000-2009|      London, GB|    1|\n",
      "|        21st Century|      Forney, TX|    1|\n",
      "|15th Century and ...|   Great Britain|    1|\n",
      "|           1990-1999|Philadelphia, PA|    1|\n",
      "|               2010-|  Barrowford, GB|    1|\n",
      "|    Mid-20th Century|    Westport, CT|    1|\n",
      "|           1990-1999|  Palm Beach, FL|    1|\n",
      "|  Early 20th Century|      Carmel, CA|    1|\n",
      "|        21st Century| Los Angeles, CA|    1|\n",
      "|        21st Century|    ZuÌrich, CH|    1|\n",
      "|               2010-|     Toronto, CA|    1|\n",
      "|           1990-1999|        Rome, IT|    1|\n",
      "+--------------------+----------------+-----+\n",
      "\n"
     ]
    }
   ],
   "source": [
    "spark.sql(\"select date, location , count(*) as count from RES where species = 'ostrich' group by date, location order by count desc\").show()"
   ]
  },
  {
   "cell_type": "code",
   "execution_count": 39,
   "id": "00c1efcc",
   "metadata": {},
   "outputs": [
    {
     "data": {
      "image/png": "[encoded data removed]",
      "text/plain": [
       "<Figure size 432x288 with 1 Axes>"
      ]
     },
     "metadata": {
      "needs_background": "light"
     },
     "output_type": "display_data"
    }
   ],
   "source": [
    "import matplotlib.pyplot as plt\n",
    "import pandas as pd\n",
    "\n",
    "# Data\n",
    "data = {\n",
    "    'date': ['21st Century', '2010-', '2000-2009', '1990-1999', 'Late 20th Century', 'Mid-20th Century', 'Early 20th Century', '15th Century and earlier'],\n",
    "    'count': [10, 7, 3, 3, 2, 1, 1, 1]\n",
    "}\n",
    "\n",
    "# Create a DataFrame\n",
    "df = pd.DataFrame(data)\n",
    "df = df[::-1]\n",
    "# Plotting\n",
    "fig, ax = plt.subplots()\n",
    "ax.bar(df['date'], df['count'], color='skyblue')\n",
    "\n",
    "# Adding labels and title\n",
    "ax.set_xlabel('Date')\n",
    "ax.set_ylabel('number of ads')\n",
    "ax.set_title('animal product ads for ostrich')\n",
    "\n",
    "# Rotating x-axis labels for better readability\n",
    "plt.xticks(rotation=45, ha='right')\n",
    "\n",
    "# Display the plot\n",
    "plt.show()\n"
   ]
  }
 ],
 "metadata": {
  "kernelspec": {
   "display_name": "Python 3 (ipykernel)",
   "language": "python",
   "name": "python3"
  },
  "language_info": {
   "codemirror_mode": {
    "name": "ipython",
    "version": 3
   },
   "file_extension": ".py",
   "mimetype": "text/x-python",
   "name": "python",
   "nbconvert_exporter": "python",
   "pygments_lexer": "ipython3",
   "version": "3.8.13"
  }
 },
 "nbformat": 4,
 "nbformat_minor": 5
}
