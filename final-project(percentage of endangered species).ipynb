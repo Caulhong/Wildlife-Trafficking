{
 "cells": [
  {
   "cell_type": "code",
   "execution_count": 1,
   "id": "636d315d",
   "metadata": {},
   "outputs": [
    {
     "name": "stderr",
     "output_type": "stream",
     "text": [
      "Setting default log level to \"WARN\".\n",
      "To adjust logging level use sc.setLogLevel(newLevel). For SparkR, use setLogLevel(newLevel).\n",
      "23/12/11 23:02:50 INFO org.apache.spark.SparkEnv: Registering MapOutputTracker\n",
      "23/12/11 23:02:50 INFO org.apache.spark.SparkEnv: Registering BlockManagerMaster\n",
      "23/12/11 23:02:50 INFO org.apache.spark.SparkEnv: Registering BlockManagerMasterHeartbeat\n",
      "23/12/11 23:02:50 INFO org.apache.spark.SparkEnv: Registering OutputCommitCoordinator\n"
     ]
    }
   ],
   "source": [
    "# import pyspark\n",
    "from pyspark import SparkContext, SparkConf\n",
    "cf = SparkConf()\n",
    "cf.set(\"spark.submit.deployMode\",\"client\")\n",
    "sc = SparkContext.getOrCreate(cf)\n",
    "from pyspark.sql import SparkSession\n",
    "spark = SparkSession \\\n",
    "\t    .builder \\\n",
    "\t    .appName(\"Python Spark SQL basic example\") \\\n",
    "\t    .config(\"spark.some.config.option\", \"some-value\") \\\n",
    "\t    .getOrCreate()"
   ]
  },
  {
   "cell_type": "code",
   "execution_count": null,
   "id": "81bdf5b6",
   "metadata": {},
   "outputs": [],
   "source": []
  },
  {
   "cell_type": "code",
   "execution_count": 2,
   "id": "53ae5bee",
   "metadata": {},
   "outputs": [
    {
     "name": "stderr",
     "output_type": "stream",
     "text": [
      "[Stage 0:>                                                          (0 + 1) / 1]\r"
     ]
    },
    {
     "name": "stdout",
     "output_type": "stream",
     "text": [
      "+------------+-----------------------------------------------------------------------------------------------------+-----+\n",
      "|domain      |product                                                                                              |label|\n",
      "+------------+-----------------------------------------------------------------------------------------------------+-----+\n",
      "|picclick.com|☆ HUGE LIST Vintage & New Individual Kinder Surprise Toys - Pick Your Own! ☆ $1.45 - PicClick        |0.0  |\n",
      "|picclick.com|ðŞ\"¥ATLANTIS CHRONICLES 4 CGC 9.8 White Pages DC Comics 1990 Aquaman II 1st Kordax $128.00 - PicClick|0.0  |\n",
      "|picclick.com|1/2 OZ .999 Silver proof 2016 Mexico Libertad .999 $34.99 - PicClick                                 |0.0  |\n",
      "|picclick.com|1 REGAL OSTRICH Martha Stewart Copper Cookie Cutter Noah's Ark Set 2 $5.99 - PicClick                |0.0  |\n",
      "|picclick.com|10\" A PAIR China Porcelain Ming dynasty xuande Underglaze red fish algae Jar pot $1,118.00 - PicClick|0.0  |\n",
      "|picclick.com|10 CENTS 1997 ERITREA UNC Bird Ostrich Coin #W10889C $1.65 - PicClick                                |0.0  |\n",
      "|picclick.com|10 PACK 1/2 oz. Round jig heads with barb 2/0 or 3/0 Mustad bronze hooks $5.50 - PicClick            |1.0  |\n",
      "|picclick.com|10 POMPANO TEASER Flies , #2 Bait Flies Speckled Trout Pompano VMC HOOKS $11.49 - PicClick           |0.0  |\n",
      "|picclick.com|10 \"WIDE EYE\" Jig Head Crappie Trout Saltwater Lure Ultra Point Hook -Orange $17.15 - PicClick       |1.0  |\n",
      "|picclick.com|10\" X 5\" Recur African Bush Elephant Realistic Play Figure Elephant Toy $19.95 - PicClick            |0.0  |\n",
      "|picclick.com|1000 PIECES JIGSAW Puzzles Spring Wolves Winter Wolf Pack Lot of 2 New 27 X 21 $27.99 - PicClick     |0.0  |\n",
      "|picclick.com|11\" GRUB FISHING Lure - Choose your color - Great for Halibut, Muskie, and more! $5.99 - PicClick    |0.0  |\n",
      "|picclick.com|13 FISHING SPIN Walker 4 1/4 inch Prop Pencil Hybrid Topwater Bass Hard Lure $20.28 - PicClick       |1.0  |\n",
      "|picclick.com|133G NATURAL CRYSTAL.LABRADORITE.HAND-CARVED. Exquisite koala.gift healing 4 $2.30 - PicClick        |0.0  |\n",
      "|picclick.com|1.4\" WOLF HEAD Pendant Natural Gems Rose Quartz Crystal Reiki Healing Necklace $9.00 - PicClick      |0.0  |\n",
      "|picclick.com|1:6 HEAD SCULPT North American Gray Wolf Carved For 12\" Male Action Figure Body $46.99 - PicClick    |1.0  |\n",
      "|picclick.com|16 INCH GREAT White Shark Plush Stuffed Animal with Vinyl Teeth by Wild Republic $12.99 - PicClick   |0.0  |\n",
      "|picclick.com|16OZ FIRE EYE Glow Jig Pro Pack - Halibut Fishing Jigs - \"The Halibut Pounder\" $69.99 - PicClick     |0.0  |\n",
      "|picclick.com|16X \"BULLET\" 8 oz Striper Ling Cod Grouper Halibut Saltwater Hook Jig Head Lures $65.00 - PicClick   |1.0  |\n",
      "|picclick.com|1799 ANTIQUE PRINT; Basildon Park, Berkshire after Rouviere $24.31 - PicClick                        |0.0  |\n",
      "+------------+-----------------------------------------------------------------------------------------------------+-----+\n",
      "only showing top 20 rows\n",
      "\n"
     ]
    },
    {
     "name": "stderr",
     "output_type": "stream",
     "text": [
      "                                                                                \r"
     ]
    }
   ],
   "source": [
    "# import processed data and select the correspooind coloumns\n",
    "from pyspark.sql import SparkSession\n",
    "spark = SparkSession.builder.appName(\"ParquetRead\").getOrCreate()\n",
    "custom_schema = \"domain STRING, product STRING, label DOUBLE\"\n",
    "ads_df = spark.read.schema(custom_schema).parquet(\"/shared/CS-GY-6513/projects/WildLife/processed-data-oct\")\n",
    "ads_df.createOrReplaceTempView(\"ads_view\")\n",
    "ads_df.show(20, truncate=False)"
   ]
  },
  {
   "cell_type": "code",
   "execution_count": 3,
   "id": "d90f20c8",
   "metadata": {},
   "outputs": [
    {
     "name": "stderr",
     "output_type": "stream",
     "text": [
      "                                                                                \r"
     ]
    },
    {
     "data": {
      "text/plain": [
       "375726"
      ]
     },
     "execution_count": 3,
     "metadata": {},
     "output_type": "execute_result"
    }
   ],
   "source": [
    "ads_df.count()"
   ]
  },
  {
   "cell_type": "code",
   "execution_count": 4,
   "id": "e08e29cf",
   "metadata": {},
   "outputs": [
    {
     "name": "stderr",
     "output_type": "stream",
     "text": [
      "[Stage 4:====================================>                    (12 + 7) / 19]\r"
     ]
    },
    {
     "name": "stdout",
     "output_type": "stream",
     "text": [
      "182537\n"
     ]
    },
    {
     "name": "stderr",
     "output_type": "stream",
     "text": [
      "                                                                                \r"
     ]
    }
   ],
   "source": [
    "# filtering out the duplicates\n",
    "ads_df2 = ads_df.select('product').distinct().count()\n",
    "print(ads_df2)"
   ]
  },
  {
   "cell_type": "code",
   "execution_count": 5,
   "id": "5df6ed5a",
   "metadata": {},
   "outputs": [
    {
     "name": "stderr",
     "output_type": "stream",
     "text": [
      "                                                                                \r"
     ]
    },
    {
     "name": "stdout",
     "output_type": "stream",
     "text": [
      "+--------------------+-----+\n",
      "|             product|label|\n",
      "+--------------------+-----+\n",
      "|METAL 24\" UNITED ...|  0.0|\n",
      "|TIGNANELLO PEBBLE...|  0.0|\n",
      "|Susan B Anthony (...|  0.0|\n",
      "|Wyoming, Patches,...|  1.0|\n",
      "|Postcards, United...|  0.0|\n",
      "|National Guitar F...|  0.0|\n",
      "|Victoria Secret O...|  0.0|\n",
      "|African Ostrich (...|  0.0|\n",
      "|Squishmallows 18\"...|  0.0|\n",
      "|Ground beetle Car...|  1.0|\n",
      "|Continental Postc...|  1.0|\n",
      "|Wall Mounted Stor...|  1.0|\n",
      "|Halibut in Clothi...|  1.0|\n",
      "|Nile crocodile | ...|  1.0|\n",
      "|Cast Iron Enamel ...|  0.0|\n",
      "|Jaguar Cd Changer...|  0.0|\n",
      "|Lagos Jewelry FOR...|  0.0|\n",
      "|Hoodies & Sweatsh...|  1.0|\n",
      "|revell hot-hatch ...|  0.0|\n",
      "|JJM Canidae Anima...|  0.0|\n",
      "+--------------------+-----+\n",
      "only showing top 20 rows\n",
      "\n"
     ]
    },
    {
     "data": {
      "text/plain": [
       "182537"
      ]
     },
     "execution_count": 5,
     "metadata": {},
     "output_type": "execute_result"
    }
   ],
   "source": [
    "product_distinct = spark.sql(\"SELECT DISTINCT product, label FROM ads_view\")\n",
    "product_distinct.show()\n",
    "product_distinct.count()"
   ]
  },
  {
   "cell_type": "code",
   "execution_count": 6,
   "id": "97d6d959",
   "metadata": {},
   "outputs": [
    {
     "name": "stdout",
     "output_type": "stream",
     "text": [
      "+--------------------+-----+\n",
      "|             product|label|\n",
      "+--------------------+-----+\n",
      "|FOSSILIZED 1.07 I...|  1.0|\n",
      "|FULL HEAD 100% Na...|  1.0|\n",
      "|Wheel Hub Caps & ...|  1.0|\n",
      "|Ostrich in Fast F...|  1.0|\n",
      "|Nile crocodile | ...|  1.0|\n",
      "|ARIAT MENS CROSS ...|  1.0|\n",
      "|Bouchon de fil fl...|  1.0|\n",
      "|GREAT WHITE Shark...|  1.0|\n",
      "|Real Fossil Sand ...|  1.0|\n",
      "|Wolverine Skull N...|  1.0|\n",
      "|The Taxidermy Sto...|  1.0|\n",
      "|'Wolf' for sale i...|  1.0|\n",
      "|Ground beetle for...|  1.0|\n",
      "| Knoblauchhacker ...|  1.0|\n",
      "|Lace Fishnet Herr...|  1.0|\n",
      "|Virginia sabbia f...|  1.0|\n",
      "|Glacier Wear - Fu...|  1.0|\n",
      "|Canvasback Duck S...|  1.0|\n",
      "|Marine Rope, Boat...|  1.0|\n",
      "|Halibut in Clothi...|  1.0|\n",
      "+--------------------+-----+\n",
      "only showing top 20 rows\n",
      "\n"
     ]
    },
    {
     "data": {
      "text/plain": [
       "35792"
      ]
     },
     "execution_count": 6,
     "metadata": {},
     "output_type": "execute_result"
    }
   ],
   "source": [
    "# look for animal products\n",
    "animal_product_df = product_distinct.filter(product_distinct.label == 1.0)\n",
    "animal_product_df.show()\n",
    "animal_product_df.count()"
   ]
  },
  {
   "cell_type": "code",
   "execution_count": 7,
   "id": "0d8d4319",
   "metadata": {},
   "outputs": [
    {
     "name": "stdout",
     "output_type": "stream",
     "text": [
      "+--------------------+-----+\n",
      "|             product|label|\n",
      "+--------------------+-----+\n",
      "|METAL 24\" UNITED ...|  0.0|\n",
      "|TIGNANELLO PEBBLE...|  0.0|\n",
      "|Susan B Anthony (...|  0.0|\n",
      "|Postcards, United...|  0.0|\n",
      "|National Guitar F...|  0.0|\n",
      "|Victoria Secret O...|  0.0|\n",
      "|African Ostrich (...|  0.0|\n",
      "|Squishmallows 18\"...|  0.0|\n",
      "|Cast Iron Enamel ...|  0.0|\n",
      "|Jaguar Cd Changer...|  0.0|\n",
      "|Lagos Jewelry FOR...|  0.0|\n",
      "|revell hot-hatch ...|  0.0|\n",
      "|JJM Canidae Anima...|  0.0|\n",
      "|Carcharhinus falc...|  0.0|\n",
      "|Pirate Wig FOR SA...|  0.0|\n",
      "|Volkswagen Beetle...|  0.0|\n",
      "|Nile Crocodile Cr...|  0.0|\n",
      "|Infinity Studio M...|  0.0|\n",
      "|Dir En Grey, Arti...|  0.0|\n",
      "|Furniture Accesso...|  0.0|\n",
      "+--------------------+-----+\n",
      "only showing top 20 rows\n",
      "\n"
     ]
    },
    {
     "data": {
      "text/plain": [
       "146745"
      ]
     },
     "execution_count": 7,
     "metadata": {},
     "output_type": "execute_result"
    }
   ],
   "source": [
    "# Not animal products\n",
    "Un_animal_product_df = product_distinct.filter(product_distinct.label == 0.0)\n",
    "Un_animal_product_df.show()\n",
    "Un_animal_product_df.count()"
   ]
  },
  {
   "cell_type": "code",
   "execution_count": null,
   "id": "08e80449",
   "metadata": {},
   "outputs": [],
   "source": []
  },
  {
   "cell_type": "code",
   "execution_count": 8,
   "id": "b00fc7df",
   "metadata": {},
   "outputs": [
    {
     "name": "stderr",
     "output_type": "stream",
     "text": [
      "                                                                                \r"
     ]
    },
    {
     "name": "stdout",
     "output_type": "stream",
     "text": [
      "+--------------------+\n",
      "|             Species|\n",
      "+--------------------+\n",
      "|Antilocapra ameri...|\n",
      "| Addax nasomaculatus|\n",
      "|          Bos gaurus|\n",
      "|           Bos mutus|\n",
      "|         Bos sauveli|\n",
      "|Bubalus depressic...|\n",
      "| Bubalus mindorensis|\n",
      "|    Bubalus quarlesi|\n",
      "|     Capra falconeri|\n",
      "|Capricornis milne...|\n",
      "| Capricornis rubidus|\n",
      "|Capricornis sumat...|\n",
      "|    Capricornis thar|\n",
      "|Cephalophus jentinki|\n",
      "|     Gazella cuvieri|\n",
      "|  Gazella leptoceros|\n",
      "|Hippotragus niger...|\n",
      "| Naemorhedus baileyi|\n",
      "|Naemorhedus caudatus|\n",
      "|   Naemorhedus goral|\n",
      "+--------------------+\n",
      "only showing top 20 rows\n",
      "\n"
     ]
    },
    {
     "data": {
      "text/plain": [
       "632"
      ]
     },
     "execution_count": 8,
     "metadata": {},
     "output_type": "execute_result"
    }
   ],
   "source": [
    "# import the threatened species data from appendix I\n",
    "from pyspark.sql import SparkSession\n",
    "\n",
    "spark = SparkSession.builder \\\n",
    "    .appName(\"MyApp\") \\\n",
    "    .getOrCreate()\n",
    "\n",
    "endangered_species_df = spark.read.csv('/user/yz10589_nyu_edu/Species1.csv', header=True, inferSchema=True)\n",
    "endangered_species_df.show()\n",
    "endangered_species_df.count()"
   ]
  },
  {
   "cell_type": "code",
   "execution_count": 9,
   "id": "c6a29f1b",
   "metadata": {},
   "outputs": [
    {
     "name": "stderr",
     "output_type": "stream",
     "text": [
      "                                                                                \r"
     ]
    },
    {
     "name": "stdout",
     "output_type": "stream",
     "text": [
      "+--------------------+-----+\n",
      "|             product|label|\n",
      "+--------------------+-----+\n",
      "|Canis lupus in Se...|  1.0|\n",
      "|Congo #246 EPL Pr...|  1.0|\n",
      "|Crocodile skull C...|  1.0|\n",
      "|Bra & Panty Set L...|  1.0|\n",
      "|VERKAUF 251 - Nil...|  1.0|\n",
      "|26mm XL Panatime ...|  1.0|\n",
      "|1 of 1 Crocodile ...|  1.0|\n",
      "|Men's Crossdresse...|  1.0|\n",
      "|Damen Sexy Shiny ...|  1.0|\n",
      "|Canis lupus en ve...|  1.0|\n",
      "|26mm XL Panatime ...|  1.0|\n",
      "|Crâne crocodile C...|  1.0|\n",
      "|Pantaloni da pass...|  1.0|\n",
      "|Kuscheltiere,Echt...|  1.0|\n",
      "|26mm Panatime Bro...|  1.0|\n",
      "|Sheln Heels Gold ...|  1.0|\n",
      "|2023 Brand New Pa...|  1.0|\n",
      "|ППлПсатая Ќарка О...|  1.0|\n",
      "|Canis lupus in Gr...|  1.0|\n",
      "|Lace Fishnet Herr...|  1.0|\n",
      "+--------------------+-----+\n",
      "only showing top 20 rows\n",
      "\n"
     ]
    },
    {
     "name": "stderr",
     "output_type": "stream",
     "text": [
      "                                                                                \r"
     ]
    },
    {
     "data": {
      "text/plain": [
       "417"
      ]
     },
     "execution_count": 9,
     "metadata": {},
     "output_type": "execute_result"
    }
   ],
   "source": [
    "# define the function to do the comparison that check if the ads contain threatened species information\n",
    "from pyspark.sql import SparkSession\n",
    "from pyspark.sql.functions import udf\n",
    "from pyspark.sql.types import BooleanType\n",
    "\n",
    "values_to_check = endangered_species_df.select(\"Species\").rdd.flatMap(lambda x: x).collect()\n",
    "\n",
    "def value_is_contained(val):\n",
    "    return any(x in val for x in values_to_check)\n",
    "\n",
    "value_is_contained_udf = udf(value_is_contained, BooleanType())\n",
    "\n",
    "result_df = animal_product_df.filter(value_is_contained_udf(animal_product_df.product))\n",
    "\n",
    "result_df.show()\n",
    "result_df.count()"
   ]
  },
  {
   "cell_type": "code",
   "execution_count": 10,
   "id": "82261cbb",
   "metadata": {},
   "outputs": [
    {
     "data": {
      "text/plain": [
       "0.011650648189539562"
      ]
     },
     "execution_count": 10,
     "metadata": {},
     "output_type": "execute_result"
    }
   ],
   "source": [
    "# calculation of percentage\n",
    "417/35792"
   ]
  },
  {
   "cell_type": "code",
   "execution_count": null,
   "id": "2a0303c0",
   "metadata": {},
   "outputs": [],
   "source": []
  },
  {
   "cell_type": "code",
   "execution_count": null,
   "id": "b39c1ef7",
   "metadata": {},
   "outputs": [],
   "source": []
  },
  {
   "cell_type": "code",
   "execution_count": null,
   "id": "e1bf1039",
   "metadata": {},
   "outputs": [],
   "source": []
  }
 ],
 "metadata": {
  "kernelspec": {
   "display_name": "Python 3 (ipykernel)",
   "language": "python",
   "name": "python3"
  },
  "language_info": {
   "codemirror_mode": {
    "name": "ipython",
    "version": 3
   },
   "file_extension": ".py",
   "mimetype": "text/x-python",
   "name": "python",
   "nbconvert_exporter": "python",
   "pygments_lexer": "ipython3",
   "version": "3.8.13"
  }
 },
 "nbformat": 4,
 "nbformat_minor": 5
}
